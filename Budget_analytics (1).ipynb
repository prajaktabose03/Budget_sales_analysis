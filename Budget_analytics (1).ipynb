{
 "cells": [
  {
   "cell_type": "code",
   "execution_count": 93,
   "id": "b1255861-a43a-4df6-98dc-2d1bbe44cc1a",
   "metadata": {},
   "outputs": [
    {
     "name": "stdout",
     "output_type": "stream",
     "text": [
      "Requirement already satisfied: jovian in c:\\users\\prajakta bose\\anaconda3\\lib\\site-packages (0.2.47)\n",
      "Requirement already satisfied: pyyaml in c:\\users\\prajakta bose\\anaconda3\\lib\\site-packages (from jovian) (6.0)\n",
      "Requirement already satisfied: requests in c:\\users\\prajakta bose\\anaconda3\\lib\\site-packages (from jovian) (2.26.0)\n",
      "Requirement already satisfied: click in c:\\users\\prajakta bose\\anaconda3\\lib\\site-packages (from jovian) (8.0.3)\n",
      "Requirement already satisfied: uuid in c:\\users\\prajakta bose\\anaconda3\\lib\\site-packages (from jovian) (1.30)\n",
      "Requirement already satisfied: colorama in c:\\users\\prajakta bose\\anaconda3\\lib\\site-packages (from click->jovian) (0.4.4)\n",
      "Requirement already satisfied: idna<4,>=2.5 in c:\\users\\prajakta bose\\anaconda3\\lib\\site-packages (from requests->jovian) (3.2)\n",
      "Requirement already satisfied: urllib3<1.27,>=1.21.1 in c:\\users\\prajakta bose\\anaconda3\\lib\\site-packages (from requests->jovian) (1.26.7)\n",
      "Requirement already satisfied: charset-normalizer~=2.0.0 in c:\\users\\prajakta bose\\anaconda3\\lib\\site-packages (from requests->jovian) (2.0.4)\n",
      "Requirement already satisfied: certifi>=2017.4.17 in c:\\users\\prajakta bose\\anaconda3\\lib\\site-packages (from requests->jovian) (2021.10.8)\n"
     ]
    }
   ],
   "source": [
    "!pip install openpyxl plotly -q\n",
    "!pip install jovian --upgrade"
   ]
  },
  {
   "cell_type": "code",
   "execution_count": 6,
   "id": "148f5bb4-1dd6-42f0-beab-00669e39e755",
   "metadata": {},
   "outputs": [
    {
     "data": {
      "application/javascript": [
       "if (window.IPython && IPython.notebook.kernel) IPython.notebook.kernel.execute('jovian.utils.jupyter.get_notebook_name_saved = lambda: \"' + IPython.notebook.notebook_name + '\"')"
      ],
      "text/plain": [
       "<IPython.core.display.Javascript object>"
      ]
     },
     "metadata": {},
     "output_type": "display_data"
    }
   ],
   "source": [
    "import jovian\n",
    "import pandas as pd\n",
    "import numpy as np\n",
    "import matplotlib.pyplot as plt\n",
    "import plotly.express as px\n",
    "import seaborn as sns; sns.set_theme()\n",
    "import plotly.figure_factory as ff\n",
    "from itertools import combinations\n",
    "from collections import Counter\n",
    "import datetime as dt\n",
    "import warnings\n",
    "warnings.filterwarnings('ignore')"
   ]
  },
  {
   "cell_type": "markdown",
   "id": "b92076f3-e6e6-4b4d-9973-269e6023dc46",
   "metadata": {},
   "source": [
    "# Data Wrangling"
   ]
  },
  {
   "cell_type": "code",
   "execution_count": 14,
   "id": "7d6f019e-9ece-4109-a45d-9ef5d278ea29",
   "metadata": {},
   "outputs": [],
   "source": [
    "Customers_data = pd.read_excel(r'C:\\Users\\Prajakta Bose\\AdventureWorks_Database.xlsx',\n",
    "                              'Customers',\n",
    "                              dtype={'CustomerKey':str},\n",
    "                              parse_dates=['BirthDate','DateFirstPurchase']\n",
    "                              )"
   ]
  },
  {
   "cell_type": "code",
   "execution_count": 16,
   "id": "9d433f49-a2da-4b13-bb1c-41d99de33263",
   "metadata": {},
   "outputs": [],
   "source": [
    "Product_data = pd.read_excel('C:\\\\Users\\\\Prajakta Bose\\\\AdventureWorks_Database.xlsx',\n",
    "                              'Product',\n",
    "                              dtype={'ProductKey':str},\n",
    "                              parse_dates=['StartDate']\n",
    "                              )"
   ]
  },
  {
   "cell_type": "code",
   "execution_count": 17,
   "id": "52431793-e186-4641-b1a1-0ad8806a60bb",
   "metadata": {},
   "outputs": [],
   "source": [
    "Sales_data = pd.read_excel('C:\\\\Users\\\\Prajakta Bose\\\\AdventureWorks_Database.xlsx',\n",
    "                              'Sales',\n",
    "                              dtype={'ProductKey':str,\n",
    "                                     'CustomerKey':str,\n",
    "                                     'PromotionKey':str,\n",
    "                                     'SalesTerritoryKey':str},\n",
    "                              parse_dates=['OrderDate', 'ShipDate']\n",
    "                              )\n",
    "Sales_data['DateKey'] = Sales_data['OrderDate'].astype(str)"
   ]
  },
  {
   "cell_type": "code",
   "execution_count": 18,
   "id": "30ce6fea-50af-47ee-97a5-e595bc863afc",
   "metadata": {},
   "outputs": [],
   "source": [
    "Territory_data = pd.read_excel('C:\\\\Users\\\\Prajakta Bose\\\\AdventureWorks_Database.xlsx',\n",
    "                              'Territory',\n",
    "                              dtype={'SalesTerritoryKey':str}\n",
    "                              )"
   ]
  },
  {
   "cell_type": "markdown",
   "id": "4b72b65b-699b-4a1e-8966-e963ace9877c",
   "metadata": {},
   "source": [
    "# Merging Data"
   ]
  },
  {
   "cell_type": "code",
   "execution_count": 19,
   "id": "56a4dcfa-12f8-49a6-ab8f-a4584330bf48",
   "metadata": {},
   "outputs": [],
   "source": [
    "temp_data = pd.merge(Sales_data, Product_data, on='ProductKey', how='inner')\n",
    "df = pd.merge(temp_data, Customers_data, on='CustomerKey', how='inner')\n",
    "df = pd.merge(df, Territory_data, on='SalesTerritoryKey', how='inner')"
   ]
  },
  {
   "cell_type": "markdown",
   "id": "8459bdc7-4cce-4e4b-9a17-ba7551448327",
   "metadata": {},
   "source": [
    "# Assessing Data"
   ]
  },
  {
   "cell_type": "code",
   "execution_count": 20,
   "id": "277299de-9119-4b52-8273-5d02560e9603",
   "metadata": {},
   "outputs": [
    {
     "name": "stdout",
     "output_type": "stream",
     "text": [
      "<class 'pandas.core.frame.DataFrame'>\n",
      "Int64Index: 58189 entries, 0 to 58188\n",
      "Data columns (total 58 columns):\n",
      " #   Column                Non-Null Count  Dtype         \n",
      "---  ------                --------------  -----         \n",
      " 0   ProductKey            58189 non-null  object        \n",
      " 1   OrderDate             58189 non-null  datetime64[ns]\n",
      " 2   ShipDate              58189 non-null  datetime64[ns]\n",
      " 3   CustomerKey           58189 non-null  object        \n",
      " 4   PromotionKey          58189 non-null  object        \n",
      " 5   SalesTerritoryKey     58189 non-null  object        \n",
      " 6   SalesOrderNumber      58189 non-null  object        \n",
      " 7   SalesOrderLineNumber  58189 non-null  int64         \n",
      " 8   OrderQuantity         58189 non-null  int64         \n",
      " 9   UnitPrice             58189 non-null  float64       \n",
      " 10  TotalProductCost      58189 non-null  float64       \n",
      " 11  SalesAmount           58189 non-null  float64       \n",
      " 12  TaxAmt                58189 non-null  float64       \n",
      " 13  Unnamed: 13           0 non-null      float64       \n",
      " 14  Unnamed: 14           0 non-null      float64       \n",
      " 15  Unnamed: 15           58189 non-null  float64       \n",
      " 16  Unnamed: 16           58189 non-null  float64       \n",
      " 17  Unnamed: 17           0 non-null      float64       \n",
      " 18  Unnamed: 18           58189 non-null  float64       \n",
      " 19  Unnamed: 19           0 non-null      float64       \n",
      " 20  StandardCost_x        58189 non-null  float64       \n",
      " 21  List Price            58189 non-null  float64       \n",
      " 22  Unnamed: 22           0 non-null      float64       \n",
      " 23  diif std cost         58189 non-null  int64         \n",
      " 24  diff list price       58189 non-null  int64         \n",
      " 25  DateKey               58189 non-null  object        \n",
      " 26  ProductName           58189 non-null  object        \n",
      " 27  SubCategory           58189 non-null  object        \n",
      " 28  Category              58189 non-null  object        \n",
      " 29  StandardCost_y        58189 non-null  float64       \n",
      " 30  Color                 30747 non-null  object        \n",
      " 31  ListPrice             58189 non-null  float64       \n",
      " 32  DaysToManufacture     58189 non-null  int64         \n",
      " 33  ProductLine           58189 non-null  object        \n",
      " 34  ModelName             58189 non-null  object        \n",
      " 35  Photo                 58189 non-null  object        \n",
      " 36  ProductDescription    58189 non-null  object        \n",
      " 37  StartDate             58189 non-null  datetime64[ns]\n",
      " 38  FirstName             58189 non-null  object        \n",
      " 39  LastName              58189 non-null  object        \n",
      " 40  FullName              58189 non-null  object        \n",
      " 41  BirthDate             58189 non-null  datetime64[ns]\n",
      " 42  MaritalStatus         58189 non-null  object        \n",
      " 43  Gender                58189 non-null  object        \n",
      " 44  YearlyIncome          58189 non-null  int64         \n",
      " 45  TotalChildren         58189 non-null  int64         \n",
      " 46  NumberChildrenAtHome  58189 non-null  int64         \n",
      " 47  Education             58189 non-null  object        \n",
      " 48  Occupation            58189 non-null  object        \n",
      " 49  HouseOwnerFlag        58189 non-null  int64         \n",
      " 50  NumberCarsOwned       58189 non-null  int64         \n",
      " 51  AddressLine1          58189 non-null  object        \n",
      " 52  DateFirstPurchase     58189 non-null  datetime64[ns]\n",
      " 53  CommuteDistance       58189 non-null  object        \n",
      " 54  Region                58189 non-null  object        \n",
      " 55  Country               58189 non-null  object        \n",
      " 56  Group                 58189 non-null  object        \n",
      " 57  RegionImage           58189 non-null  object        \n",
      "dtypes: datetime64[ns](5), float64(16), int64(10), object(27)\n",
      "memory usage: 26.2+ MB\n"
     ]
    }
   ],
   "source": [
    "df.info()"
   ]
  },
  {
   "cell_type": "code",
   "execution_count": 21,
   "id": "3925b277-8b04-4c48-a96e-82485fcbc639",
   "metadata": {},
   "outputs": [
    {
     "name": "stdout",
     "output_type": "stream",
     "text": [
      "Number of Rows: 58189\n",
      "Number of Columns: 58 \n",
      "\n"
     ]
    }
   ],
   "source": [
    "# Check shape of the data after merging\n",
    "print(f\"Number of Rows: {df.shape[0]}\")\n",
    "print(f\"Number of Columns: {df.shape[1]} \\n\")"
   ]
  },
  {
   "cell_type": "code",
   "execution_count": 22,
   "id": "81821245-c20f-4c1f-ba00-fbf32e407739",
   "metadata": {},
   "outputs": [
    {
     "data": {
      "text/html": [
       "<div>\n",
       "<style scoped>\n",
       "    .dataframe tbody tr th:only-of-type {\n",
       "        vertical-align: middle;\n",
       "    }\n",
       "\n",
       "    .dataframe tbody tr th {\n",
       "        vertical-align: top;\n",
       "    }\n",
       "\n",
       "    .dataframe thead th {\n",
       "        text-align: right;\n",
       "    }\n",
       "</style>\n",
       "<table border=\"1\" class=\"dataframe\">\n",
       "  <thead>\n",
       "    <tr style=\"text-align: right;\">\n",
       "      <th></th>\n",
       "      <th>count</th>\n",
       "      <th>mean</th>\n",
       "      <th>std</th>\n",
       "      <th>min</th>\n",
       "      <th>25%</th>\n",
       "      <th>50%</th>\n",
       "      <th>75%</th>\n",
       "      <th>max</th>\n",
       "    </tr>\n",
       "  </thead>\n",
       "  <tbody>\n",
       "    <tr>\n",
       "      <th>SalesOrderLineNumber</th>\n",
       "      <td>58189.0</td>\n",
       "      <td>1.887453</td>\n",
       "      <td>1.018829</td>\n",
       "      <td>1.0000</td>\n",
       "      <td>1.0000</td>\n",
       "      <td>2.0000</td>\n",
       "      <td>2.0000</td>\n",
       "      <td>8.0000</td>\n",
       "    </tr>\n",
       "    <tr>\n",
       "      <th>OrderQuantity</th>\n",
       "      <td>58189.0</td>\n",
       "      <td>1.569386</td>\n",
       "      <td>1.047532</td>\n",
       "      <td>1.0000</td>\n",
       "      <td>1.0000</td>\n",
       "      <td>1.0000</td>\n",
       "      <td>2.0000</td>\n",
       "      <td>4.0000</td>\n",
       "    </tr>\n",
       "    <tr>\n",
       "      <th>UnitPrice</th>\n",
       "      <td>58189.0</td>\n",
       "      <td>413.888218</td>\n",
       "      <td>833.052938</td>\n",
       "      <td>0.5725</td>\n",
       "      <td>4.9900</td>\n",
       "      <td>24.4900</td>\n",
       "      <td>269.9950</td>\n",
       "      <td>3578.2700</td>\n",
       "    </tr>\n",
       "    <tr>\n",
       "      <th>TotalProductCost</th>\n",
       "      <td>58189.0</td>\n",
       "      <td>296.539185</td>\n",
       "      <td>560.171436</td>\n",
       "      <td>0.8565</td>\n",
       "      <td>3.3623</td>\n",
       "      <td>12.1924</td>\n",
       "      <td>343.6496</td>\n",
       "      <td>2171.2942</td>\n",
       "    </tr>\n",
       "    <tr>\n",
       "      <th>SalesAmount</th>\n",
       "      <td>58189.0</td>\n",
       "      <td>503.666270</td>\n",
       "      <td>941.462817</td>\n",
       "      <td>2.2900</td>\n",
       "      <td>8.9900</td>\n",
       "      <td>32.6000</td>\n",
       "      <td>539.9900</td>\n",
       "      <td>3578.2700</td>\n",
       "    </tr>\n",
       "    <tr>\n",
       "      <th>TaxAmt</th>\n",
       "      <td>58189.0</td>\n",
       "      <td>40.293303</td>\n",
       "      <td>75.317027</td>\n",
       "      <td>0.1832</td>\n",
       "      <td>0.7192</td>\n",
       "      <td>2.6080</td>\n",
       "      <td>43.1992</td>\n",
       "      <td>286.2616</td>\n",
       "    </tr>\n",
       "    <tr>\n",
       "      <th>Unnamed: 13</th>\n",
       "      <td>0.0</td>\n",
       "      <td>NaN</td>\n",
       "      <td>NaN</td>\n",
       "      <td>NaN</td>\n",
       "      <td>NaN</td>\n",
       "      <td>NaN</td>\n",
       "      <td>NaN</td>\n",
       "      <td>NaN</td>\n",
       "    </tr>\n",
       "    <tr>\n",
       "      <th>Unnamed: 14</th>\n",
       "      <td>0.0</td>\n",
       "      <td>NaN</td>\n",
       "      <td>NaN</td>\n",
       "      <td>NaN</td>\n",
       "      <td>NaN</td>\n",
       "      <td>NaN</td>\n",
       "      <td>NaN</td>\n",
       "      <td>NaN</td>\n",
       "    </tr>\n",
       "    <tr>\n",
       "      <th>Unnamed: 15</th>\n",
       "      <td>58189.0</td>\n",
       "      <td>503.666269</td>\n",
       "      <td>941.462815</td>\n",
       "      <td>2.2900</td>\n",
       "      <td>8.9900</td>\n",
       "      <td>32.6000</td>\n",
       "      <td>539.9900</td>\n",
       "      <td>3578.2700</td>\n",
       "    </tr>\n",
       "    <tr>\n",
       "      <th>Unnamed: 16</th>\n",
       "      <td>58189.0</td>\n",
       "      <td>0.000001</td>\n",
       "      <td>0.000014</td>\n",
       "      <td>0.0000</td>\n",
       "      <td>0.0000</td>\n",
       "      <td>0.0000</td>\n",
       "      <td>0.0000</td>\n",
       "      <td>0.0003</td>\n",
       "    </tr>\n",
       "    <tr>\n",
       "      <th>Unnamed: 17</th>\n",
       "      <td>0.0</td>\n",
       "      <td>NaN</td>\n",
       "      <td>NaN</td>\n",
       "      <td>NaN</td>\n",
       "      <td>NaN</td>\n",
       "      <td>NaN</td>\n",
       "      <td>NaN</td>\n",
       "      <td>NaN</td>\n",
       "    </tr>\n",
       "    <tr>\n",
       "      <th>Unnamed: 18</th>\n",
       "      <td>58189.0</td>\n",
       "      <td>38.398254</td>\n",
       "      <td>667.349417</td>\n",
       "      <td>-5106.9068</td>\n",
       "      <td>1.4335</td>\n",
       "      <td>6.2537</td>\n",
       "      <td>21.9037</td>\n",
       "      <td>1487.8356</td>\n",
       "    </tr>\n",
       "    <tr>\n",
       "      <th>Unnamed: 19</th>\n",
       "      <td>0.0</td>\n",
       "      <td>NaN</td>\n",
       "      <td>NaN</td>\n",
       "      <td>NaN</td>\n",
       "      <td>NaN</td>\n",
       "      <td>NaN</td>\n",
       "      <td>NaN</td>\n",
       "      <td>NaN</td>\n",
       "    </tr>\n",
       "    <tr>\n",
       "      <th>StandardCost_x</th>\n",
       "      <td>58189.0</td>\n",
       "      <td>296.539185</td>\n",
       "      <td>560.171436</td>\n",
       "      <td>0.8565</td>\n",
       "      <td>3.3623</td>\n",
       "      <td>12.1924</td>\n",
       "      <td>343.6496</td>\n",
       "      <td>2171.2942</td>\n",
       "    </tr>\n",
       "    <tr>\n",
       "      <th>List Price</th>\n",
       "      <td>58189.0</td>\n",
       "      <td>503.666270</td>\n",
       "      <td>941.462817</td>\n",
       "      <td>2.2900</td>\n",
       "      <td>8.9900</td>\n",
       "      <td>32.6000</td>\n",
       "      <td>539.9900</td>\n",
       "      <td>3578.2700</td>\n",
       "    </tr>\n",
       "    <tr>\n",
       "      <th>Unnamed: 22</th>\n",
       "      <td>0.0</td>\n",
       "      <td>NaN</td>\n",
       "      <td>NaN</td>\n",
       "      <td>NaN</td>\n",
       "      <td>NaN</td>\n",
       "      <td>NaN</td>\n",
       "      <td>NaN</td>\n",
       "      <td>NaN</td>\n",
       "    </tr>\n",
       "    <tr>\n",
       "      <th>diif std cost</th>\n",
       "      <td>58189.0</td>\n",
       "      <td>0.000000</td>\n",
       "      <td>0.000000</td>\n",
       "      <td>0.0000</td>\n",
       "      <td>0.0000</td>\n",
       "      <td>0.0000</td>\n",
       "      <td>0.0000</td>\n",
       "      <td>0.0000</td>\n",
       "    </tr>\n",
       "    <tr>\n",
       "      <th>diff list price</th>\n",
       "      <td>58189.0</td>\n",
       "      <td>0.000000</td>\n",
       "      <td>0.000000</td>\n",
       "      <td>0.0000</td>\n",
       "      <td>0.0000</td>\n",
       "      <td>0.0000</td>\n",
       "      <td>0.0000</td>\n",
       "      <td>0.0000</td>\n",
       "    </tr>\n",
       "    <tr>\n",
       "      <th>StandardCost_y</th>\n",
       "      <td>58189.0</td>\n",
       "      <td>296.539185</td>\n",
       "      <td>560.171436</td>\n",
       "      <td>0.8565</td>\n",
       "      <td>3.3623</td>\n",
       "      <td>12.1924</td>\n",
       "      <td>343.6496</td>\n",
       "      <td>2171.2942</td>\n",
       "    </tr>\n",
       "    <tr>\n",
       "      <th>ListPrice</th>\n",
       "      <td>58189.0</td>\n",
       "      <td>503.666270</td>\n",
       "      <td>941.462817</td>\n",
       "      <td>2.2900</td>\n",
       "      <td>8.9900</td>\n",
       "      <td>32.6000</td>\n",
       "      <td>539.9900</td>\n",
       "      <td>3578.2700</td>\n",
       "    </tr>\n",
       "    <tr>\n",
       "      <th>DaysToManufacture</th>\n",
       "      <td>58189.0</td>\n",
       "      <td>1.045215</td>\n",
       "      <td>1.757395</td>\n",
       "      <td>0.0000</td>\n",
       "      <td>0.0000</td>\n",
       "      <td>0.0000</td>\n",
       "      <td>4.0000</td>\n",
       "      <td>4.0000</td>\n",
       "    </tr>\n",
       "    <tr>\n",
       "      <th>YearlyIncome</th>\n",
       "      <td>58189.0</td>\n",
       "      <td>59769.887779</td>\n",
       "      <td>33128.041818</td>\n",
       "      <td>10000.0000</td>\n",
       "      <td>30000.0000</td>\n",
       "      <td>60000.0000</td>\n",
       "      <td>80000.0000</td>\n",
       "      <td>170000.0000</td>\n",
       "    </tr>\n",
       "    <tr>\n",
       "      <th>TotalChildren</th>\n",
       "      <td>58189.0</td>\n",
       "      <td>1.838921</td>\n",
       "      <td>1.614467</td>\n",
       "      <td>0.0000</td>\n",
       "      <td>0.0000</td>\n",
       "      <td>2.0000</td>\n",
       "      <td>3.0000</td>\n",
       "      <td>5.0000</td>\n",
       "    </tr>\n",
       "    <tr>\n",
       "      <th>NumberChildrenAtHome</th>\n",
       "      <td>58189.0</td>\n",
       "      <td>1.073502</td>\n",
       "      <td>1.580055</td>\n",
       "      <td>0.0000</td>\n",
       "      <td>0.0000</td>\n",
       "      <td>0.0000</td>\n",
       "      <td>2.0000</td>\n",
       "      <td>5.0000</td>\n",
       "    </tr>\n",
       "    <tr>\n",
       "      <th>HouseOwnerFlag</th>\n",
       "      <td>58189.0</td>\n",
       "      <td>0.690560</td>\n",
       "      <td>0.462267</td>\n",
       "      <td>0.0000</td>\n",
       "      <td>0.0000</td>\n",
       "      <td>1.0000</td>\n",
       "      <td>1.0000</td>\n",
       "      <td>1.0000</td>\n",
       "    </tr>\n",
       "    <tr>\n",
       "      <th>NumberCarsOwned</th>\n",
       "      <td>58189.0</td>\n",
       "      <td>1.502466</td>\n",
       "      <td>1.155496</td>\n",
       "      <td>0.0000</td>\n",
       "      <td>1.0000</td>\n",
       "      <td>2.0000</td>\n",
       "      <td>2.0000</td>\n",
       "      <td>4.0000</td>\n",
       "    </tr>\n",
       "  </tbody>\n",
       "</table>\n",
       "</div>"
      ],
      "text/plain": [
       "                        count          mean           std         min  \\\n",
       "SalesOrderLineNumber  58189.0      1.887453      1.018829      1.0000   \n",
       "OrderQuantity         58189.0      1.569386      1.047532      1.0000   \n",
       "UnitPrice             58189.0    413.888218    833.052938      0.5725   \n",
       "TotalProductCost      58189.0    296.539185    560.171436      0.8565   \n",
       "SalesAmount           58189.0    503.666270    941.462817      2.2900   \n",
       "TaxAmt                58189.0     40.293303     75.317027      0.1832   \n",
       "Unnamed: 13               0.0           NaN           NaN         NaN   \n",
       "Unnamed: 14               0.0           NaN           NaN         NaN   \n",
       "Unnamed: 15           58189.0    503.666269    941.462815      2.2900   \n",
       "Unnamed: 16           58189.0      0.000001      0.000014      0.0000   \n",
       "Unnamed: 17               0.0           NaN           NaN         NaN   \n",
       "Unnamed: 18           58189.0     38.398254    667.349417  -5106.9068   \n",
       "Unnamed: 19               0.0           NaN           NaN         NaN   \n",
       "StandardCost_x        58189.0    296.539185    560.171436      0.8565   \n",
       "List Price            58189.0    503.666270    941.462817      2.2900   \n",
       "Unnamed: 22               0.0           NaN           NaN         NaN   \n",
       "diif std cost         58189.0      0.000000      0.000000      0.0000   \n",
       "diff list price       58189.0      0.000000      0.000000      0.0000   \n",
       "StandardCost_y        58189.0    296.539185    560.171436      0.8565   \n",
       "ListPrice             58189.0    503.666270    941.462817      2.2900   \n",
       "DaysToManufacture     58189.0      1.045215      1.757395      0.0000   \n",
       "YearlyIncome          58189.0  59769.887779  33128.041818  10000.0000   \n",
       "TotalChildren         58189.0      1.838921      1.614467      0.0000   \n",
       "NumberChildrenAtHome  58189.0      1.073502      1.580055      0.0000   \n",
       "HouseOwnerFlag        58189.0      0.690560      0.462267      0.0000   \n",
       "NumberCarsOwned       58189.0      1.502466      1.155496      0.0000   \n",
       "\n",
       "                             25%         50%         75%          max  \n",
       "SalesOrderLineNumber      1.0000      2.0000      2.0000       8.0000  \n",
       "OrderQuantity             1.0000      1.0000      2.0000       4.0000  \n",
       "UnitPrice                 4.9900     24.4900    269.9950    3578.2700  \n",
       "TotalProductCost          3.3623     12.1924    343.6496    2171.2942  \n",
       "SalesAmount               8.9900     32.6000    539.9900    3578.2700  \n",
       "TaxAmt                    0.7192      2.6080     43.1992     286.2616  \n",
       "Unnamed: 13                  NaN         NaN         NaN          NaN  \n",
       "Unnamed: 14                  NaN         NaN         NaN          NaN  \n",
       "Unnamed: 15               8.9900     32.6000    539.9900    3578.2700  \n",
       "Unnamed: 16               0.0000      0.0000      0.0000       0.0003  \n",
       "Unnamed: 17                  NaN         NaN         NaN          NaN  \n",
       "Unnamed: 18               1.4335      6.2537     21.9037    1487.8356  \n",
       "Unnamed: 19                  NaN         NaN         NaN          NaN  \n",
       "StandardCost_x            3.3623     12.1924    343.6496    2171.2942  \n",
       "List Price                8.9900     32.6000    539.9900    3578.2700  \n",
       "Unnamed: 22                  NaN         NaN         NaN          NaN  \n",
       "diif std cost             0.0000      0.0000      0.0000       0.0000  \n",
       "diff list price           0.0000      0.0000      0.0000       0.0000  \n",
       "StandardCost_y            3.3623     12.1924    343.6496    2171.2942  \n",
       "ListPrice                 8.9900     32.6000    539.9900    3578.2700  \n",
       "DaysToManufacture         0.0000      0.0000      4.0000       4.0000  \n",
       "YearlyIncome          30000.0000  60000.0000  80000.0000  170000.0000  \n",
       "TotalChildren             0.0000      2.0000      3.0000       5.0000  \n",
       "NumberChildrenAtHome      0.0000      0.0000      2.0000       5.0000  \n",
       "HouseOwnerFlag            0.0000      1.0000      1.0000       1.0000  \n",
       "NumberCarsOwned           1.0000      2.0000      2.0000       4.0000  "
      ]
     },
     "execution_count": 22,
     "metadata": {},
     "output_type": "execute_result"
    }
   ],
   "source": [
    "df.describe().transpose()"
   ]
  },
  {
   "cell_type": "code",
   "execution_count": 23,
   "id": "444ed3bc-eab9-416d-b525-c60084c4b4a3",
   "metadata": {},
   "outputs": [
    {
     "data": {
      "text/plain": [
       "0"
      ]
     },
     "execution_count": 23,
     "metadata": {},
     "output_type": "execute_result"
    }
   ],
   "source": [
    "# Check for duplicate data\n",
    "df.duplicated().sum()"
   ]
  },
  {
   "cell_type": "markdown",
   "id": "5a70dd66-fe8d-4a1b-b7ce-f16768fd325d",
   "metadata": {},
   "source": [
    "# Handling Missing Data"
   ]
  },
  {
   "cell_type": "code",
   "execution_count": 24,
   "id": "da3e6e10-01ec-4ccd-9c39-7b6d227d225c",
   "metadata": {},
   "outputs": [],
   "source": [
    "def missing_pct(df):\n",
    "    # Calculate missing value and their percentage for each column\n",
    "    missing_count_percent = df.isnull().sum() * 100 / df.shape[0]\n",
    "    df_missing_count_percent = pd.DataFrame(missing_count_percent).round(2)\n",
    "    df_missing_count_percent = df_missing_count_percent.reset_index().rename(\n",
    "                    columns={\n",
    "                            'index':'Column',\n",
    "                            0:'Missing_Percentage (%)'\n",
    "                    }\n",
    "                )\n",
    "    df_missing_value = df.isnull().sum()\n",
    "    df_missing_value = df_missing_value.reset_index().rename(\n",
    "                    columns={\n",
    "                            'index':'Column',\n",
    "                            0:'Missing_value_count'\n",
    "                    }\n",
    "                )\n",
    "    # Sort the data frame\n",
    "    #df_missing = df_missing.sort_values('Missing_Percentage (%)', ascending=False)\n",
    "    Final = df_missing_value.merge(df_missing_count_percent, how = 'inner', left_on = 'Column', right_on = 'Column')\n",
    "    Final = Final.sort_values(by = 'Missing_Percentage (%)',ascending = False)\n",
    "    return Final"
   ]
  },
  {
   "cell_type": "code",
   "execution_count": 25,
   "id": "c95a32d9-9ad9-4a57-b76c-047a838ead51",
   "metadata": {},
   "outputs": [
    {
     "data": {
      "text/html": [
       "<div>\n",
       "<style scoped>\n",
       "    .dataframe tbody tr th:only-of-type {\n",
       "        vertical-align: middle;\n",
       "    }\n",
       "\n",
       "    .dataframe tbody tr th {\n",
       "        vertical-align: top;\n",
       "    }\n",
       "\n",
       "    .dataframe thead th {\n",
       "        text-align: right;\n",
       "    }\n",
       "</style>\n",
       "<table border=\"1\" class=\"dataframe\">\n",
       "  <thead>\n",
       "    <tr style=\"text-align: right;\">\n",
       "      <th></th>\n",
       "      <th>Column</th>\n",
       "      <th>Missing_value_count</th>\n",
       "      <th>Missing_Percentage (%)</th>\n",
       "    </tr>\n",
       "  </thead>\n",
       "  <tbody>\n",
       "    <tr>\n",
       "      <th>22</th>\n",
       "      <td>Unnamed: 22</td>\n",
       "      <td>58189</td>\n",
       "      <td>100.00</td>\n",
       "    </tr>\n",
       "    <tr>\n",
       "      <th>19</th>\n",
       "      <td>Unnamed: 19</td>\n",
       "      <td>58189</td>\n",
       "      <td>100.00</td>\n",
       "    </tr>\n",
       "    <tr>\n",
       "      <th>14</th>\n",
       "      <td>Unnamed: 14</td>\n",
       "      <td>58189</td>\n",
       "      <td>100.00</td>\n",
       "    </tr>\n",
       "    <tr>\n",
       "      <th>13</th>\n",
       "      <td>Unnamed: 13</td>\n",
       "      <td>58189</td>\n",
       "      <td>100.00</td>\n",
       "    </tr>\n",
       "    <tr>\n",
       "      <th>17</th>\n",
       "      <td>Unnamed: 17</td>\n",
       "      <td>58189</td>\n",
       "      <td>100.00</td>\n",
       "    </tr>\n",
       "    <tr>\n",
       "      <th>30</th>\n",
       "      <td>Color</td>\n",
       "      <td>27442</td>\n",
       "      <td>47.16</td>\n",
       "    </tr>\n",
       "    <tr>\n",
       "      <th>0</th>\n",
       "      <td>ProductKey</td>\n",
       "      <td>0</td>\n",
       "      <td>0.00</td>\n",
       "    </tr>\n",
       "    <tr>\n",
       "      <th>42</th>\n",
       "      <td>MaritalStatus</td>\n",
       "      <td>0</td>\n",
       "      <td>0.00</td>\n",
       "    </tr>\n",
       "    <tr>\n",
       "      <th>41</th>\n",
       "      <td>BirthDate</td>\n",
       "      <td>0</td>\n",
       "      <td>0.00</td>\n",
       "    </tr>\n",
       "    <tr>\n",
       "      <th>39</th>\n",
       "      <td>LastName</td>\n",
       "      <td>0</td>\n",
       "      <td>0.00</td>\n",
       "    </tr>\n",
       "    <tr>\n",
       "      <th>40</th>\n",
       "      <td>FullName</td>\n",
       "      <td>0</td>\n",
       "      <td>0.00</td>\n",
       "    </tr>\n",
       "    <tr>\n",
       "      <th>38</th>\n",
       "      <td>FirstName</td>\n",
       "      <td>0</td>\n",
       "      <td>0.00</td>\n",
       "    </tr>\n",
       "    <tr>\n",
       "      <th>37</th>\n",
       "      <td>StartDate</td>\n",
       "      <td>0</td>\n",
       "      <td>0.00</td>\n",
       "    </tr>\n",
       "    <tr>\n",
       "      <th>36</th>\n",
       "      <td>ProductDescription</td>\n",
       "      <td>0</td>\n",
       "      <td>0.00</td>\n",
       "    </tr>\n",
       "    <tr>\n",
       "      <th>35</th>\n",
       "      <td>Photo</td>\n",
       "      <td>0</td>\n",
       "      <td>0.00</td>\n",
       "    </tr>\n",
       "    <tr>\n",
       "      <th>34</th>\n",
       "      <td>ModelName</td>\n",
       "      <td>0</td>\n",
       "      <td>0.00</td>\n",
       "    </tr>\n",
       "    <tr>\n",
       "      <th>43</th>\n",
       "      <td>Gender</td>\n",
       "      <td>0</td>\n",
       "      <td>0.00</td>\n",
       "    </tr>\n",
       "    <tr>\n",
       "      <th>44</th>\n",
       "      <td>YearlyIncome</td>\n",
       "      <td>0</td>\n",
       "      <td>0.00</td>\n",
       "    </tr>\n",
       "    <tr>\n",
       "      <th>32</th>\n",
       "      <td>DaysToManufacture</td>\n",
       "      <td>0</td>\n",
       "      <td>0.00</td>\n",
       "    </tr>\n",
       "    <tr>\n",
       "      <th>45</th>\n",
       "      <td>TotalChildren</td>\n",
       "      <td>0</td>\n",
       "      <td>0.00</td>\n",
       "    </tr>\n",
       "    <tr>\n",
       "      <th>46</th>\n",
       "      <td>NumberChildrenAtHome</td>\n",
       "      <td>0</td>\n",
       "      <td>0.00</td>\n",
       "    </tr>\n",
       "    <tr>\n",
       "      <th>47</th>\n",
       "      <td>Education</td>\n",
       "      <td>0</td>\n",
       "      <td>0.00</td>\n",
       "    </tr>\n",
       "    <tr>\n",
       "      <th>48</th>\n",
       "      <td>Occupation</td>\n",
       "      <td>0</td>\n",
       "      <td>0.00</td>\n",
       "    </tr>\n",
       "    <tr>\n",
       "      <th>49</th>\n",
       "      <td>HouseOwnerFlag</td>\n",
       "      <td>0</td>\n",
       "      <td>0.00</td>\n",
       "    </tr>\n",
       "    <tr>\n",
       "      <th>50</th>\n",
       "      <td>NumberCarsOwned</td>\n",
       "      <td>0</td>\n",
       "      <td>0.00</td>\n",
       "    </tr>\n",
       "    <tr>\n",
       "      <th>51</th>\n",
       "      <td>AddressLine1</td>\n",
       "      <td>0</td>\n",
       "      <td>0.00</td>\n",
       "    </tr>\n",
       "    <tr>\n",
       "      <th>52</th>\n",
       "      <td>DateFirstPurchase</td>\n",
       "      <td>0</td>\n",
       "      <td>0.00</td>\n",
       "    </tr>\n",
       "    <tr>\n",
       "      <th>53</th>\n",
       "      <td>CommuteDistance</td>\n",
       "      <td>0</td>\n",
       "      <td>0.00</td>\n",
       "    </tr>\n",
       "    <tr>\n",
       "      <th>54</th>\n",
       "      <td>Region</td>\n",
       "      <td>0</td>\n",
       "      <td>0.00</td>\n",
       "    </tr>\n",
       "    <tr>\n",
       "      <th>55</th>\n",
       "      <td>Country</td>\n",
       "      <td>0</td>\n",
       "      <td>0.00</td>\n",
       "    </tr>\n",
       "    <tr>\n",
       "      <th>56</th>\n",
       "      <td>Group</td>\n",
       "      <td>0</td>\n",
       "      <td>0.00</td>\n",
       "    </tr>\n",
       "    <tr>\n",
       "      <th>33</th>\n",
       "      <td>ProductLine</td>\n",
       "      <td>0</td>\n",
       "      <td>0.00</td>\n",
       "    </tr>\n",
       "    <tr>\n",
       "      <th>29</th>\n",
       "      <td>StandardCost_y</td>\n",
       "      <td>0</td>\n",
       "      <td>0.00</td>\n",
       "    </tr>\n",
       "    <tr>\n",
       "      <th>31</th>\n",
       "      <td>ListPrice</td>\n",
       "      <td>0</td>\n",
       "      <td>0.00</td>\n",
       "    </tr>\n",
       "    <tr>\n",
       "      <th>12</th>\n",
       "      <td>TaxAmt</td>\n",
       "      <td>0</td>\n",
       "      <td>0.00</td>\n",
       "    </tr>\n",
       "    <tr>\n",
       "      <th>2</th>\n",
       "      <td>ShipDate</td>\n",
       "      <td>0</td>\n",
       "      <td>0.00</td>\n",
       "    </tr>\n",
       "    <tr>\n",
       "      <th>3</th>\n",
       "      <td>CustomerKey</td>\n",
       "      <td>0</td>\n",
       "      <td>0.00</td>\n",
       "    </tr>\n",
       "    <tr>\n",
       "      <th>4</th>\n",
       "      <td>PromotionKey</td>\n",
       "      <td>0</td>\n",
       "      <td>0.00</td>\n",
       "    </tr>\n",
       "    <tr>\n",
       "      <th>5</th>\n",
       "      <td>SalesTerritoryKey</td>\n",
       "      <td>0</td>\n",
       "      <td>0.00</td>\n",
       "    </tr>\n",
       "    <tr>\n",
       "      <th>6</th>\n",
       "      <td>SalesOrderNumber</td>\n",
       "      <td>0</td>\n",
       "      <td>0.00</td>\n",
       "    </tr>\n",
       "    <tr>\n",
       "      <th>7</th>\n",
       "      <td>SalesOrderLineNumber</td>\n",
       "      <td>0</td>\n",
       "      <td>0.00</td>\n",
       "    </tr>\n",
       "    <tr>\n",
       "      <th>8</th>\n",
       "      <td>OrderQuantity</td>\n",
       "      <td>0</td>\n",
       "      <td>0.00</td>\n",
       "    </tr>\n",
       "    <tr>\n",
       "      <th>9</th>\n",
       "      <td>UnitPrice</td>\n",
       "      <td>0</td>\n",
       "      <td>0.00</td>\n",
       "    </tr>\n",
       "    <tr>\n",
       "      <th>10</th>\n",
       "      <td>TotalProductCost</td>\n",
       "      <td>0</td>\n",
       "      <td>0.00</td>\n",
       "    </tr>\n",
       "    <tr>\n",
       "      <th>11</th>\n",
       "      <td>SalesAmount</td>\n",
       "      <td>0</td>\n",
       "      <td>0.00</td>\n",
       "    </tr>\n",
       "    <tr>\n",
       "      <th>15</th>\n",
       "      <td>Unnamed: 15</td>\n",
       "      <td>0</td>\n",
       "      <td>0.00</td>\n",
       "    </tr>\n",
       "    <tr>\n",
       "      <th>1</th>\n",
       "      <td>OrderDate</td>\n",
       "      <td>0</td>\n",
       "      <td>0.00</td>\n",
       "    </tr>\n",
       "    <tr>\n",
       "      <th>16</th>\n",
       "      <td>Unnamed: 16</td>\n",
       "      <td>0</td>\n",
       "      <td>0.00</td>\n",
       "    </tr>\n",
       "    <tr>\n",
       "      <th>18</th>\n",
       "      <td>Unnamed: 18</td>\n",
       "      <td>0</td>\n",
       "      <td>0.00</td>\n",
       "    </tr>\n",
       "    <tr>\n",
       "      <th>20</th>\n",
       "      <td>StandardCost_x</td>\n",
       "      <td>0</td>\n",
       "      <td>0.00</td>\n",
       "    </tr>\n",
       "    <tr>\n",
       "      <th>21</th>\n",
       "      <td>List Price</td>\n",
       "      <td>0</td>\n",
       "      <td>0.00</td>\n",
       "    </tr>\n",
       "    <tr>\n",
       "      <th>23</th>\n",
       "      <td>diif std cost</td>\n",
       "      <td>0</td>\n",
       "      <td>0.00</td>\n",
       "    </tr>\n",
       "    <tr>\n",
       "      <th>24</th>\n",
       "      <td>diff list price</td>\n",
       "      <td>0</td>\n",
       "      <td>0.00</td>\n",
       "    </tr>\n",
       "    <tr>\n",
       "      <th>25</th>\n",
       "      <td>DateKey</td>\n",
       "      <td>0</td>\n",
       "      <td>0.00</td>\n",
       "    </tr>\n",
       "    <tr>\n",
       "      <th>26</th>\n",
       "      <td>ProductName</td>\n",
       "      <td>0</td>\n",
       "      <td>0.00</td>\n",
       "    </tr>\n",
       "    <tr>\n",
       "      <th>27</th>\n",
       "      <td>SubCategory</td>\n",
       "      <td>0</td>\n",
       "      <td>0.00</td>\n",
       "    </tr>\n",
       "    <tr>\n",
       "      <th>28</th>\n",
       "      <td>Category</td>\n",
       "      <td>0</td>\n",
       "      <td>0.00</td>\n",
       "    </tr>\n",
       "    <tr>\n",
       "      <th>57</th>\n",
       "      <td>RegionImage</td>\n",
       "      <td>0</td>\n",
       "      <td>0.00</td>\n",
       "    </tr>\n",
       "  </tbody>\n",
       "</table>\n",
       "</div>"
      ],
      "text/plain": [
       "                  Column  Missing_value_count  Missing_Percentage (%)\n",
       "22           Unnamed: 22                58189                  100.00\n",
       "19           Unnamed: 19                58189                  100.00\n",
       "14           Unnamed: 14                58189                  100.00\n",
       "13           Unnamed: 13                58189                  100.00\n",
       "17           Unnamed: 17                58189                  100.00\n",
       "30                 Color                27442                   47.16\n",
       "0             ProductKey                    0                    0.00\n",
       "42         MaritalStatus                    0                    0.00\n",
       "41             BirthDate                    0                    0.00\n",
       "39              LastName                    0                    0.00\n",
       "40              FullName                    0                    0.00\n",
       "38             FirstName                    0                    0.00\n",
       "37             StartDate                    0                    0.00\n",
       "36    ProductDescription                    0                    0.00\n",
       "35                 Photo                    0                    0.00\n",
       "34             ModelName                    0                    0.00\n",
       "43                Gender                    0                    0.00\n",
       "44          YearlyIncome                    0                    0.00\n",
       "32     DaysToManufacture                    0                    0.00\n",
       "45         TotalChildren                    0                    0.00\n",
       "46  NumberChildrenAtHome                    0                    0.00\n",
       "47             Education                    0                    0.00\n",
       "48            Occupation                    0                    0.00\n",
       "49        HouseOwnerFlag                    0                    0.00\n",
       "50       NumberCarsOwned                    0                    0.00\n",
       "51          AddressLine1                    0                    0.00\n",
       "52     DateFirstPurchase                    0                    0.00\n",
       "53       CommuteDistance                    0                    0.00\n",
       "54                Region                    0                    0.00\n",
       "55               Country                    0                    0.00\n",
       "56                 Group                    0                    0.00\n",
       "33           ProductLine                    0                    0.00\n",
       "29        StandardCost_y                    0                    0.00\n",
       "31             ListPrice                    0                    0.00\n",
       "12                TaxAmt                    0                    0.00\n",
       "2               ShipDate                    0                    0.00\n",
       "3            CustomerKey                    0                    0.00\n",
       "4           PromotionKey                    0                    0.00\n",
       "5      SalesTerritoryKey                    0                    0.00\n",
       "6       SalesOrderNumber                    0                    0.00\n",
       "7   SalesOrderLineNumber                    0                    0.00\n",
       "8          OrderQuantity                    0                    0.00\n",
       "9              UnitPrice                    0                    0.00\n",
       "10      TotalProductCost                    0                    0.00\n",
       "11           SalesAmount                    0                    0.00\n",
       "15           Unnamed: 15                    0                    0.00\n",
       "1              OrderDate                    0                    0.00\n",
       "16           Unnamed: 16                    0                    0.00\n",
       "18           Unnamed: 18                    0                    0.00\n",
       "20        StandardCost_x                    0                    0.00\n",
       "21            List Price                    0                    0.00\n",
       "23         diif std cost                    0                    0.00\n",
       "24       diff list price                    0                    0.00\n",
       "25               DateKey                    0                    0.00\n",
       "26           ProductName                    0                    0.00\n",
       "27           SubCategory                    0                    0.00\n",
       "28              Category                    0                    0.00\n",
       "57           RegionImage                    0                    0.00"
      ]
     },
     "execution_count": 25,
     "metadata": {},
     "output_type": "execute_result"
    }
   ],
   "source": [
    "# Applying the custom function\n",
    "missing_pct(df)"
   ]
  },
  {
   "cell_type": "code",
   "execution_count": 26,
   "id": "606a4f95-d3a7-49c7-a3bb-8a3c7e594c14",
   "metadata": {},
   "outputs": [],
   "source": [
    "#  Drop columns with nan values\n",
    "df= df.dropna(axis=1)"
   ]
  },
  {
   "cell_type": "markdown",
   "id": "c13fa67c-dd14-42df-9827-6f9c59034b86",
   "metadata": {},
   "source": [
    "Adding columns"
   ]
  },
  {
   "cell_type": "code",
   "execution_count": 27,
   "id": "3fa8a0ef-718a-4c91-a692-a1215add222e",
   "metadata": {},
   "outputs": [],
   "source": [
    "# Extracting Year from OrderDate\n",
    "df['sale_year'] = df['OrderDate'].dt.year\n",
    "\n",
    "# Extracting Month from OrderDate\n",
    "df['sale_month'] = df['OrderDate'].dt.month\n",
    "\n",
    "# Extracting day from OrderDate\n",
    "df['sale_day'] = df['OrderDate'].dt.day\n",
    "\n",
    "# Extracting dayofweek from OrderDate\n",
    "df['sale_week'] = df['OrderDate'].dt.dayofweek\n",
    "\n",
    "# Extracting day_name from OrderDate\n",
    "df['sale_day_name'] = df['OrderDate'].dt.day_name()\n",
    "\n",
    "# Extracting Month Year from OrderDate\n",
    "df['year_month'] = df['OrderDate'].apply(lambda x:x.strftime('%Y-%m'))\n",
    "\n",
    "# Calculate Total Invoice Amount\n",
    "df['total_Invoice_amount'] = df['SalesAmount'] + df['TaxAmt']\n",
    "\n",
    "# Considering only salesamount and total_sales_amount to calculate profit \n",
    "df['profit'] = (df['UnitPrice']*df['OrderQuantity']) - df['TotalProductCost']\n",
    "\n",
    "# Removing extra character from the string\n",
    "df['ProductName'] = df['ProductName'].str.replace(',','-')\n",
    "\n",
    "# Calculate Age\n",
    "df['Age'] = df['OrderDate'].dt.year - df['BirthDate'].dt.year"
   ]
  },
  {
   "cell_type": "markdown",
   "id": "416c31a1-0795-4362-bdc1-5a2982cc9748",
   "metadata": {},
   "source": [
    "# Exploration of data"
   ]
  },
  {
   "cell_type": "markdown",
   "id": "8c931fb4-78a8-49ac-a827-055c1f2d2060",
   "metadata": {},
   "source": [
    "List of product category"
   ]
  },
  {
   "cell_type": "code",
   "execution_count": 28,
   "id": "24572dd3-c8ed-4002-92f3-bf5c624ab3a2",
   "metadata": {},
   "outputs": [
    {
     "data": {
      "text/plain": [
       "['Bikes', 'Accessories', 'Clothing']"
      ]
     },
     "execution_count": 28,
     "metadata": {},
     "output_type": "execute_result"
    }
   ],
   "source": [
    "df['Category'].unique().tolist()"
   ]
  },
  {
   "cell_type": "markdown",
   "id": "dea34eb5-fff1-4d39-b20d-092a9de158ea",
   "metadata": {},
   "source": [
    "List of Products Subcategory"
   ]
  },
  {
   "cell_type": "code",
   "execution_count": 30,
   "id": "c9902078-9ca4-4ad9-968a-8a1f03604438",
   "metadata": {},
   "outputs": [
    {
     "data": {
      "text/plain": [
       "['Road Bikes',\n",
       " 'Mountain Bikes',\n",
       " 'Bottles and Cages',\n",
       " 'Gloves',\n",
       " 'Tires and Tubes',\n",
       " 'Helmets',\n",
       " 'Touring Bikes',\n",
       " 'Jerseys',\n",
       " 'Cleaners',\n",
       " 'Caps',\n",
       " 'Hydration Packs',\n",
       " 'Socks',\n",
       " 'Fenders',\n",
       " 'Vests',\n",
       " 'Bike Racks',\n",
       " 'Bike Stands',\n",
       " 'Shorts']"
      ]
     },
     "execution_count": 30,
     "metadata": {},
     "output_type": "execute_result"
    }
   ],
   "source": [
    "df['SubCategory'].unique().tolist()"
   ]
  },
  {
   "cell_type": "markdown",
   "id": "f8015699-931b-4503-86d6-e2ad1367e889",
   "metadata": {},
   "source": [
    "Analysing Unit price"
   ]
  },
  {
   "cell_type": "code",
   "execution_count": 31,
   "id": "ababc4c2-e13b-46dd-973d-d8e094d95991",
   "metadata": {},
   "outputs": [
    {
     "data": {
      "image/png": "[encoded data removed]",
      "text/plain": [
       "<Figure size 432x288 with 1 Axes>"
      ]
     },
     "metadata": {},
     "output_type": "display_data"
    }
   ],
   "source": [
    "Avg_unit_price = df.groupby(['ProductKey'])['UnitPrice'].mean()\n",
    "ax = sns.distplot(Avg_unit_price, kde=True, hist=True, color='#374045')\n",
    "ax.set(title='Distribution of Average unit price',\n",
    "       xlabel='Average Unit Price');"
   ]
  },
  {
   "cell_type": "markdown",
   "id": "7cb94b3b-ac4d-428d-a4d9-02fb999b81cc",
   "metadata": {},
   "source": [
    "Maximum of the product unit price is below ₹1000"
   ]
  },
  {
   "cell_type": "markdown",
   "id": "bcf9de50-4409-46ea-87da-02f14dd564b8",
   "metadata": {},
   "source": [
    "# Sales order number Distribution"
   ]
  },
  {
   "cell_type": "code",
   "execution_count": 33,
   "id": "31ae5bce-30ce-4294-b1e9-78ff22334f13",
   "metadata": {},
   "outputs": [
    {
     "name": "stdout",
     "output_type": "stream",
     "text": [
      "36.97% of customers ordered more than once.\n"
     ]
    }
   ],
   "source": [
    "n_orders = df.groupby(['CustomerKey'])['SalesOrderNumber'].nunique()\n",
    "multi_orders_perc = np.sum(n_orders > 1)/df['CustomerKey'].nunique()\n",
    "print(f\"{100*multi_orders_perc:.2f}% of customers ordered more than once.\")"
   ]
  },
  {
   "cell_type": "code",
   "execution_count": 34,
   "id": "f5ae59d6-1bbe-4838-90f3-86b5c13c6f18",
   "metadata": {},
   "outputs": [
    {
     "data": {
      "image/png": "[encoded data removed]",
      "text/plain": [
       "<Figure size 432x288 with 1 Axes>"
      ]
     },
     "metadata": {},
     "output_type": "display_data"
    }
   ],
   "source": [
    "ax = sns.distplot(n_orders, kde=False, color='#374045')\n",
    "ax.set(title='Distribution of number of orders per customer',\n",
    "       xlabel='# of orders',\n",
    "       ylabel='# of customers');"
   ]
  },
  {
   "cell_type": "markdown",
   "id": "b39d1565-84b6-47e1-b546-f86991d21118",
   "metadata": {},
   "source": [
    "Sales Order Line number distribution"
   ]
  },
  {
   "cell_type": "code",
   "execution_count": 35,
   "id": "3e355e68-1d54-400f-9a54-53ddacf80ad5",
   "metadata": {},
   "outputs": [
    {
     "data": {
      "image/png": "[encoded data removed]",
      "text/plain": [
       "<Figure size 432x288 with 1 Axes>"
      ]
     },
     "metadata": {},
     "output_type": "display_data"
    }
   ],
   "source": [
    "n_salesordernumber = df.groupby(['SalesOrderNumber'])['SalesOrderLineNumber'].transform('max')\n",
    "ax = sns.distplot(n_salesordernumber, kde=False, color='#374045')\n",
    "ax.set(title='Distribution of sales order line number',\n",
    "       xlabel='# of Sales order line number',\n",
    "       ylabel='# of orders');"
   ]
  },
  {
   "cell_type": "markdown",
   "id": "34b37e25-ebd4-45c4-8048-bba979e4e84c",
   "metadata": {},
   "source": [
    "Most of these three to two products are ordered in a single order"
   ]
  },
  {
   "cell_type": "markdown",
   "id": "1d539a69-9970-4861-bed0-50d7b91bf96c",
   "metadata": {},
   "source": [
    "# Sales order quatity distribution"
   ]
  },
  {
   "cell_type": "code",
   "execution_count": 37,
   "id": "620d3663-61b1-40e8-a4e1-d5b3de2f4db7",
   "metadata": {},
   "outputs": [
    {
     "data": {
      "image/png": "[encoded data removed]",
      "text/plain": [
       "<Figure size 432x288 with 1 Axes>"
      ]
     },
     "metadata": {},
     "output_type": "display_data"
    }
   ],
   "source": [
    "n_order_quantity = df.groupby(['SalesOrderNumber'])['OrderQuantity'].sum()\n",
    "ax = sns.distplot(n_order_quantity, kde=True, hist=True,color='#374045')\n",
    "ax.set(title='Distribution of order_quantity',\n",
    "       xlabel='# of order_quantity', );"
   ]
  },
  {
   "cell_type": "markdown",
   "id": "593205b0-716c-4692-885c-91ff1328ed35",
   "metadata": {},
   "source": [
    "Age distribution"
   ]
  },
  {
   "cell_type": "code",
   "execution_count": 39,
   "id": "d0056599-42c4-4546-abf3-ed224923170d",
   "metadata": {
    "collapsed": true,
    "jupyter": {
     "outputs_hidden": true
    },
    "tags": []
   },
   "outputs": [
    {
     "data": {
      "application/vnd.plotly.v1+json": {
       "config": {
        "plotlyServerURL": "https://plot.ly"
       },
       "data": [
        {
         "alignmentgroup": "True",
         "hovertemplate": "Age Range=%{x}<br>Population count=%{y}<extra></extra>",
         "legendgroup": "",
         "marker": {
          "color": "#374045",
          "pattern": {
           "shape": ""
          }
         },
         "name": "",
         "offsetgroup": "",
         "orientation": "v",
         "showlegend": false,
         "textposition": "auto",
         "type": "bar",
         "x": [
          "40-49",
          "50-59",
          "60-69",
          "70+",
          "30-39",
          "18-29"
         ],
         "xaxis": "x",
         "y": [
          19475,
          17621,
          10328,
          5452,
          5313,
          0
         ],
         "yaxis": "y"
        }
       ],
       "layout": {
        "autosize": true,
        "barmode": "relative",
        "font": {
         "size": 10
        },
        "height": 500,
        "legend": {
         "tracegroupgap": 0
        },
        "margin": {
         "t": 60
        },
        "template": {
         "data": {
          "bar": [
           {
            "error_x": {
             "color": "#2a3f5f"
            },
            "error_y": {
             "color": "#2a3f5f"
            },
            "marker": {
             "line": {
              "color": "#E5ECF6",
              "width": 0.5
             },
             "pattern": {
              "fillmode": "overlay",
              "size": 10,
              "solidity": 0.2
             }
            },
            "type": "bar"
           }
          ],
          "barpolar": [
           {
            "marker": {
             "line": {
              "color": "#E5ECF6",
              "width": 0.5
             },
             "pattern": {
              "fillmode": "overlay",
              "size": 10,
              "solidity": 0.2
             }
            },
            "type": "barpolar"
           }
          ],
          "carpet": [
           {
            "aaxis": {
             "endlinecolor": "#2a3f5f",
             "gridcolor": "white",
             "linecolor": "white",
             "minorgridcolor": "white",
             "startlinecolor": "#2a3f5f"
            },
            "baxis": {
             "endlinecolor": "#2a3f5f",
             "gridcolor": "white",
             "linecolor": "white",
             "minorgridcolor": "white",
             "startlinecolor": "#2a3f5f"
            },
            "type": "carpet"
           }
          ],
          "choropleth": [
           {
            "colorbar": {
             "outlinewidth": 0,
             "ticks": ""
            },
            "type": "choropleth"
           }
          ],
          "contour": [
           {
            "colorbar": {
             "outlinewidth": 0,
             "ticks": ""
            },
            "colorscale": [
             [
              0,
              "#0d0887"
             ],
             [
              0.1111111111111111,
              "#46039f"
             ],
             [
              0.2222222222222222,
              "#7201a8"
             ],
             [
              0.3333333333333333,
              "#9c179e"
             ],
             [
              0.4444444444444444,
              "#bd3786"
             ],
             [
              0.5555555555555556,
              "#d8576b"
             ],
             [
              0.6666666666666666,
              "#ed7953"
             ],
             [
              0.7777777777777778,
              "#fb9f3a"
             ],
             [
              0.8888888888888888,
              "#fdca26"
             ],
             [
              1,
              "#f0f921"
             ]
            ],
            "type": "contour"
           }
          ],
          "contourcarpet": [
           {
            "colorbar": {
             "outlinewidth": 0,
             "ticks": ""
            },
            "type": "contourcarpet"
           }
          ],
          "heatmap": [
           {
            "colorbar": {
             "outlinewidth": 0,
             "ticks": ""
            },
            "colorscale": [
             [
              0,
              "#0d0887"
             ],
             [
              0.1111111111111111,
              "#46039f"
             ],
             [
              0.2222222222222222,
              "#7201a8"
             ],
             [
              0.3333333333333333,
              "#9c179e"
             ],
             [
              0.4444444444444444,
              "#bd3786"
             ],
             [
              0.5555555555555556,
              "#d8576b"
             ],
             [
              0.6666666666666666,
              "#ed7953"
             ],
             [
              0.7777777777777778,
              "#fb9f3a"
             ],
             [
              0.8888888888888888,
              "#fdca26"
             ],
             [
              1,
              "#f0f921"
             ]
            ],
            "type": "heatmap"
           }
          ],
          "heatmapgl": [
           {
            "colorbar": {
             "outlinewidth": 0,
             "ticks": ""
            },
            "colorscale": [
             [
              0,
              "#0d0887"
             ],
             [
              0.1111111111111111,
              "#46039f"
             ],
             [
              0.2222222222222222,
              "#7201a8"
             ],
             [
              0.3333333333333333,
              "#9c179e"
             ],
             [
              0.4444444444444444,
              "#bd3786"
             ],
             [
              0.5555555555555556,
              "#d8576b"
             ],
             [
              0.6666666666666666,
              "#ed7953"
             ],
             [
              0.7777777777777778,
              "#fb9f3a"
             ],
             [
              0.8888888888888888,
              "#fdca26"
             ],
             [
              1,
              "#f0f921"
             ]
            ],
            "type": "heatmapgl"
           }
          ],
          "histogram": [
           {
            "marker": {
             "pattern": {
              "fillmode": "overlay",
              "size": 10,
              "solidity": 0.2
             }
            },
            "type": "histogram"
           }
          ],
          "histogram2d": [
           {
            "colorbar": {
             "outlinewidth": 0,
             "ticks": ""
            },
            "colorscale": [
             [
              0,
              "#0d0887"
             ],
             [
              0.1111111111111111,
              "#46039f"
             ],
             [
              0.2222222222222222,
              "#7201a8"
             ],
             [
              0.3333333333333333,
              "#9c179e"
             ],
             [
              0.4444444444444444,
              "#bd3786"
             ],
             [
              0.5555555555555556,
              "#d8576b"
             ],
             [
              0.6666666666666666,
              "#ed7953"
             ],
             [
              0.7777777777777778,
              "#fb9f3a"
             ],
             [
              0.8888888888888888,
              "#fdca26"
             ],
             [
              1,
              "#f0f921"
             ]
            ],
            "type": "histogram2d"
           }
          ],
          "histogram2dcontour": [
           {
            "colorbar": {
             "outlinewidth": 0,
             "ticks": ""
            },
            "colorscale": [
             [
              0,
              "#0d0887"
             ],
             [
              0.1111111111111111,
              "#46039f"
             ],
             [
              0.2222222222222222,
              "#7201a8"
             ],
             [
              0.3333333333333333,
              "#9c179e"
             ],
             [
              0.4444444444444444,
              "#bd3786"
             ],
             [
              0.5555555555555556,
              "#d8576b"
             ],
             [
              0.6666666666666666,
              "#ed7953"
             ],
             [
              0.7777777777777778,
              "#fb9f3a"
             ],
             [
              0.8888888888888888,
              "#fdca26"
             ],
             [
              1,
              "#f0f921"
             ]
            ],
            "type": "histogram2dcontour"
           }
          ],
          "mesh3d": [
           {
            "colorbar": {
             "outlinewidth": 0,
             "ticks": ""
            },
            "type": "mesh3d"
           }
          ],
          "parcoords": [
           {
            "line": {
             "colorbar": {
              "outlinewidth": 0,
              "ticks": ""
             }
            },
            "type": "parcoords"
           }
          ],
          "pie": [
           {
            "automargin": true,
            "type": "pie"
           }
          ],
          "scatter": [
           {
            "fillpattern": {
             "fillmode": "overlay",
             "size": 10,
             "solidity": 0.2
            },
            "type": "scatter"
           }
          ],
          "scatter3d": [
           {
            "line": {
             "colorbar": {
              "outlinewidth": 0,
              "ticks": ""
             }
            },
            "marker": {
             "colorbar": {
              "outlinewidth": 0,
              "ticks": ""
             }
            },
            "type": "scatter3d"
           }
          ],
          "scattercarpet": [
           {
            "marker": {
             "colorbar": {
              "outlinewidth": 0,
              "ticks": ""
             }
            },
            "type": "scattercarpet"
           }
          ],
          "scattergeo": [
           {
            "marker": {
             "colorbar": {
              "outlinewidth": 0,
              "ticks": ""
             }
            },
            "type": "scattergeo"
           }
          ],
          "scattergl": [
           {
            "marker": {
             "colorbar": {
              "outlinewidth": 0,
              "ticks": ""
             }
            },
            "type": "scattergl"
           }
          ],
          "scattermapbox": [
           {
            "marker": {
             "colorbar": {
              "outlinewidth": 0,
              "ticks": ""
             }
            },
            "type": "scattermapbox"
           }
          ],
          "scatterpolar": [
           {
            "marker": {
             "colorbar": {
              "outlinewidth": 0,
              "ticks": ""
             }
            },
            "type": "scatterpolar"
           }
          ],
          "scatterpolargl": [
           {
            "marker": {
             "colorbar": {
              "outlinewidth": 0,
              "ticks": ""
             }
            },
            "type": "scatterpolargl"
           }
          ],
          "scatterternary": [
           {
            "marker": {
             "colorbar": {
              "outlinewidth": 0,
              "ticks": ""
             }
            },
            "type": "scatterternary"
           }
          ],
          "surface": [
           {
            "colorbar": {
             "outlinewidth": 0,
             "ticks": ""
            },
            "colorscale": [
             [
              0,
              "#0d0887"
             ],
             [
              0.1111111111111111,
              "#46039f"
             ],
             [
              0.2222222222222222,
              "#7201a8"
             ],
             [
              0.3333333333333333,
              "#9c179e"
             ],
             [
              0.4444444444444444,
              "#bd3786"
             ],
             [
              0.5555555555555556,
              "#d8576b"
             ],
             [
              0.6666666666666666,
              "#ed7953"
             ],
             [
              0.7777777777777778,
              "#fb9f3a"
             ],
             [
              0.8888888888888888,
              "#fdca26"
             ],
             [
              1,
              "#f0f921"
             ]
            ],
            "type": "surface"
           }
          ],
          "table": [
           {
            "cells": {
             "fill": {
              "color": "#EBF0F8"
             },
             "line": {
              "color": "white"
             }
            },
            "header": {
             "fill": {
              "color": "#C8D4E3"
             },
             "line": {
              "color": "white"
             }
            },
            "type": "table"
           }
          ]
         },
         "layout": {
          "annotationdefaults": {
           "arrowcolor": "#2a3f5f",
           "arrowhead": 0,
           "arrowwidth": 1
          },
          "autotypenumbers": "strict",
          "coloraxis": {
           "colorbar": {
            "outlinewidth": 0,
            "ticks": ""
           }
          },
          "colorscale": {
           "diverging": [
            [
             0,
             "#8e0152"
            ],
            [
             0.1,
             "#c51b7d"
            ],
            [
             0.2,
             "#de77ae"
            ],
            [
             0.3,
             "#f1b6da"
            ],
            [
             0.4,
             "#fde0ef"
            ],
            [
             0.5,
             "#f7f7f7"
            ],
            [
             0.6,
             "#e6f5d0"
            ],
            [
             0.7,
             "#b8e186"
            ],
            [
             0.8,
             "#7fbc41"
            ],
            [
             0.9,
             "#4d9221"
            ],
            [
             1,
             "#276419"
            ]
           ],
           "sequential": [
            [
             0,
             "#0d0887"
            ],
            [
             0.1111111111111111,
             "#46039f"
            ],
            [
             0.2222222222222222,
             "#7201a8"
            ],
            [
             0.3333333333333333,
             "#9c179e"
            ],
            [
             0.4444444444444444,
             "#bd3786"
            ],
            [
             0.5555555555555556,
             "#d8576b"
            ],
            [
             0.6666666666666666,
             "#ed7953"
            ],
            [
             0.7777777777777778,
             "#fb9f3a"
            ],
            [
             0.8888888888888888,
             "#fdca26"
            ],
            [
             1,
             "#f0f921"
            ]
           ],
           "sequentialminus": [
            [
             0,
             "#0d0887"
            ],
            [
             0.1111111111111111,
             "#46039f"
            ],
            [
             0.2222222222222222,
             "#7201a8"
            ],
            [
             0.3333333333333333,
             "#9c179e"
            ],
            [
             0.4444444444444444,
             "#bd3786"
            ],
            [
             0.5555555555555556,
             "#d8576b"
            ],
            [
             0.6666666666666666,
             "#ed7953"
            ],
            [
             0.7777777777777778,
             "#fb9f3a"
            ],
            [
             0.8888888888888888,
             "#fdca26"
            ],
            [
             1,
             "#f0f921"
            ]
           ]
          },
          "colorway": [
           "#636efa",
           "#EF553B",
           "#00cc96",
           "#ab63fa",
           "#FFA15A",
           "#19d3f3",
           "#FF6692",
           "#B6E880",
           "#FF97FF",
           "#FECB52"
          ],
          "font": {
           "color": "#2a3f5f"
          },
          "geo": {
           "bgcolor": "white",
           "lakecolor": "white",
           "landcolor": "#E5ECF6",
           "showlakes": true,
           "showland": true,
           "subunitcolor": "white"
          },
          "hoverlabel": {
           "align": "left"
          },
          "hovermode": "closest",
          "mapbox": {
           "style": "light"
          },
          "paper_bgcolor": "white",
          "plot_bgcolor": "#E5ECF6",
          "polar": {
           "angularaxis": {
            "gridcolor": "white",
            "linecolor": "white",
            "ticks": ""
           },
           "bgcolor": "#E5ECF6",
           "radialaxis": {
            "gridcolor": "white",
            "linecolor": "white",
            "ticks": ""
           }
          },
          "scene": {
           "xaxis": {
            "backgroundcolor": "#E5ECF6",
            "gridcolor": "white",
            "gridwidth": 2,
            "linecolor": "white",
            "showbackground": true,
            "ticks": "",
            "zerolinecolor": "white"
           },
           "yaxis": {
            "backgroundcolor": "#E5ECF6",
            "gridcolor": "white",
            "gridwidth": 2,
            "linecolor": "white",
            "showbackground": true,
            "ticks": "",
            "zerolinecolor": "white"
           },
           "zaxis": {
            "backgroundcolor": "#E5ECF6",
            "gridcolor": "white",
            "gridwidth": 2,
            "linecolor": "white",
            "showbackground": true,
            "ticks": "",
            "zerolinecolor": "white"
           }
          },
          "shapedefaults": {
           "line": {
            "color": "#2a3f5f"
           }
          },
          "ternary": {
           "aaxis": {
            "gridcolor": "white",
            "linecolor": "white",
            "ticks": ""
           },
           "baxis": {
            "gridcolor": "white",
            "linecolor": "white",
            "ticks": ""
           },
           "bgcolor": "#E5ECF6",
           "caxis": {
            "gridcolor": "white",
            "linecolor": "white",
            "ticks": ""
           }
          },
          "title": {
           "x": 0.05
          },
          "xaxis": {
           "automargin": true,
           "gridcolor": "white",
           "linecolor": "white",
           "ticks": "",
           "title": {
            "standoff": 15
           },
           "zerolinecolor": "white",
           "zerolinewidth": 2
          },
          "yaxis": {
           "automargin": true,
           "gridcolor": "white",
           "linecolor": "white",
           "ticks": "",
           "title": {
            "standoff": 15
           },
           "zerolinecolor": "white",
           "zerolinewidth": 2
          }
         }
        },
        "width": 500,
        "xaxis": {
         "anchor": "y",
         "autorange": true,
         "domain": [
          0,
          1
         ],
         "range": [
          -0.5,
          5.5
         ],
         "title": {
          "text": "Age Range"
         },
         "type": "category"
        },
        "yaxis": {
         "anchor": "x",
         "autorange": true,
         "domain": [
          0,
          1
         ],
         "range": [
          0,
          20500
         ],
         "title": {
          "text": "Population count"
         },
         "type": "linear"
        }
       }
      },
      "text/html": [
       "<div>                            <div id=\"348ab94d-e1f8-44e3-8d2a-81f350b63db5\" class=\"plotly-graph-div\" style=\"height:500px; width:500px;\"></div>            <script type=\"text/javascript\">                require([\"plotly\"], function(Plotly) {                    window.PLOTLYENV=window.PLOTLYENV || {};                                    if (document.getElementById(\"348ab94d-e1f8-44e3-8d2a-81f350b63db5\")) {                    Plotly.newPlot(                        \"348ab94d-e1f8-44e3-8d2a-81f350b63db5\",                        [{\"alignmentgroup\":\"True\",\"hovertemplate\":\"Age Range=%{x}\\u003cbr\\u003ePopulation count=%{y}\\u003cextra\\u003e\\u003c\\u002fextra\\u003e\",\"legendgroup\":\"\",\"marker\":{\"color\":\"#374045\",\"pattern\":{\"shape\":\"\"}},\"name\":\"\",\"offsetgroup\":\"\",\"orientation\":\"v\",\"showlegend\":false,\"textposition\":\"auto\",\"x\":[\"40-49\",\"50-59\",\"60-69\",\"70+\",\"30-39\",\"18-29\"],\"xaxis\":\"x\",\"y\":[19475,17621,10328,5452,5313,0],\"yaxis\":\"y\",\"type\":\"bar\"}],                        {\"template\":{\"data\":{\"histogram2dcontour\":[{\"type\":\"histogram2dcontour\",\"colorbar\":{\"outlinewidth\":0,\"ticks\":\"\"},\"colorscale\":[[0.0,\"#0d0887\"],[0.1111111111111111,\"#46039f\"],[0.2222222222222222,\"#7201a8\"],[0.3333333333333333,\"#9c179e\"],[0.4444444444444444,\"#bd3786\"],[0.5555555555555556,\"#d8576b\"],[0.6666666666666666,\"#ed7953\"],[0.7777777777777778,\"#fb9f3a\"],[0.8888888888888888,\"#fdca26\"],[1.0,\"#f0f921\"]]}],\"choropleth\":[{\"type\":\"choropleth\",\"colorbar\":{\"outlinewidth\":0,\"ticks\":\"\"}}],\"histogram2d\":[{\"type\":\"histogram2d\",\"colorbar\":{\"outlinewidth\":0,\"ticks\":\"\"},\"colorscale\":[[0.0,\"#0d0887\"],[0.1111111111111111,\"#46039f\"],[0.2222222222222222,\"#7201a8\"],[0.3333333333333333,\"#9c179e\"],[0.4444444444444444,\"#bd3786\"],[0.5555555555555556,\"#d8576b\"],[0.6666666666666666,\"#ed7953\"],[0.7777777777777778,\"#fb9f3a\"],[0.8888888888888888,\"#fdca26\"],[1.0,\"#f0f921\"]]}],\"heatmap\":[{\"type\":\"heatmap\",\"colorbar\":{\"outlinewidth\":0,\"ticks\":\"\"},\"colorscale\":[[0.0,\"#0d0887\"],[0.1111111111111111,\"#46039f\"],[0.2222222222222222,\"#7201a8\"],[0.3333333333333333,\"#9c179e\"],[0.4444444444444444,\"#bd3786\"],[0.5555555555555556,\"#d8576b\"],[0.6666666666666666,\"#ed7953\"],[0.7777777777777778,\"#fb9f3a\"],[0.8888888888888888,\"#fdca26\"],[1.0,\"#f0f921\"]]}],\"heatmapgl\":[{\"type\":\"heatmapgl\",\"colorbar\":{\"outlinewidth\":0,\"ticks\":\"\"},\"colorscale\":[[0.0,\"#0d0887\"],[0.1111111111111111,\"#46039f\"],[0.2222222222222222,\"#7201a8\"],[0.3333333333333333,\"#9c179e\"],[0.4444444444444444,\"#bd3786\"],[0.5555555555555556,\"#d8576b\"],[0.6666666666666666,\"#ed7953\"],[0.7777777777777778,\"#fb9f3a\"],[0.8888888888888888,\"#fdca26\"],[1.0,\"#f0f921\"]]}],\"contourcarpet\":[{\"type\":\"contourcarpet\",\"colorbar\":{\"outlinewidth\":0,\"ticks\":\"\"}}],\"contour\":[{\"type\":\"contour\",\"colorbar\":{\"outlinewidth\":0,\"ticks\":\"\"},\"colorscale\":[[0.0,\"#0d0887\"],[0.1111111111111111,\"#46039f\"],[0.2222222222222222,\"#7201a8\"],[0.3333333333333333,\"#9c179e\"],[0.4444444444444444,\"#bd3786\"],[0.5555555555555556,\"#d8576b\"],[0.6666666666666666,\"#ed7953\"],[0.7777777777777778,\"#fb9f3a\"],[0.8888888888888888,\"#fdca26\"],[1.0,\"#f0f921\"]]}],\"surface\":[{\"type\":\"surface\",\"colorbar\":{\"outlinewidth\":0,\"ticks\":\"\"},\"colorscale\":[[0.0,\"#0d0887\"],[0.1111111111111111,\"#46039f\"],[0.2222222222222222,\"#7201a8\"],[0.3333333333333333,\"#9c179e\"],[0.4444444444444444,\"#bd3786\"],[0.5555555555555556,\"#d8576b\"],[0.6666666666666666,\"#ed7953\"],[0.7777777777777778,\"#fb9f3a\"],[0.8888888888888888,\"#fdca26\"],[1.0,\"#f0f921\"]]}],\"mesh3d\":[{\"type\":\"mesh3d\",\"colorbar\":{\"outlinewidth\":0,\"ticks\":\"\"}}],\"scatter\":[{\"fillpattern\":{\"fillmode\":\"overlay\",\"size\":10,\"solidity\":0.2},\"type\":\"scatter\"}],\"parcoords\":[{\"type\":\"parcoords\",\"line\":{\"colorbar\":{\"outlinewidth\":0,\"ticks\":\"\"}}}],\"scatterpolargl\":[{\"type\":\"scatterpolargl\",\"marker\":{\"colorbar\":{\"outlinewidth\":0,\"ticks\":\"\"}}}],\"bar\":[{\"error_x\":{\"color\":\"#2a3f5f\"},\"error_y\":{\"color\":\"#2a3f5f\"},\"marker\":{\"line\":{\"color\":\"#E5ECF6\",\"width\":0.5},\"pattern\":{\"fillmode\":\"overlay\",\"size\":10,\"solidity\":0.2}},\"type\":\"bar\"}],\"scattergeo\":[{\"type\":\"scattergeo\",\"marker\":{\"colorbar\":{\"outlinewidth\":0,\"ticks\":\"\"}}}],\"scatterpolar\":[{\"type\":\"scatterpolar\",\"marker\":{\"colorbar\":{\"outlinewidth\":0,\"ticks\":\"\"}}}],\"histogram\":[{\"marker\":{\"pattern\":{\"fillmode\":\"overlay\",\"size\":10,\"solidity\":0.2}},\"type\":\"histogram\"}],\"scattergl\":[{\"type\":\"scattergl\",\"marker\":{\"colorbar\":{\"outlinewidth\":0,\"ticks\":\"\"}}}],\"scatter3d\":[{\"type\":\"scatter3d\",\"line\":{\"colorbar\":{\"outlinewidth\":0,\"ticks\":\"\"}},\"marker\":{\"colorbar\":{\"outlinewidth\":0,\"ticks\":\"\"}}}],\"scattermapbox\":[{\"type\":\"scattermapbox\",\"marker\":{\"colorbar\":{\"outlinewidth\":0,\"ticks\":\"\"}}}],\"scatterternary\":[{\"type\":\"scatterternary\",\"marker\":{\"colorbar\":{\"outlinewidth\":0,\"ticks\":\"\"}}}],\"scattercarpet\":[{\"type\":\"scattercarpet\",\"marker\":{\"colorbar\":{\"outlinewidth\":0,\"ticks\":\"\"}}}],\"carpet\":[{\"aaxis\":{\"endlinecolor\":\"#2a3f5f\",\"gridcolor\":\"white\",\"linecolor\":\"white\",\"minorgridcolor\":\"white\",\"startlinecolor\":\"#2a3f5f\"},\"baxis\":{\"endlinecolor\":\"#2a3f5f\",\"gridcolor\":\"white\",\"linecolor\":\"white\",\"minorgridcolor\":\"white\",\"startlinecolor\":\"#2a3f5f\"},\"type\":\"carpet\"}],\"table\":[{\"cells\":{\"fill\":{\"color\":\"#EBF0F8\"},\"line\":{\"color\":\"white\"}},\"header\":{\"fill\":{\"color\":\"#C8D4E3\"},\"line\":{\"color\":\"white\"}},\"type\":\"table\"}],\"barpolar\":[{\"marker\":{\"line\":{\"color\":\"#E5ECF6\",\"width\":0.5},\"pattern\":{\"fillmode\":\"overlay\",\"size\":10,\"solidity\":0.2}},\"type\":\"barpolar\"}],\"pie\":[{\"automargin\":true,\"type\":\"pie\"}]},\"layout\":{\"autotypenumbers\":\"strict\",\"colorway\":[\"#636efa\",\"#EF553B\",\"#00cc96\",\"#ab63fa\",\"#FFA15A\",\"#19d3f3\",\"#FF6692\",\"#B6E880\",\"#FF97FF\",\"#FECB52\"],\"font\":{\"color\":\"#2a3f5f\"},\"hovermode\":\"closest\",\"hoverlabel\":{\"align\":\"left\"},\"paper_bgcolor\":\"white\",\"plot_bgcolor\":\"#E5ECF6\",\"polar\":{\"bgcolor\":\"#E5ECF6\",\"angularaxis\":{\"gridcolor\":\"white\",\"linecolor\":\"white\",\"ticks\":\"\"},\"radialaxis\":{\"gridcolor\":\"white\",\"linecolor\":\"white\",\"ticks\":\"\"}},\"ternary\":{\"bgcolor\":\"#E5ECF6\",\"aaxis\":{\"gridcolor\":\"white\",\"linecolor\":\"white\",\"ticks\":\"\"},\"baxis\":{\"gridcolor\":\"white\",\"linecolor\":\"white\",\"ticks\":\"\"},\"caxis\":{\"gridcolor\":\"white\",\"linecolor\":\"white\",\"ticks\":\"\"}},\"coloraxis\":{\"colorbar\":{\"outlinewidth\":0,\"ticks\":\"\"}},\"colorscale\":{\"sequential\":[[0.0,\"#0d0887\"],[0.1111111111111111,\"#46039f\"],[0.2222222222222222,\"#7201a8\"],[0.3333333333333333,\"#9c179e\"],[0.4444444444444444,\"#bd3786\"],[0.5555555555555556,\"#d8576b\"],[0.6666666666666666,\"#ed7953\"],[0.7777777777777778,\"#fb9f3a\"],[0.8888888888888888,\"#fdca26\"],[1.0,\"#f0f921\"]],\"sequentialminus\":[[0.0,\"#0d0887\"],[0.1111111111111111,\"#46039f\"],[0.2222222222222222,\"#7201a8\"],[0.3333333333333333,\"#9c179e\"],[0.4444444444444444,\"#bd3786\"],[0.5555555555555556,\"#d8576b\"],[0.6666666666666666,\"#ed7953\"],[0.7777777777777778,\"#fb9f3a\"],[0.8888888888888888,\"#fdca26\"],[1.0,\"#f0f921\"]],\"diverging\":[[0,\"#8e0152\"],[0.1,\"#c51b7d\"],[0.2,\"#de77ae\"],[0.3,\"#f1b6da\"],[0.4,\"#fde0ef\"],[0.5,\"#f7f7f7\"],[0.6,\"#e6f5d0\"],[0.7,\"#b8e186\"],[0.8,\"#7fbc41\"],[0.9,\"#4d9221\"],[1,\"#276419\"]]},\"xaxis\":{\"gridcolor\":\"white\",\"linecolor\":\"white\",\"ticks\":\"\",\"title\":{\"standoff\":15},\"zerolinecolor\":\"white\",\"automargin\":true,\"zerolinewidth\":2},\"yaxis\":{\"gridcolor\":\"white\",\"linecolor\":\"white\",\"ticks\":\"\",\"title\":{\"standoff\":15},\"zerolinecolor\":\"white\",\"automargin\":true,\"zerolinewidth\":2},\"scene\":{\"xaxis\":{\"backgroundcolor\":\"#E5ECF6\",\"gridcolor\":\"white\",\"linecolor\":\"white\",\"showbackground\":true,\"ticks\":\"\",\"zerolinecolor\":\"white\",\"gridwidth\":2},\"yaxis\":{\"backgroundcolor\":\"#E5ECF6\",\"gridcolor\":\"white\",\"linecolor\":\"white\",\"showbackground\":true,\"ticks\":\"\",\"zerolinecolor\":\"white\",\"gridwidth\":2},\"zaxis\":{\"backgroundcolor\":\"#E5ECF6\",\"gridcolor\":\"white\",\"linecolor\":\"white\",\"showbackground\":true,\"ticks\":\"\",\"zerolinecolor\":\"white\",\"gridwidth\":2}},\"shapedefaults\":{\"line\":{\"color\":\"#2a3f5f\"}},\"annotationdefaults\":{\"arrowcolor\":\"#2a3f5f\",\"arrowhead\":0,\"arrowwidth\":1},\"geo\":{\"bgcolor\":\"white\",\"landcolor\":\"#E5ECF6\",\"subunitcolor\":\"white\",\"showland\":true,\"showlakes\":true,\"lakecolor\":\"white\"},\"title\":{\"x\":0.05},\"mapbox\":{\"style\":\"light\"}}},\"xaxis\":{\"anchor\":\"y\",\"domain\":[0.0,1.0],\"title\":{\"text\":\"Age Range\"}},\"yaxis\":{\"anchor\":\"x\",\"domain\":[0.0,1.0],\"title\":{\"text\":\"Population count\"}},\"legend\":{\"tracegroupgap\":0},\"margin\":{\"t\":60},\"barmode\":\"relative\",\"font\":{\"size\":10},\"autosize\":true,\"width\":500,\"height\":500},                        {\"responsive\": true}                    ).then(function(){\n",
       "                            \n",
       "var gd = document.getElementById('348ab94d-e1f8-44e3-8d2a-81f350b63db5');\n",
       "var x = new MutationObserver(function (mutations, observer) {{\n",
       "        var display = window.getComputedStyle(gd).display;\n",
       "        if (!display || display === 'none') {{\n",
       "            console.log([gd, 'removed!']);\n",
       "            Plotly.purge(gd);\n",
       "            observer.disconnect();\n",
       "        }}\n",
       "}});\n",
       "\n",
       "// Listen for the removal of the full notebook cells\n",
       "var notebookContainer = gd.closest('#notebook-container');\n",
       "if (notebookContainer) {{\n",
       "    x.observe(notebookContainer, {childList: true});\n",
       "}}\n",
       "\n",
       "// Listen for the clearing of the current output cell\n",
       "var outputEl = gd.closest('.output');\n",
       "if (outputEl) {{\n",
       "    x.observe(outputEl, {childList: true});\n",
       "}}\n",
       "\n",
       "                        })                };                });            </script>        </div>"
      ]
     },
     "metadata": {},
     "output_type": "display_data"
    }
   ],
   "source": [
    "bins = [18, 30, 40, 50, 60, 70, 120]\n",
    "labels = ['18-29', '30-39', '40-49', '50-59', '60-69', '70+']\n",
    "df['agerange'] = pd.cut(df.Age, bins, labels = labels,include_lowest = True)\n",
    "\n",
    "age_distribution = df['agerange'].value_counts().to_frame().reset_index()\n",
    "\n",
    "age_distribution.columns = ['Age Range','Population count']\n",
    "\n",
    "fig = px.bar(age_distribution, x='Age Range', y='Population count', color_discrete_sequence=['#374045'])\n",
    "fig.update_layout(\n",
    "    autosize=True,\n",
    "    width=500,\n",
    "    height=500,\n",
    "    font=dict(size=10))\n",
    "fig.show()"
   ]
  },
  {
   "cell_type": "markdown",
   "id": "c23a89df-4202-4fe3-9642-86327b276efb",
   "metadata": {},
   "source": [
    "A sizable portion of the clientele is made up of people between the ages of 40 and 59."
   ]
  },
  {
   "cell_type": "markdown",
   "id": "798f2da3-9a21-4846-813b-717bc1db8a76",
   "metadata": {},
   "source": [
    "# Sales"
   ]
  },
  {
   "cell_type": "markdown",
   "id": "fe01a201-4cec-4a53-970f-a148b71a085d",
   "metadata": {},
   "source": [
    "Year wise sales"
   ]
  },
  {
   "cell_type": "code",
   "execution_count": 40,
   "id": "106c3023-5d75-42d5-b0e0-ebdf02b39deb",
   "metadata": {},
   "outputs": [
    {
     "data": {
      "image/png": "[encoded data removed]",
      "text/plain": [
       "<Figure size 432x288 with 1 Axes>"
      ]
     },
     "metadata": {},
     "output_type": "display_data"
    }
   ],
   "source": [
    "df.groupby('sale_year')['SalesAmount'].sum().plot(kind='bar', color='#374045');"
   ]
  },
  {
   "cell_type": "markdown",
   "id": "d6db2f0f-19ef-4680-b440-ef4cbb6a7406",
   "metadata": {},
   "source": [
    "The year 2016 saw an exponential surge in sales"
   ]
  },
  {
   "cell_type": "markdown",
   "id": "915c6736-77a0-4f99-a803-31deb6b7bdd8",
   "metadata": {},
   "source": [
    "Top 5 Selling Product"
   ]
  },
  {
   "cell_type": "code",
   "execution_count": 41,
   "id": "791f246f-e89f-4680-a668-6cb7113c491c",
   "metadata": {},
   "outputs": [
    {
     "data": {
      "text/html": [
       "<div>\n",
       "<style scoped>\n",
       "    .dataframe tbody tr th:only-of-type {\n",
       "        vertical-align: middle;\n",
       "    }\n",
       "\n",
       "    .dataframe tbody tr th {\n",
       "        vertical-align: top;\n",
       "    }\n",
       "\n",
       "    .dataframe thead th {\n",
       "        text-align: right;\n",
       "    }\n",
       "</style>\n",
       "<table border=\"1\" class=\"dataframe\">\n",
       "  <thead>\n",
       "    <tr style=\"text-align: right;\">\n",
       "      <th></th>\n",
       "      <th></th>\n",
       "      <th></th>\n",
       "      <th>OrderQuantity</th>\n",
       "    </tr>\n",
       "    <tr>\n",
       "      <th>Category</th>\n",
       "      <th>SubCategory</th>\n",
       "      <th>ProductName</th>\n",
       "      <th></th>\n",
       "    </tr>\n",
       "  </thead>\n",
       "  <tbody>\n",
       "    <tr>\n",
       "      <th rowspan=\"5\" valign=\"top\">Accessories</th>\n",
       "      <th>Bottles and Cages</th>\n",
       "      <th>Water Bottle - 30 oz.</th>\n",
       "      <td>6370</td>\n",
       "    </tr>\n",
       "    <tr>\n",
       "      <th rowspan=\"3\" valign=\"top\">Tires and Tubes</th>\n",
       "      <th>Patch Kit/8 Patches</th>\n",
       "      <td>4705</td>\n",
       "    </tr>\n",
       "    <tr>\n",
       "      <th>Mountain Tire Tube</th>\n",
       "      <td>4551</td>\n",
       "    </tr>\n",
       "    <tr>\n",
       "      <th>Road Tire Tube</th>\n",
       "      <td>3544</td>\n",
       "    </tr>\n",
       "    <tr>\n",
       "      <th>Helmets</th>\n",
       "      <th>Sport-100 Helmet- Red</th>\n",
       "      <td>3398</td>\n",
       "    </tr>\n",
       "  </tbody>\n",
       "</table>\n",
       "</div>"
      ],
      "text/plain": [
       "                                                     OrderQuantity\n",
       "Category    SubCategory       ProductName                         \n",
       "Accessories Bottles and Cages Water Bottle - 30 oz.           6370\n",
       "            Tires and Tubes   Patch Kit/8 Patches             4705\n",
       "                              Mountain Tire Tube              4551\n",
       "                              Road Tire Tube                  3544\n",
       "            Helmets           Sport-100 Helmet- Red           3398"
      ]
     },
     "execution_count": 41,
     "metadata": {},
     "output_type": "execute_result"
    }
   ],
   "source": [
    "top_selling_product = df.groupby(['Category', 'SubCategory', 'ProductName'])['OrderQuantity'].sum().nlargest(5).to_frame()\n",
    "top_selling_product"
   ]
  },
  {
   "cell_type": "code",
   "execution_count": 42,
   "id": "70a36c6a-1b93-4dd0-96e4-276703636bd0",
   "metadata": {
    "collapsed": true,
    "jupyter": {
     "outputs_hidden": true
    },
    "tags": []
   },
   "outputs": [
    {
     "data": {
      "application/vnd.plotly.v1+json": {
       "config": {
        "plotlyServerURL": "https://plot.ly"
       },
       "data": [
        {
         "alignmentgroup": "True",
         "hovertemplate": "ProductName=%{x}<br>OrderQuantity=%{y}<extra></extra>",
         "legendgroup": "",
         "marker": {
          "color": "#374045",
          "pattern": {
           "shape": ""
          }
         },
         "name": "",
         "offsetgroup": "",
         "orientation": "v",
         "showlegend": false,
         "textposition": "auto",
         "type": "bar",
         "x": [
          "Water Bottle - 30 oz.",
          "Patch Kit/8 Patches",
          "Mountain Tire Tube",
          "Road Tire Tube",
          "Sport-100 Helmet- Red"
         ],
         "xaxis": "x",
         "y": [
          6370,
          4705,
          4551,
          3544,
          3398
         ],
         "yaxis": "y"
        }
       ],
       "layout": {
        "autosize": true,
        "barmode": "relative",
        "font": {
         "size": 8
        },
        "height": 300,
        "legend": {
         "tracegroupgap": 0
        },
        "margin": {
         "b": 10,
         "l": 25,
         "r": 25,
         "t": 10
        },
        "template": {
         "data": {
          "bar": [
           {
            "error_x": {
             "color": "#2a3f5f"
            },
            "error_y": {
             "color": "#2a3f5f"
            },
            "marker": {
             "line": {
              "color": "#E5ECF6",
              "width": 0.5
             },
             "pattern": {
              "fillmode": "overlay",
              "size": 10,
              "solidity": 0.2
             }
            },
            "type": "bar"
           }
          ],
          "barpolar": [
           {
            "marker": {
             "line": {
              "color": "#E5ECF6",
              "width": 0.5
             },
             "pattern": {
              "fillmode": "overlay",
              "size": 10,
              "solidity": 0.2
             }
            },
            "type": "barpolar"
           }
          ],
          "carpet": [
           {
            "aaxis": {
             "endlinecolor": "#2a3f5f",
             "gridcolor": "white",
             "linecolor": "white",
             "minorgridcolor": "white",
             "startlinecolor": "#2a3f5f"
            },
            "baxis": {
             "endlinecolor": "#2a3f5f",
             "gridcolor": "white",
             "linecolor": "white",
             "minorgridcolor": "white",
             "startlinecolor": "#2a3f5f"
            },
            "type": "carpet"
           }
          ],
          "choropleth": [
           {
            "colorbar": {
             "outlinewidth": 0,
             "ticks": ""
            },
            "type": "choropleth"
           }
          ],
          "contour": [
           {
            "colorbar": {
             "outlinewidth": 0,
             "ticks": ""
            },
            "colorscale": [
             [
              0,
              "#0d0887"
             ],
             [
              0.1111111111111111,
              "#46039f"
             ],
             [
              0.2222222222222222,
              "#7201a8"
             ],
             [
              0.3333333333333333,
              "#9c179e"
             ],
             [
              0.4444444444444444,
              "#bd3786"
             ],
             [
              0.5555555555555556,
              "#d8576b"
             ],
             [
              0.6666666666666666,
              "#ed7953"
             ],
             [
              0.7777777777777778,
              "#fb9f3a"
             ],
             [
              0.8888888888888888,
              "#fdca26"
             ],
             [
              1,
              "#f0f921"
             ]
            ],
            "type": "contour"
           }
          ],
          "contourcarpet": [
           {
            "colorbar": {
             "outlinewidth": 0,
             "ticks": ""
            },
            "type": "contourcarpet"
           }
          ],
          "heatmap": [
           {
            "colorbar": {
             "outlinewidth": 0,
             "ticks": ""
            },
            "colorscale": [
             [
              0,
              "#0d0887"
             ],
             [
              0.1111111111111111,
              "#46039f"
             ],
             [
              0.2222222222222222,
              "#7201a8"
             ],
             [
              0.3333333333333333,
              "#9c179e"
             ],
             [
              0.4444444444444444,
              "#bd3786"
             ],
             [
              0.5555555555555556,
              "#d8576b"
             ],
             [
              0.6666666666666666,
              "#ed7953"
             ],
             [
              0.7777777777777778,
              "#fb9f3a"
             ],
             [
              0.8888888888888888,
              "#fdca26"
             ],
             [
              1,
              "#f0f921"
             ]
            ],
            "type": "heatmap"
           }
          ],
          "heatmapgl": [
           {
            "colorbar": {
             "outlinewidth": 0,
             "ticks": ""
            },
            "colorscale": [
             [
              0,
              "#0d0887"
             ],
             [
              0.1111111111111111,
              "#46039f"
             ],
             [
              0.2222222222222222,
              "#7201a8"
             ],
             [
              0.3333333333333333,
              "#9c179e"
             ],
             [
              0.4444444444444444,
              "#bd3786"
             ],
             [
              0.5555555555555556,
              "#d8576b"
             ],
             [
              0.6666666666666666,
              "#ed7953"
             ],
             [
              0.7777777777777778,
              "#fb9f3a"
             ],
             [
              0.8888888888888888,
              "#fdca26"
             ],
             [
              1,
              "#f0f921"
             ]
            ],
            "type": "heatmapgl"
           }
          ],
          "histogram": [
           {
            "marker": {
             "pattern": {
              "fillmode": "overlay",
              "size": 10,
              "solidity": 0.2
             }
            },
            "type": "histogram"
           }
          ],
          "histogram2d": [
           {
            "colorbar": {
             "outlinewidth": 0,
             "ticks": ""
            },
            "colorscale": [
             [
              0,
              "#0d0887"
             ],
             [
              0.1111111111111111,
              "#46039f"
             ],
             [
              0.2222222222222222,
              "#7201a8"
             ],
             [
              0.3333333333333333,
              "#9c179e"
             ],
             [
              0.4444444444444444,
              "#bd3786"
             ],
             [
              0.5555555555555556,
              "#d8576b"
             ],
             [
              0.6666666666666666,
              "#ed7953"
             ],
             [
              0.7777777777777778,
              "#fb9f3a"
             ],
             [
              0.8888888888888888,
              "#fdca26"
             ],
             [
              1,
              "#f0f921"
             ]
            ],
            "type": "histogram2d"
           }
          ],
          "histogram2dcontour": [
           {
            "colorbar": {
             "outlinewidth": 0,
             "ticks": ""
            },
            "colorscale": [
             [
              0,
              "#0d0887"
             ],
             [
              0.1111111111111111,
              "#46039f"
             ],
             [
              0.2222222222222222,
              "#7201a8"
             ],
             [
              0.3333333333333333,
              "#9c179e"
             ],
             [
              0.4444444444444444,
              "#bd3786"
             ],
             [
              0.5555555555555556,
              "#d8576b"
             ],
             [
              0.6666666666666666,
              "#ed7953"
             ],
             [
              0.7777777777777778,
              "#fb9f3a"
             ],
             [
              0.8888888888888888,
              "#fdca26"
             ],
             [
              1,
              "#f0f921"
             ]
            ],
            "type": "histogram2dcontour"
           }
          ],
          "mesh3d": [
           {
            "colorbar": {
             "outlinewidth": 0,
             "ticks": ""
            },
            "type": "mesh3d"
           }
          ],
          "parcoords": [
           {
            "line": {
             "colorbar": {
              "outlinewidth": 0,
              "ticks": ""
             }
            },
            "type": "parcoords"
           }
          ],
          "pie": [
           {
            "automargin": true,
            "type": "pie"
           }
          ],
          "scatter": [
           {
            "fillpattern": {
             "fillmode": "overlay",
             "size": 10,
             "solidity": 0.2
            },
            "type": "scatter"
           }
          ],
          "scatter3d": [
           {
            "line": {
             "colorbar": {
              "outlinewidth": 0,
              "ticks": ""
             }
            },
            "marker": {
             "colorbar": {
              "outlinewidth": 0,
              "ticks": ""
             }
            },
            "type": "scatter3d"
           }
          ],
          "scattercarpet": [
           {
            "marker": {
             "colorbar": {
              "outlinewidth": 0,
              "ticks": ""
             }
            },
            "type": "scattercarpet"
           }
          ],
          "scattergeo": [
           {
            "marker": {
             "colorbar": {
              "outlinewidth": 0,
              "ticks": ""
             }
            },
            "type": "scattergeo"
           }
          ],
          "scattergl": [
           {
            "marker": {
             "colorbar": {
              "outlinewidth": 0,
              "ticks": ""
             }
            },
            "type": "scattergl"
           }
          ],
          "scattermapbox": [
           {
            "marker": {
             "colorbar": {
              "outlinewidth": 0,
              "ticks": ""
             }
            },
            "type": "scattermapbox"
           }
          ],
          "scatterpolar": [
           {
            "marker": {
             "colorbar": {
              "outlinewidth": 0,
              "ticks": ""
             }
            },
            "type": "scatterpolar"
           }
          ],
          "scatterpolargl": [
           {
            "marker": {
             "colorbar": {
              "outlinewidth": 0,
              "ticks": ""
             }
            },
            "type": "scatterpolargl"
           }
          ],
          "scatterternary": [
           {
            "marker": {
             "colorbar": {
              "outlinewidth": 0,
              "ticks": ""
             }
            },
            "type": "scatterternary"
           }
          ],
          "surface": [
           {
            "colorbar": {
             "outlinewidth": 0,
             "ticks": ""
            },
            "colorscale": [
             [
              0,
              "#0d0887"
             ],
             [
              0.1111111111111111,
              "#46039f"
             ],
             [
              0.2222222222222222,
              "#7201a8"
             ],
             [
              0.3333333333333333,
              "#9c179e"
             ],
             [
              0.4444444444444444,
              "#bd3786"
             ],
             [
              0.5555555555555556,
              "#d8576b"
             ],
             [
              0.6666666666666666,
              "#ed7953"
             ],
             [
              0.7777777777777778,
              "#fb9f3a"
             ],
             [
              0.8888888888888888,
              "#fdca26"
             ],
             [
              1,
              "#f0f921"
             ]
            ],
            "type": "surface"
           }
          ],
          "table": [
           {
            "cells": {
             "fill": {
              "color": "#EBF0F8"
             },
             "line": {
              "color": "white"
             }
            },
            "header": {
             "fill": {
              "color": "#C8D4E3"
             },
             "line": {
              "color": "white"
             }
            },
            "type": "table"
           }
          ]
         },
         "layout": {
          "annotationdefaults": {
           "arrowcolor": "#2a3f5f",
           "arrowhead": 0,
           "arrowwidth": 1
          },
          "autotypenumbers": "strict",
          "coloraxis": {
           "colorbar": {
            "outlinewidth": 0,
            "ticks": ""
           }
          },
          "colorscale": {
           "diverging": [
            [
             0,
             "#8e0152"
            ],
            [
             0.1,
             "#c51b7d"
            ],
            [
             0.2,
             "#de77ae"
            ],
            [
             0.3,
             "#f1b6da"
            ],
            [
             0.4,
             "#fde0ef"
            ],
            [
             0.5,
             "#f7f7f7"
            ],
            [
             0.6,
             "#e6f5d0"
            ],
            [
             0.7,
             "#b8e186"
            ],
            [
             0.8,
             "#7fbc41"
            ],
            [
             0.9,
             "#4d9221"
            ],
            [
             1,
             "#276419"
            ]
           ],
           "sequential": [
            [
             0,
             "#0d0887"
            ],
            [
             0.1111111111111111,
             "#46039f"
            ],
            [
             0.2222222222222222,
             "#7201a8"
            ],
            [
             0.3333333333333333,
             "#9c179e"
            ],
            [
             0.4444444444444444,
             "#bd3786"
            ],
            [
             0.5555555555555556,
             "#d8576b"
            ],
            [
             0.6666666666666666,
             "#ed7953"
            ],
            [
             0.7777777777777778,
             "#fb9f3a"
            ],
            [
             0.8888888888888888,
             "#fdca26"
            ],
            [
             1,
             "#f0f921"
            ]
           ],
           "sequentialminus": [
            [
             0,
             "#0d0887"
            ],
            [
             0.1111111111111111,
             "#46039f"
            ],
            [
             0.2222222222222222,
             "#7201a8"
            ],
            [
             0.3333333333333333,
             "#9c179e"
            ],
            [
             0.4444444444444444,
             "#bd3786"
            ],
            [
             0.5555555555555556,
             "#d8576b"
            ],
            [
             0.6666666666666666,
             "#ed7953"
            ],
            [
             0.7777777777777778,
             "#fb9f3a"
            ],
            [
             0.8888888888888888,
             "#fdca26"
            ],
            [
             1,
             "#f0f921"
            ]
           ]
          },
          "colorway": [
           "#636efa",
           "#EF553B",
           "#00cc96",
           "#ab63fa",
           "#FFA15A",
           "#19d3f3",
           "#FF6692",
           "#B6E880",
           "#FF97FF",
           "#FECB52"
          ],
          "font": {
           "color": "#2a3f5f"
          },
          "geo": {
           "bgcolor": "white",
           "lakecolor": "white",
           "landcolor": "#E5ECF6",
           "showlakes": true,
           "showland": true,
           "subunitcolor": "white"
          },
          "hoverlabel": {
           "align": "left"
          },
          "hovermode": "closest",
          "mapbox": {
           "style": "light"
          },
          "paper_bgcolor": "white",
          "plot_bgcolor": "#E5ECF6",
          "polar": {
           "angularaxis": {
            "gridcolor": "white",
            "linecolor": "white",
            "ticks": ""
           },
           "bgcolor": "#E5ECF6",
           "radialaxis": {
            "gridcolor": "white",
            "linecolor": "white",
            "ticks": ""
           }
          },
          "scene": {
           "xaxis": {
            "backgroundcolor": "#E5ECF6",
            "gridcolor": "white",
            "gridwidth": 2,
            "linecolor": "white",
            "showbackground": true,
            "ticks": "",
            "zerolinecolor": "white"
           },
           "yaxis": {
            "backgroundcolor": "#E5ECF6",
            "gridcolor": "white",
            "gridwidth": 2,
            "linecolor": "white",
            "showbackground": true,
            "ticks": "",
            "zerolinecolor": "white"
           },
           "zaxis": {
            "backgroundcolor": "#E5ECF6",
            "gridcolor": "white",
            "gridwidth": 2,
            "linecolor": "white",
            "showbackground": true,
            "ticks": "",
            "zerolinecolor": "white"
           }
          },
          "shapedefaults": {
           "line": {
            "color": "#2a3f5f"
           }
          },
          "ternary": {
           "aaxis": {
            "gridcolor": "white",
            "linecolor": "white",
            "ticks": ""
           },
           "baxis": {
            "gridcolor": "white",
            "linecolor": "white",
            "ticks": ""
           },
           "bgcolor": "#E5ECF6",
           "caxis": {
            "gridcolor": "white",
            "linecolor": "white",
            "ticks": ""
           }
          },
          "title": {
           "x": 0.05
          },
          "xaxis": {
           "automargin": true,
           "gridcolor": "white",
           "linecolor": "white",
           "ticks": "",
           "title": {
            "standoff": 15
           },
           "zerolinecolor": "white",
           "zerolinewidth": 2
          },
          "yaxis": {
           "automargin": true,
           "gridcolor": "white",
           "linecolor": "white",
           "ticks": "",
           "title": {
            "standoff": 15
           },
           "zerolinecolor": "white",
           "zerolinewidth": 2
          }
         }
        },
        "width": 500,
        "xaxis": {
         "anchor": "y",
         "autorange": true,
         "domain": [
          0,
          1
         ],
         "range": [
          -0.5,
          4.5
         ],
         "title": {
          "text": "ProductName"
         },
         "type": "category"
        },
        "yaxis": {
         "anchor": "x",
         "autorange": true,
         "domain": [
          0,
          1
         ],
         "range": [
          0,
          6705.263157894737
         ],
         "title": {
          "text": "OrderQuantity"
         },
         "type": "linear"
        }
       }
      },
      "text/html": [
       "<div>                            <div id=\"806f4cb1-4e28-4275-966b-21498f9119b2\" class=\"plotly-graph-div\" style=\"height:300px; width:500px;\"></div>            <script type=\"text/javascript\">                require([\"plotly\"], function(Plotly) {                    window.PLOTLYENV=window.PLOTLYENV || {};                                    if (document.getElementById(\"806f4cb1-4e28-4275-966b-21498f9119b2\")) {                    Plotly.newPlot(                        \"806f4cb1-4e28-4275-966b-21498f9119b2\",                        [{\"alignmentgroup\":\"True\",\"hovertemplate\":\"ProductName=%{x}\\u003cbr\\u003eOrderQuantity=%{y}\\u003cextra\\u003e\\u003c\\u002fextra\\u003e\",\"legendgroup\":\"\",\"marker\":{\"color\":\"#374045\",\"pattern\":{\"shape\":\"\"}},\"name\":\"\",\"offsetgroup\":\"\",\"orientation\":\"v\",\"showlegend\":false,\"textposition\":\"auto\",\"x\":[\"Water Bottle - 30 oz.\",\"Patch Kit\\u002f8 Patches\",\"Mountain Tire Tube\",\"Road Tire Tube\",\"Sport-100 Helmet- Red\"],\"xaxis\":\"x\",\"y\":[6370,4705,4551,3544,3398],\"yaxis\":\"y\",\"type\":\"bar\"}],                        {\"template\":{\"data\":{\"histogram2dcontour\":[{\"type\":\"histogram2dcontour\",\"colorbar\":{\"outlinewidth\":0,\"ticks\":\"\"},\"colorscale\":[[0.0,\"#0d0887\"],[0.1111111111111111,\"#46039f\"],[0.2222222222222222,\"#7201a8\"],[0.3333333333333333,\"#9c179e\"],[0.4444444444444444,\"#bd3786\"],[0.5555555555555556,\"#d8576b\"],[0.6666666666666666,\"#ed7953\"],[0.7777777777777778,\"#fb9f3a\"],[0.8888888888888888,\"#fdca26\"],[1.0,\"#f0f921\"]]}],\"choropleth\":[{\"type\":\"choropleth\",\"colorbar\":{\"outlinewidth\":0,\"ticks\":\"\"}}],\"histogram2d\":[{\"type\":\"histogram2d\",\"colorbar\":{\"outlinewidth\":0,\"ticks\":\"\"},\"colorscale\":[[0.0,\"#0d0887\"],[0.1111111111111111,\"#46039f\"],[0.2222222222222222,\"#7201a8\"],[0.3333333333333333,\"#9c179e\"],[0.4444444444444444,\"#bd3786\"],[0.5555555555555556,\"#d8576b\"],[0.6666666666666666,\"#ed7953\"],[0.7777777777777778,\"#fb9f3a\"],[0.8888888888888888,\"#fdca26\"],[1.0,\"#f0f921\"]]}],\"heatmap\":[{\"type\":\"heatmap\",\"colorbar\":{\"outlinewidth\":0,\"ticks\":\"\"},\"colorscale\":[[0.0,\"#0d0887\"],[0.1111111111111111,\"#46039f\"],[0.2222222222222222,\"#7201a8\"],[0.3333333333333333,\"#9c179e\"],[0.4444444444444444,\"#bd3786\"],[0.5555555555555556,\"#d8576b\"],[0.6666666666666666,\"#ed7953\"],[0.7777777777777778,\"#fb9f3a\"],[0.8888888888888888,\"#fdca26\"],[1.0,\"#f0f921\"]]}],\"heatmapgl\":[{\"type\":\"heatmapgl\",\"colorbar\":{\"outlinewidth\":0,\"ticks\":\"\"},\"colorscale\":[[0.0,\"#0d0887\"],[0.1111111111111111,\"#46039f\"],[0.2222222222222222,\"#7201a8\"],[0.3333333333333333,\"#9c179e\"],[0.4444444444444444,\"#bd3786\"],[0.5555555555555556,\"#d8576b\"],[0.6666666666666666,\"#ed7953\"],[0.7777777777777778,\"#fb9f3a\"],[0.8888888888888888,\"#fdca26\"],[1.0,\"#f0f921\"]]}],\"contourcarpet\":[{\"type\":\"contourcarpet\",\"colorbar\":{\"outlinewidth\":0,\"ticks\":\"\"}}],\"contour\":[{\"type\":\"contour\",\"colorbar\":{\"outlinewidth\":0,\"ticks\":\"\"},\"colorscale\":[[0.0,\"#0d0887\"],[0.1111111111111111,\"#46039f\"],[0.2222222222222222,\"#7201a8\"],[0.3333333333333333,\"#9c179e\"],[0.4444444444444444,\"#bd3786\"],[0.5555555555555556,\"#d8576b\"],[0.6666666666666666,\"#ed7953\"],[0.7777777777777778,\"#fb9f3a\"],[0.8888888888888888,\"#fdca26\"],[1.0,\"#f0f921\"]]}],\"surface\":[{\"type\":\"surface\",\"colorbar\":{\"outlinewidth\":0,\"ticks\":\"\"},\"colorscale\":[[0.0,\"#0d0887\"],[0.1111111111111111,\"#46039f\"],[0.2222222222222222,\"#7201a8\"],[0.3333333333333333,\"#9c179e\"],[0.4444444444444444,\"#bd3786\"],[0.5555555555555556,\"#d8576b\"],[0.6666666666666666,\"#ed7953\"],[0.7777777777777778,\"#fb9f3a\"],[0.8888888888888888,\"#fdca26\"],[1.0,\"#f0f921\"]]}],\"mesh3d\":[{\"type\":\"mesh3d\",\"colorbar\":{\"outlinewidth\":0,\"ticks\":\"\"}}],\"scatter\":[{\"fillpattern\":{\"fillmode\":\"overlay\",\"size\":10,\"solidity\":0.2},\"type\":\"scatter\"}],\"parcoords\":[{\"type\":\"parcoords\",\"line\":{\"colorbar\":{\"outlinewidth\":0,\"ticks\":\"\"}}}],\"scatterpolargl\":[{\"type\":\"scatterpolargl\",\"marker\":{\"colorbar\":{\"outlinewidth\":0,\"ticks\":\"\"}}}],\"bar\":[{\"error_x\":{\"color\":\"#2a3f5f\"},\"error_y\":{\"color\":\"#2a3f5f\"},\"marker\":{\"line\":{\"color\":\"#E5ECF6\",\"width\":0.5},\"pattern\":{\"fillmode\":\"overlay\",\"size\":10,\"solidity\":0.2}},\"type\":\"bar\"}],\"scattergeo\":[{\"type\":\"scattergeo\",\"marker\":{\"colorbar\":{\"outlinewidth\":0,\"ticks\":\"\"}}}],\"scatterpolar\":[{\"type\":\"scatterpolar\",\"marker\":{\"colorbar\":{\"outlinewidth\":0,\"ticks\":\"\"}}}],\"histogram\":[{\"marker\":{\"pattern\":{\"fillmode\":\"overlay\",\"size\":10,\"solidity\":0.2}},\"type\":\"histogram\"}],\"scattergl\":[{\"type\":\"scattergl\",\"marker\":{\"colorbar\":{\"outlinewidth\":0,\"ticks\":\"\"}}}],\"scatter3d\":[{\"type\":\"scatter3d\",\"line\":{\"colorbar\":{\"outlinewidth\":0,\"ticks\":\"\"}},\"marker\":{\"colorbar\":{\"outlinewidth\":0,\"ticks\":\"\"}}}],\"scattermapbox\":[{\"type\":\"scattermapbox\",\"marker\":{\"colorbar\":{\"outlinewidth\":0,\"ticks\":\"\"}}}],\"scatterternary\":[{\"type\":\"scatterternary\",\"marker\":{\"colorbar\":{\"outlinewidth\":0,\"ticks\":\"\"}}}],\"scattercarpet\":[{\"type\":\"scattercarpet\",\"marker\":{\"colorbar\":{\"outlinewidth\":0,\"ticks\":\"\"}}}],\"carpet\":[{\"aaxis\":{\"endlinecolor\":\"#2a3f5f\",\"gridcolor\":\"white\",\"linecolor\":\"white\",\"minorgridcolor\":\"white\",\"startlinecolor\":\"#2a3f5f\"},\"baxis\":{\"endlinecolor\":\"#2a3f5f\",\"gridcolor\":\"white\",\"linecolor\":\"white\",\"minorgridcolor\":\"white\",\"startlinecolor\":\"#2a3f5f\"},\"type\":\"carpet\"}],\"table\":[{\"cells\":{\"fill\":{\"color\":\"#EBF0F8\"},\"line\":{\"color\":\"white\"}},\"header\":{\"fill\":{\"color\":\"#C8D4E3\"},\"line\":{\"color\":\"white\"}},\"type\":\"table\"}],\"barpolar\":[{\"marker\":{\"line\":{\"color\":\"#E5ECF6\",\"width\":0.5},\"pattern\":{\"fillmode\":\"overlay\",\"size\":10,\"solidity\":0.2}},\"type\":\"barpolar\"}],\"pie\":[{\"automargin\":true,\"type\":\"pie\"}]},\"layout\":{\"autotypenumbers\":\"strict\",\"colorway\":[\"#636efa\",\"#EF553B\",\"#00cc96\",\"#ab63fa\",\"#FFA15A\",\"#19d3f3\",\"#FF6692\",\"#B6E880\",\"#FF97FF\",\"#FECB52\"],\"font\":{\"color\":\"#2a3f5f\"},\"hovermode\":\"closest\",\"hoverlabel\":{\"align\":\"left\"},\"paper_bgcolor\":\"white\",\"plot_bgcolor\":\"#E5ECF6\",\"polar\":{\"bgcolor\":\"#E5ECF6\",\"angularaxis\":{\"gridcolor\":\"white\",\"linecolor\":\"white\",\"ticks\":\"\"},\"radialaxis\":{\"gridcolor\":\"white\",\"linecolor\":\"white\",\"ticks\":\"\"}},\"ternary\":{\"bgcolor\":\"#E5ECF6\",\"aaxis\":{\"gridcolor\":\"white\",\"linecolor\":\"white\",\"ticks\":\"\"},\"baxis\":{\"gridcolor\":\"white\",\"linecolor\":\"white\",\"ticks\":\"\"},\"caxis\":{\"gridcolor\":\"white\",\"linecolor\":\"white\",\"ticks\":\"\"}},\"coloraxis\":{\"colorbar\":{\"outlinewidth\":0,\"ticks\":\"\"}},\"colorscale\":{\"sequential\":[[0.0,\"#0d0887\"],[0.1111111111111111,\"#46039f\"],[0.2222222222222222,\"#7201a8\"],[0.3333333333333333,\"#9c179e\"],[0.4444444444444444,\"#bd3786\"],[0.5555555555555556,\"#d8576b\"],[0.6666666666666666,\"#ed7953\"],[0.7777777777777778,\"#fb9f3a\"],[0.8888888888888888,\"#fdca26\"],[1.0,\"#f0f921\"]],\"sequentialminus\":[[0.0,\"#0d0887\"],[0.1111111111111111,\"#46039f\"],[0.2222222222222222,\"#7201a8\"],[0.3333333333333333,\"#9c179e\"],[0.4444444444444444,\"#bd3786\"],[0.5555555555555556,\"#d8576b\"],[0.6666666666666666,\"#ed7953\"],[0.7777777777777778,\"#fb9f3a\"],[0.8888888888888888,\"#fdca26\"],[1.0,\"#f0f921\"]],\"diverging\":[[0,\"#8e0152\"],[0.1,\"#c51b7d\"],[0.2,\"#de77ae\"],[0.3,\"#f1b6da\"],[0.4,\"#fde0ef\"],[0.5,\"#f7f7f7\"],[0.6,\"#e6f5d0\"],[0.7,\"#b8e186\"],[0.8,\"#7fbc41\"],[0.9,\"#4d9221\"],[1,\"#276419\"]]},\"xaxis\":{\"gridcolor\":\"white\",\"linecolor\":\"white\",\"ticks\":\"\",\"title\":{\"standoff\":15},\"zerolinecolor\":\"white\",\"automargin\":true,\"zerolinewidth\":2},\"yaxis\":{\"gridcolor\":\"white\",\"linecolor\":\"white\",\"ticks\":\"\",\"title\":{\"standoff\":15},\"zerolinecolor\":\"white\",\"automargin\":true,\"zerolinewidth\":2},\"scene\":{\"xaxis\":{\"backgroundcolor\":\"#E5ECF6\",\"gridcolor\":\"white\",\"linecolor\":\"white\",\"showbackground\":true,\"ticks\":\"\",\"zerolinecolor\":\"white\",\"gridwidth\":2},\"yaxis\":{\"backgroundcolor\":\"#E5ECF6\",\"gridcolor\":\"white\",\"linecolor\":\"white\",\"showbackground\":true,\"ticks\":\"\",\"zerolinecolor\":\"white\",\"gridwidth\":2},\"zaxis\":{\"backgroundcolor\":\"#E5ECF6\",\"gridcolor\":\"white\",\"linecolor\":\"white\",\"showbackground\":true,\"ticks\":\"\",\"zerolinecolor\":\"white\",\"gridwidth\":2}},\"shapedefaults\":{\"line\":{\"color\":\"#2a3f5f\"}},\"annotationdefaults\":{\"arrowcolor\":\"#2a3f5f\",\"arrowhead\":0,\"arrowwidth\":1},\"geo\":{\"bgcolor\":\"white\",\"landcolor\":\"#E5ECF6\",\"subunitcolor\":\"white\",\"showland\":true,\"showlakes\":true,\"lakecolor\":\"white\"},\"title\":{\"x\":0.05},\"mapbox\":{\"style\":\"light\"}}},\"xaxis\":{\"anchor\":\"y\",\"domain\":[0.0,1.0],\"title\":{\"text\":\"ProductName\"}},\"yaxis\":{\"anchor\":\"x\",\"domain\":[0.0,1.0],\"title\":{\"text\":\"OrderQuantity\"}},\"legend\":{\"tracegroupgap\":0},\"margin\":{\"t\":10,\"l\":25,\"r\":25,\"b\":10},\"barmode\":\"relative\",\"font\":{\"size\":8},\"autosize\":true,\"width\":500,\"height\":300},                        {\"responsive\": true}                    ).then(function(){\n",
       "                            \n",
       "var gd = document.getElementById('806f4cb1-4e28-4275-966b-21498f9119b2');\n",
       "var x = new MutationObserver(function (mutations, observer) {{\n",
       "        var display = window.getComputedStyle(gd).display;\n",
       "        if (!display || display === 'none') {{\n",
       "            console.log([gd, 'removed!']);\n",
       "            Plotly.purge(gd);\n",
       "            observer.disconnect();\n",
       "        }}\n",
       "}});\n",
       "\n",
       "// Listen for the removal of the full notebook cells\n",
       "var notebookContainer = gd.closest('#notebook-container');\n",
       "if (notebookContainer) {{\n",
       "    x.observe(notebookContainer, {childList: true});\n",
       "}}\n",
       "\n",
       "// Listen for the clearing of the current output cell\n",
       "var outputEl = gd.closest('.output');\n",
       "if (outputEl) {{\n",
       "    x.observe(outputEl, {childList: true});\n",
       "}}\n",
       "\n",
       "                        })                };                });            </script>        </div>"
      ]
     },
     "metadata": {},
     "output_type": "display_data"
    }
   ],
   "source": [
    "top_selling_product.reset_index(inplace=True)\n",
    "fig = px.bar(top_selling_product, x='ProductName', y='OrderQuantity',color_discrete_sequence=['#374045'])\n",
    "fig.update_layout(\n",
    "    autosize=True,\n",
    "    width=500,\n",
    "    height=300,\n",
    "    margin=dict(\n",
    "        l=25,\n",
    "        r=25,\n",
    "        b=10,\n",
    "        t=10,\n",
    "    ),\n",
    "    font=dict(size=8))\n",
    "fig.show()"
   ]
  },
  {
   "cell_type": "markdown",
   "id": "43551d0c-4aa7-4899-9dd4-bdaf4b3cb7f7",
   "metadata": {},
   "source": [
    "Quantity ordered based on category and subcategory from 2014 to 2016"
   ]
  },
  {
   "cell_type": "code",
   "execution_count": 43,
   "id": "d9b8fa3d-99e3-47c6-aa55-a7ab418f50d7",
   "metadata": {},
   "outputs": [
    {
     "data": {
      "text/html": [
       "<style type=\"text/css\">\n",
       "#T_03d2b_row0_col0 {\n",
       "  width: 10em;\n",
       "  height: 80%;\n",
       "  background: linear-gradient(90deg,#D9B300 0.9%, transparent 0.9%);\n",
       "}\n",
       "#T_03d2b_row1_col0 {\n",
       "  width: 10em;\n",
       "  height: 80%;\n",
       "  background: linear-gradient(90deg,#D9B300 9.9%, transparent 9.9%);\n",
       "}\n",
       "#T_03d2b_row2_col0 {\n",
       "  width: 10em;\n",
       "  height: 80%;\n",
       "  background: linear-gradient(90deg,#D9B300 5.0%, transparent 5.0%);\n",
       "}\n",
       "#T_03d2b_row3_col0 {\n",
       "  width: 10em;\n",
       "  height: 80%;\n",
       "  background: linear-gradient(90deg,#D9B300 11.5%, transparent 11.5%);\n",
       "}\n",
       "#T_03d2b_row4_col0 {\n",
       "  width: 10em;\n",
       "  height: 80%;\n",
       "  background: linear-gradient(90deg,#D9B300 0.4%, transparent 0.4%);\n",
       "}\n",
       "#T_03d2b_row5_col0 {\n",
       "  width: 10em;\n",
       "  height: 80%;\n",
       "}\n",
       "#T_03d2b_row6_col0 {\n",
       "  width: 10em;\n",
       "  height: 80%;\n",
       "  background: linear-gradient(90deg,#D9B300 46.4%, transparent 46.4%);\n",
       "}\n",
       "#T_03d2b_row7_col0 {\n",
       "  width: 10em;\n",
       "  height: 80%;\n",
       "  background: linear-gradient(90deg,#D9B300 3.9%, transparent 3.9%);\n",
       "}\n",
       "#T_03d2b_row8_col0 {\n",
       "  width: 10em;\n",
       "  height: 80%;\n",
       "  background: linear-gradient(90deg,#D9B300 11.3%, transparent 11.3%);\n",
       "}\n",
       "#T_03d2b_row9_col0 {\n",
       "  width: 10em;\n",
       "  height: 80%;\n",
       "  background: linear-gradient(90deg,#D9B300 37.0%, transparent 37.0%);\n",
       "}\n",
       "#T_03d2b_row10_col0 {\n",
       "  width: 10em;\n",
       "  height: 80%;\n",
       "  background: linear-gradient(90deg,#D9B300 2.9%, transparent 2.9%);\n",
       "}\n",
       "#T_03d2b_row11_col0 {\n",
       "  width: 10em;\n",
       "  height: 80%;\n",
       "  background: linear-gradient(90deg,#D9B300 100.0%, transparent 100.0%);\n",
       "}\n",
       "#T_03d2b_row12_col0 {\n",
       "  width: 10em;\n",
       "  height: 80%;\n",
       "  background: linear-gradient(90deg,#D9B300 20.3%, transparent 20.3%);\n",
       "}\n",
       "#T_03d2b_row13_col0 {\n",
       "  width: 10em;\n",
       "  height: 80%;\n",
       "  background: linear-gradient(90deg,#D9B300 24.4%, transparent 24.4%);\n",
       "}\n",
       "#T_03d2b_row14_col0 {\n",
       "  width: 10em;\n",
       "  height: 80%;\n",
       "  background: linear-gradient(90deg,#D9B300 12.0%, transparent 12.0%);\n",
       "}\n",
       "#T_03d2b_row15_col0 {\n",
       "  width: 10em;\n",
       "  height: 80%;\n",
       "  background: linear-gradient(90deg,#D9B300 11.1%, transparent 11.1%);\n",
       "}\n",
       "#T_03d2b_row16_col0 {\n",
       "  width: 10em;\n",
       "  height: 80%;\n",
       "  background: linear-gradient(90deg,#D9B300 7.0%, transparent 7.0%);\n",
       "}\n",
       "#T_03d2b_row17_col0 {\n",
       "  width: 10em;\n",
       "  height: 80%;\n",
       "  background: linear-gradient(90deg,#D9B300 18.6%, transparent 18.6%);\n",
       "}\n",
       "#T_03d2b_row18_col0 {\n",
       "  width: 10em;\n",
       "  height: 80%;\n",
       "  background: linear-gradient(90deg,#D9B300 4.4%, transparent 4.4%);\n",
       "}\n",
       "#T_03d2b_row19_col0 {\n",
       "  width: 10em;\n",
       "  height: 80%;\n",
       "  background: linear-gradient(90deg,#D9B300 1.8%, transparent 1.8%);\n",
       "}\n",
       "#T_03d2b_row20_col0 {\n",
       "  width: 10em;\n",
       "  height: 80%;\n",
       "  background: linear-gradient(90deg,#D9B300 1.7%, transparent 1.7%);\n",
       "}\n",
       "</style>\n",
       "<table id=\"T_03d2b_\">\n",
       "  <thead>\n",
       "    <tr>\n",
       "      <th class=\"blank\" >&nbsp;</th>\n",
       "      <th class=\"blank\" >&nbsp;</th>\n",
       "      <th class=\"blank level0\" >&nbsp;</th>\n",
       "      <th class=\"col_heading level0 col0\" >OrderQuantity</th>\n",
       "    </tr>\n",
       "    <tr>\n",
       "      <th class=\"index_name level0\" >sale_year</th>\n",
       "      <th class=\"index_name level1\" >Category</th>\n",
       "      <th class=\"index_name level2\" >SubCategory</th>\n",
       "      <th class=\"blank col0\" >&nbsp;</th>\n",
       "    </tr>\n",
       "  </thead>\n",
       "  <tbody>\n",
       "    <tr>\n",
       "      <th id=\"T_03d2b_level0_row0\" class=\"row_heading level0 row0\" rowspan=\"2\">2014</th>\n",
       "      <th id=\"T_03d2b_level1_row0\" class=\"row_heading level1 row0\" rowspan=\"2\">Bikes</th>\n",
       "      <th id=\"T_03d2b_level2_row0\" class=\"row_heading level2 row0\" >Mountain Bikes</th>\n",
       "      <td id=\"T_03d2b_row0_col0\" class=\"data row0 col0\" >616</td>\n",
       "    </tr>\n",
       "    <tr>\n",
       "      <th id=\"T_03d2b_level2_row1\" class=\"row_heading level2 row1\" >Road Bikes</th>\n",
       "      <td id=\"T_03d2b_row1_col0\" class=\"data row1 col0\" >2876</td>\n",
       "    </tr>\n",
       "    <tr>\n",
       "      <th id=\"T_03d2b_level0_row2\" class=\"row_heading level0 row2\" rowspan=\"2\">2015</th>\n",
       "      <th id=\"T_03d2b_level1_row2\" class=\"row_heading level1 row2\" rowspan=\"2\">Bikes</th>\n",
       "      <th id=\"T_03d2b_level2_row2\" class=\"row_heading level2 row2\" >Mountain Bikes</th>\n",
       "      <td id=\"T_03d2b_row2_col0\" class=\"data row2 col0\" >1661</td>\n",
       "    </tr>\n",
       "    <tr>\n",
       "      <th id=\"T_03d2b_level2_row3\" class=\"row_heading level2 row3\" >Road Bikes</th>\n",
       "      <td id=\"T_03d2b_row3_col0\" class=\"data row3 col0\" >3284</td>\n",
       "    </tr>\n",
       "    <tr>\n",
       "      <th id=\"T_03d2b_level0_row4\" class=\"row_heading level0 row4\" rowspan=\"17\">2016</th>\n",
       "      <th id=\"T_03d2b_level1_row4\" class=\"row_heading level1 row4\" rowspan=\"8\">Accessories</th>\n",
       "      <th id=\"T_03d2b_level2_row4\" class=\"row_heading level2 row4\" >Bike Racks</th>\n",
       "      <td id=\"T_03d2b_row4_col0\" class=\"data row4 col0\" >493</td>\n",
       "    </tr>\n",
       "    <tr>\n",
       "      <th id=\"T_03d2b_level2_row5\" class=\"row_heading level2 row5\" >Bike Stands</th>\n",
       "      <td id=\"T_03d2b_row5_col0\" class=\"data row5 col0\" >394</td>\n",
       "    </tr>\n",
       "    <tr>\n",
       "      <th id=\"T_03d2b_level2_row6\" class=\"row_heading level2 row6\" >Bottles and Cages</th>\n",
       "      <td id=\"T_03d2b_row6_col0\" class=\"data row6 col0\" >12055</td>\n",
       "    </tr>\n",
       "    <tr>\n",
       "      <th id=\"T_03d2b_level2_row7\" class=\"row_heading level2 row7\" >Cleaners</th>\n",
       "      <td id=\"T_03d2b_row7_col0\" class=\"data row7 col0\" >1381</td>\n",
       "    </tr>\n",
       "    <tr>\n",
       "      <th id=\"T_03d2b_level2_row8\" class=\"row_heading level2 row8\" >Fenders</th>\n",
       "      <td id=\"T_03d2b_row8_col0\" class=\"data row8 col0\" >3239</td>\n",
       "    </tr>\n",
       "    <tr>\n",
       "      <th id=\"T_03d2b_level2_row9\" class=\"row_heading level2 row9\" >Helmets</th>\n",
       "      <td id=\"T_03d2b_row9_col0\" class=\"data row9 col0\" >9685</td>\n",
       "    </tr>\n",
       "    <tr>\n",
       "      <th id=\"T_03d2b_level2_row10\" class=\"row_heading level2 row10\" >Hydration Packs</th>\n",
       "      <td id=\"T_03d2b_row10_col0\" class=\"data row10 col0\" >1124</td>\n",
       "    </tr>\n",
       "    <tr>\n",
       "      <th id=\"T_03d2b_level2_row11\" class=\"row_heading level2 row11\" >Tires and Tubes</th>\n",
       "      <td id=\"T_03d2b_row11_col0\" class=\"data row11 col0\" >25518</td>\n",
       "    </tr>\n",
       "    <tr>\n",
       "      <th id=\"T_03d2b_level1_row12\" class=\"row_heading level1 row12\" rowspan=\"3\">Bikes</th>\n",
       "      <th id=\"T_03d2b_level2_row12\" class=\"row_heading level2 row12\" >Mountain Bikes</th>\n",
       "      <td id=\"T_03d2b_row12_col0\" class=\"data row12 col0\" >5490</td>\n",
       "    </tr>\n",
       "    <tr>\n",
       "      <th id=\"T_03d2b_level2_row13\" class=\"row_heading level2 row13\" >Road Bikes</th>\n",
       "      <td id=\"T_03d2b_row13_col0\" class=\"data row13 col0\" >6535</td>\n",
       "    </tr>\n",
       "    <tr>\n",
       "      <th id=\"T_03d2b_level2_row14\" class=\"row_heading level2 row14\" >Touring Bikes</th>\n",
       "      <td id=\"T_03d2b_row14_col0\" class=\"data row14 col0\" >3410</td>\n",
       "    </tr>\n",
       "    <tr>\n",
       "      <th id=\"T_03d2b_level1_row15\" class=\"row_heading level1 row15\" rowspan=\"6\">Clothing</th>\n",
       "      <th id=\"T_03d2b_level2_row15\" class=\"row_heading level2 row15\" >Caps</th>\n",
       "      <td id=\"T_03d2b_row15_col0\" class=\"data row15 col0\" >3178</td>\n",
       "    </tr>\n",
       "    <tr>\n",
       "      <th id=\"T_03d2b_level2_row16\" class=\"row_heading level2 row16\" >Gloves</th>\n",
       "      <td id=\"T_03d2b_row16_col0\" class=\"data row16 col0\" >2143</td>\n",
       "    </tr>\n",
       "    <tr>\n",
       "      <th id=\"T_03d2b_level2_row17\" class=\"row_heading level2 row17\" >Jerseys</th>\n",
       "      <td id=\"T_03d2b_row17_col0\" class=\"data row17 col0\" >5068</td>\n",
       "    </tr>\n",
       "    <tr>\n",
       "      <th id=\"T_03d2b_level2_row18\" class=\"row_heading level2 row18\" >Shorts</th>\n",
       "      <td id=\"T_03d2b_row18_col0\" class=\"data row18 col0\" >1491</td>\n",
       "    </tr>\n",
       "    <tr>\n",
       "      <th id=\"T_03d2b_level2_row19\" class=\"row_heading level2 row19\" >Socks</th>\n",
       "      <td id=\"T_03d2b_row19_col0\" class=\"data row19 col0\" >856</td>\n",
       "    </tr>\n",
       "    <tr>\n",
       "      <th id=\"T_03d2b_level2_row20\" class=\"row_heading level2 row20\" >Vests</th>\n",
       "      <td id=\"T_03d2b_row20_col0\" class=\"data row20 col0\" >824</td>\n",
       "    </tr>\n",
       "  </tbody>\n",
       "</table>\n"
      ],
      "text/plain": [
       "<pandas.io.formats.style.Styler at 0x1ca2320b760>"
      ]
     },
     "execution_count": 43,
     "metadata": {},
     "output_type": "execute_result"
    }
   ],
   "source": [
    "cat_subcat_qty = df.groupby(['sale_year','Category', 'SubCategory'])['OrderQuantity'].sum().to_frame()\n",
    "cat_subcat_qty = cat_subcat_qty.sort_values(['sale_year', 'Category'], ascending=True)\n",
    "cat_subcat_qty.style.bar(subset=['OrderQuantity'], color='#D9B300')"
   ]
  },
  {
   "cell_type": "markdown",
   "id": "d5a69d63-6205-4df3-8c9d-4051fed9ce87",
   "metadata": {},
   "source": [
    "Country wise quantity ordered"
   ]
  },
  {
   "cell_type": "code",
   "execution_count": 44,
   "id": "635b67a6-6e3c-44e9-aa4a-1ec4af2a4f82",
   "metadata": {},
   "outputs": [
    {
     "data": {
      "image/png": "[encoded data removed]",
      "text/plain": [
       "<Figure size 432x288 with 1 Axes>"
      ]
     },
     "metadata": {},
     "output_type": "display_data"
    }
   ],
   "source": [
    "country_qty_sales = df.groupby('Country')['OrderQuantity'].sum().sort_values(ascending=False)\n",
    "country_qty_sales.plot(kind='bar', color='#374045');"
   ]
  },
  {
   "cell_type": "markdown",
   "id": "223c734f-256b-4606-9f99-170038f85d81",
   "metadata": {},
   "source": [
    "High quantity of products is ordered from Australia and United States"
   ]
  },
  {
   "cell_type": "markdown",
   "id": "6cd80bda-a91a-4bd2-b42e-d272166c06e2",
   "metadata": {},
   "source": [
    "# Profit"
   ]
  },
  {
   "cell_type": "markdown",
   "id": "8b7bc0a0-812f-4f14-baf1-5dd92bd127c4",
   "metadata": {},
   "source": [
    "Overall profit based on order year, category and subcategory"
   ]
  },
  {
   "cell_type": "code",
   "execution_count": 45,
   "id": "139f4199-ecc2-4bbc-9d27-5597cbcdeff1",
   "metadata": {},
   "outputs": [
    {
     "data": {
      "text/html": [
       "<style type=\"text/css\">\n",
       "#T_7be1d_row0_col0 {\n",
       "  width: 10em;\n",
       "  height: 80%;\n",
       "  background: linear-gradient(90deg,#D9B300 20.1%, transparent 20.1%);\n",
       "}\n",
       "#T_7be1d_row1_col0 {\n",
       "  width: 10em;\n",
       "  height: 80%;\n",
       "  background: linear-gradient(90deg,#D9B300 77.6%, transparent 77.6%);\n",
       "}\n",
       "#T_7be1d_row2_col0 {\n",
       "  width: 10em;\n",
       "  height: 80%;\n",
       "  background: linear-gradient(90deg,#D9B300 35.0%, transparent 35.0%);\n",
       "}\n",
       "#T_7be1d_row3_col0 {\n",
       "  width: 10em;\n",
       "  height: 80%;\n",
       "  background: linear-gradient(90deg,#D9B300 47.2%, transparent 47.2%);\n",
       "}\n",
       "#T_7be1d_row4_col0, #T_7be1d_row5_col0, #T_7be1d_row10_col0 {\n",
       "  width: 10em;\n",
       "  height: 80%;\n",
       "  background: linear-gradient(90deg,#D9B300 0.7%, transparent 0.7%);\n",
       "}\n",
       "#T_7be1d_row6_col0 {\n",
       "  width: 10em;\n",
       "  height: 80%;\n",
       "  background: linear-gradient(90deg,#D9B300 1.1%, transparent 1.1%);\n",
       "}\n",
       "#T_7be1d_row7_col0, #T_7be1d_row15_col0 {\n",
       "  width: 10em;\n",
       "  height: 80%;\n",
       "  background: linear-gradient(90deg,#D9B300 0.0%, transparent 0.0%);\n",
       "}\n",
       "#T_7be1d_row8_col0 {\n",
       "  width: 10em;\n",
       "  height: 80%;\n",
       "  background: linear-gradient(90deg,#D9B300 0.8%, transparent 0.8%);\n",
       "}\n",
       "#T_7be1d_row9_col0 {\n",
       "  width: 10em;\n",
       "  height: 80%;\n",
       "  background: linear-gradient(90deg,#D9B300 4.5%, transparent 4.5%);\n",
       "}\n",
       "#T_7be1d_row11_col0 {\n",
       "  width: 10em;\n",
       "  height: 80%;\n",
       "  background: linear-gradient(90deg,#D9B300 4.9%, transparent 4.9%);\n",
       "}\n",
       "#T_7be1d_row12_col0 {\n",
       "  width: 10em;\n",
       "  height: 80%;\n",
       "  background: linear-gradient(90deg,#D9B300 100.0%, transparent 100.0%);\n",
       "}\n",
       "#T_7be1d_row13_col0 {\n",
       "  width: 10em;\n",
       "  height: 80%;\n",
       "  background: linear-gradient(90deg,#D9B300 65.5%, transparent 65.5%);\n",
       "}\n",
       "#T_7be1d_row14_col0 {\n",
       "  width: 10em;\n",
       "  height: 80%;\n",
       "  background: linear-gradient(90deg,#D9B300 50.0%, transparent 50.0%);\n",
       "}\n",
       "#T_7be1d_row16_col0, #T_7be1d_row20_col0 {\n",
       "  width: 10em;\n",
       "  height: 80%;\n",
       "  background: linear-gradient(90deg,#D9B300 0.6%, transparent 0.6%);\n",
       "}\n",
       "#T_7be1d_row17_col0 {\n",
       "  width: 10em;\n",
       "  height: 80%;\n",
       "  background: linear-gradient(90deg,#D9B300 1.2%, transparent 1.2%);\n",
       "}\n",
       "#T_7be1d_row18_col0 {\n",
       "  width: 10em;\n",
       "  height: 80%;\n",
       "  background: linear-gradient(90deg,#D9B300 1.3%, transparent 1.3%);\n",
       "}\n",
       "#T_7be1d_row19_col0 {\n",
       "  width: 10em;\n",
       "  height: 80%;\n",
       "}\n",
       "</style>\n",
       "<table id=\"T_7be1d_\">\n",
       "  <thead>\n",
       "    <tr>\n",
       "      <th class=\"blank\" >&nbsp;</th>\n",
       "      <th class=\"blank\" >&nbsp;</th>\n",
       "      <th class=\"blank level0\" >&nbsp;</th>\n",
       "      <th class=\"col_heading level0 col0\" >profit</th>\n",
       "    </tr>\n",
       "    <tr>\n",
       "      <th class=\"index_name level0\" >sale_year</th>\n",
       "      <th class=\"index_name level1\" >Category</th>\n",
       "      <th class=\"index_name level2\" >SubCategory</th>\n",
       "      <th class=\"blank col0\" >&nbsp;</th>\n",
       "    </tr>\n",
       "  </thead>\n",
       "  <tbody>\n",
       "    <tr>\n",
       "      <th id=\"T_7be1d_level0_row0\" class=\"row_heading level0 row0\" rowspan=\"2\">2014</th>\n",
       "      <th id=\"T_7be1d_level1_row0\" class=\"row_heading level1 row0\" rowspan=\"2\">Bikes</th>\n",
       "      <th id=\"T_7be1d_level2_row0\" class=\"row_heading level2 row0\" >Mountain Bikes</th>\n",
       "      <td id=\"T_7be1d_row0_col0\" class=\"data row0 col0\" >586874.557600</td>\n",
       "    </tr>\n",
       "    <tr>\n",
       "      <th id=\"T_7be1d_level2_row1\" class=\"row_heading level2 row1\" >Road Bikes</th>\n",
       "      <td id=\"T_7be1d_row1_col0\" class=\"data row1 col0\" >2256280.998300</td>\n",
       "    </tr>\n",
       "    <tr>\n",
       "      <th id=\"T_7be1d_level0_row2\" class=\"row_heading level0 row2\" rowspan=\"2\">2015</th>\n",
       "      <th id=\"T_7be1d_level1_row2\" class=\"row_heading level1 row2\" rowspan=\"2\">Bikes</th>\n",
       "      <th id=\"T_7be1d_level2_row2\" class=\"row_heading level2 row2\" >Mountain Bikes</th>\n",
       "      <td id=\"T_7be1d_row2_col0\" class=\"data row2 col0\" >1019388.334900</td>\n",
       "    </tr>\n",
       "    <tr>\n",
       "      <th id=\"T_7be1d_level2_row3\" class=\"row_heading level2 row3\" >Road Bikes</th>\n",
       "      <td id=\"T_7be1d_row3_col0\" class=\"data row3 col0\" >1375064.915000</td>\n",
       "    </tr>\n",
       "    <tr>\n",
       "      <th id=\"T_7be1d_level0_row4\" class=\"row_heading level0 row4\" rowspan=\"17\">2016</th>\n",
       "      <th id=\"T_7be1d_level1_row4\" class=\"row_heading level1 row4\" rowspan=\"8\">Accessories</th>\n",
       "      <th id=\"T_7be1d_level2_row4\" class=\"row_heading level2 row4\" >Bike Racks</th>\n",
       "      <td id=\"T_7be1d_row4_col0\" class=\"data row4 col0\" >23136.960000</td>\n",
       "    </tr>\n",
       "    <tr>\n",
       "      <th id=\"T_7be1d_level2_row5\" class=\"row_heading level2 row5\" >Bike Stands</th>\n",
       "      <td id=\"T_7be1d_row5_col0\" class=\"data row5 col0\" >23689.092000</td>\n",
       "    </tr>\n",
       "    <tr>\n",
       "      <th id=\"T_7be1d_level2_row6\" class=\"row_heading level2 row6\" >Bottles and Cages</th>\n",
       "      <td id=\"T_7be1d_row6_col0\" class=\"data row6 col0\" >34448.978300</td>\n",
       "    </tr>\n",
       "    <tr>\n",
       "      <th id=\"T_7be1d_level2_row7\" class=\"row_heading level2 row7\" >Cleaners</th>\n",
       "      <td id=\"T_7be1d_row7_col0\" class=\"data row7 col0\" >4299.868800</td>\n",
       "    </tr>\n",
       "    <tr>\n",
       "      <th id=\"T_7be1d_level2_row8\" class=\"row_heading level2 row8\" >Fenders</th>\n",
       "      <td id=\"T_7be1d_row8_col0\" class=\"data row8 col0\" >27711.633000</td>\n",
       "    </tr>\n",
       "    <tr>\n",
       "      <th id=\"T_7be1d_level2_row9\" class=\"row_heading level2 row9\" >Helmets</th>\n",
       "      <td id=\"T_7be1d_row9_col0\" class=\"data row9 col0\" >135167.732700</td>\n",
       "    </tr>\n",
       "    <tr>\n",
       "      <th id=\"T_7be1d_level2_row10\" class=\"row_heading level2 row10\" >Hydration Packs</th>\n",
       "      <td id=\"T_7be1d_row10_col0\" class=\"data row10 col0\" >24303.132200</td>\n",
       "    </tr>\n",
       "    <tr>\n",
       "      <th id=\"T_7be1d_level2_row11\" class=\"row_heading level2 row11\" >Tires and Tubes</th>\n",
       "      <td id=\"T_7be1d_row11_col0\" class=\"data row11 col0\" >144793.083200</td>\n",
       "    </tr>\n",
       "    <tr>\n",
       "      <th id=\"T_7be1d_level1_row12\" class=\"row_heading level1 row12\" rowspan=\"3\">Bikes</th>\n",
       "      <th id=\"T_7be1d_level2_row12\" class=\"row_heading level2 row12\" >Mountain Bikes</th>\n",
       "      <td id=\"T_7be1d_row12_col0\" class=\"data row12 col0\" >2907361.198000</td>\n",
       "    </tr>\n",
       "    <tr>\n",
       "      <th id=\"T_7be1d_level2_row13\" class=\"row_heading level2 row13\" >Road Bikes</th>\n",
       "      <td id=\"T_7be1d_row13_col0\" class=\"data row13 col0\" >1905953.736400</td>\n",
       "    </tr>\n",
       "    <tr>\n",
       "      <th id=\"T_7be1d_level2_row14\" class=\"row_heading level2 row14\" >Touring Bikes</th>\n",
       "      <td id=\"T_7be1d_row14_col0\" class=\"data row14 col0\" >1454872.695900</td>\n",
       "    </tr>\n",
       "    <tr>\n",
       "      <th id=\"T_7be1d_level1_row15\" class=\"row_heading level1 row15\" rowspan=\"6\">Clothing</th>\n",
       "      <th id=\"T_7be1d_level2_row15\" class=\"row_heading level2 row15\" >Caps</th>\n",
       "      <td id=\"T_7be1d_row15_col0\" class=\"data row15 col0\" >4331.831500</td>\n",
       "    </tr>\n",
       "    <tr>\n",
       "      <th id=\"T_7be1d_level2_row16\" class=\"row_heading level2 row16\" >Gloves</th>\n",
       "      <td id=\"T_7be1d_row16_col0\" class=\"data row16 col0\" >20895.744100</td>\n",
       "    </tr>\n",
       "    <tr>\n",
       "      <th id=\"T_7be1d_level2_row17\" class=\"row_heading level2 row17\" >Jerseys</th>\n",
       "      <td id=\"T_7be1d_row17_col0\" class=\"data row17 col0\" >37965.228300</td>\n",
       "    </tr>\n",
       "    <tr>\n",
       "      <th id=\"T_7be1d_level2_row18\" class=\"row_heading level2 row18\" >Shorts</th>\n",
       "      <td id=\"T_7be1d_row18_col0\" class=\"data row18 col0\" >41973.524600</td>\n",
       "    </tr>\n",
       "    <tr>\n",
       "      <th id=\"T_7be1d_level2_row19\" class=\"row_heading level2 row19\" >Socks</th>\n",
       "      <td id=\"T_7be1d_row19_col0\" class=\"data row19 col0\" >3055.841100</td>\n",
       "    </tr>\n",
       "    <tr>\n",
       "      <th id=\"T_7be1d_level2_row20\" class=\"row_heading level2 row20\" >Vests</th>\n",
       "      <td id=\"T_7be1d_row20_col0\" class=\"data row20 col0\" >20948.777000</td>\n",
       "    </tr>\n",
       "  </tbody>\n",
       "</table>\n"
      ],
      "text/plain": [
       "<pandas.io.formats.style.Styler at 0x1ca239e8f40>"
      ]
     },
     "execution_count": 45,
     "metadata": {},
     "output_type": "execute_result"
    }
   ],
   "source": [
    "cat_subcat_profit = df.groupby(['sale_year','Category', 'SubCategory'])['profit'].sum().to_frame()\n",
    "\n",
    "#Sorting the results\n",
    "cat_subcat_profit = cat_subcat_profit.sort_values(['sale_year', 'Category'], ascending=True)\n",
    "cat_subcat_profit.style.bar(subset=['profit'], color='#D9B300')"
   ]
  },
  {
   "cell_type": "markdown",
   "id": "7af434c4-7e5d-4556-9d9a-8c28a7046b76",
   "metadata": {},
   "source": [
    "It is observed that major profit is given by the bike category"
   ]
  },
  {
   "cell_type": "markdown",
   "id": "1c4bf4aa-593a-4138-9908-36e8b0d39f88",
   "metadata": {},
   "source": [
    "Low profit contributing product"
   ]
  },
  {
   "cell_type": "code",
   "execution_count": 46,
   "id": "f2734503-e9d1-4a74-b82b-bfdf6d44ad55",
   "metadata": {},
   "outputs": [
    {
     "data": {
      "text/html": [
       "<div>\n",
       "<style scoped>\n",
       "    .dataframe tbody tr th:only-of-type {\n",
       "        vertical-align: middle;\n",
       "    }\n",
       "\n",
       "    .dataframe tbody tr th {\n",
       "        vertical-align: top;\n",
       "    }\n",
       "\n",
       "    .dataframe thead th {\n",
       "        text-align: right;\n",
       "    }\n",
       "</style>\n",
       "<table border=\"1\" class=\"dataframe\">\n",
       "  <thead>\n",
       "    <tr style=\"text-align: right;\">\n",
       "      <th></th>\n",
       "      <th></th>\n",
       "      <th></th>\n",
       "      <th>profit</th>\n",
       "    </tr>\n",
       "    <tr>\n",
       "      <th>Category</th>\n",
       "      <th>SubCategory</th>\n",
       "      <th>ProductName</th>\n",
       "      <th></th>\n",
       "    </tr>\n",
       "  </thead>\n",
       "  <tbody>\n",
       "    <tr>\n",
       "      <th rowspan=\"2\" valign=\"top\">Clothing</th>\n",
       "      <th rowspan=\"2\" valign=\"top\">Socks</th>\n",
       "      <th>Racing Socks- L</th>\n",
       "      <td>1474.4574</td>\n",
       "    </tr>\n",
       "    <tr>\n",
       "      <th>Racing Socks- M</th>\n",
       "      <td>1581.3837</td>\n",
       "    </tr>\n",
       "    <tr>\n",
       "      <th rowspan=\"2\" valign=\"top\">Accessories</th>\n",
       "      <th>Cleaners</th>\n",
       "      <th>Bike Wash - Dissolver</th>\n",
       "      <td>4299.8688</td>\n",
       "    </tr>\n",
       "    <tr>\n",
       "      <th>Tires and Tubes</th>\n",
       "      <th>Patch Kit/8 Patches</th>\n",
       "      <td>4314.8350</td>\n",
       "    </tr>\n",
       "    <tr>\n",
       "      <th>Clothing</th>\n",
       "      <th>Caps</th>\n",
       "      <th>AWC Logo Cap</th>\n",
       "      <td>4331.8315</td>\n",
       "    </tr>\n",
       "    <tr>\n",
       "      <th>Accessories</th>\n",
       "      <th>Tires and Tubes</th>\n",
       "      <th>Touring Tire Tube</th>\n",
       "      <td>4363.8089</td>\n",
       "    </tr>\n",
       "    <tr>\n",
       "      <th rowspan=\"4\" valign=\"top\">Clothing</th>\n",
       "      <th rowspan=\"4\" valign=\"top\">Jerseys</th>\n",
       "      <th>Long-Sleeve Logo Jersey- XL</th>\n",
       "      <td>4495.6007</td>\n",
       "    </tr>\n",
       "    <tr>\n",
       "      <th>Short-Sleeve Classic Jersey- L</th>\n",
       "      <td>4544.8782</td>\n",
       "    </tr>\n",
       "    <tr>\n",
       "      <th>Long-Sleeve Logo Jersey- S</th>\n",
       "      <td>4610.5777</td>\n",
       "    </tr>\n",
       "    <tr>\n",
       "      <th>Short-Sleeve Classic Jersey- M</th>\n",
       "      <td>4793.2322</td>\n",
       "    </tr>\n",
       "  </tbody>\n",
       "</table>\n",
       "</div>"
      ],
      "text/plain": [
       "                                                               profit\n",
       "Category    SubCategory     ProductName                              \n",
       "Clothing    Socks           Racing Socks- L                 1474.4574\n",
       "                            Racing Socks- M                 1581.3837\n",
       "Accessories Cleaners        Bike Wash - Dissolver           4299.8688\n",
       "            Tires and Tubes Patch Kit/8 Patches             4314.8350\n",
       "Clothing    Caps            AWC Logo Cap                    4331.8315\n",
       "Accessories Tires and Tubes Touring Tire Tube               4363.8089\n",
       "Clothing    Jerseys         Long-Sleeve Logo Jersey- XL     4495.6007\n",
       "                            Short-Sleeve Classic Jersey- L  4544.8782\n",
       "                            Long-Sleeve Logo Jersey- S      4610.5777\n",
       "                            Short-Sleeve Classic Jersey- M  4793.2322"
      ]
     },
     "execution_count": 46,
     "metadata": {},
     "output_type": "execute_result"
    }
   ],
   "source": [
    " df.groupby(['Category', 'SubCategory','ProductName'])['profit'].sum().nsmallest(10).to_frame()"
   ]
  },
  {
   "cell_type": "markdown",
   "id": "0483ff9b-f942-4eb7-99f7-305ce60648fa",
   "metadata": {},
   "source": [
    "Profitability by country"
   ]
  },
  {
   "cell_type": "code",
   "execution_count": 47,
   "id": "c0f80168-8c39-4b3d-aa89-75b49c30e1bd",
   "metadata": {
    "collapsed": true,
    "jupyter": {
     "outputs_hidden": true
    },
    "tags": []
   },
   "outputs": [
    {
     "data": {
      "application/vnd.plotly.v1+json": {
       "config": {
        "plotlyServerURL": "https://plot.ly"
       },
       "data": [
        {
         "alignmentgroup": "True",
         "hovertemplate": "Country=%{x}<br>profit=%{y}<br>SalesAmount=%{marker.color}<extra></extra>",
         "legendgroup": "",
         "marker": {
          "color": [
           9051766.3544,
           1966991.1620999998,
           2640525.7643,
           2890707.5082,
           3387490.8008999997,
           9370355.0008
          ],
          "coloraxis": "coloraxis",
          "pattern": {
           "shape": ""
          }
         },
         "name": "",
         "offsetgroup": "",
         "orientation": "v",
         "showlegend": false,
         "textposition": "auto",
         "texttemplate": "%{y:.2s}",
         "type": "bar",
         "x": [
          "Australia",
          "Canada",
          "France",
          "Germany",
          "United Kingdom",
          "United States"
         ],
         "xaxis": "x",
         "y": [
          3680840.8963,
          823799.3115000001,
          1084258.0744,
          1185283.9686,
          1388156.9654,
          3890178.6467
         ],
         "yaxis": "y"
        }
       ],
       "layout": {
        "barmode": "relative",
        "coloraxis": {
         "colorbar": {
          "title": {
           "text": "SalesAmount"
          }
         },
         "colorscale": [
          [
           0,
           "#0d0887"
          ],
          [
           0.1111111111111111,
           "#46039f"
          ],
          [
           0.2222222222222222,
           "#7201a8"
          ],
          [
           0.3333333333333333,
           "#9c179e"
          ],
          [
           0.4444444444444444,
           "#bd3786"
          ],
          [
           0.5555555555555556,
           "#d8576b"
          ],
          [
           0.6666666666666666,
           "#ed7953"
          ],
          [
           0.7777777777777778,
           "#fb9f3a"
          ],
          [
           0.8888888888888888,
           "#fdca26"
          ],
          [
           1,
           "#f0f921"
          ]
         ]
        },
        "height": 400,
        "legend": {
         "tracegroupgap": 0
        },
        "margin": {
         "t": 60
        },
        "template": {
         "data": {
          "bar": [
           {
            "error_x": {
             "color": "#2a3f5f"
            },
            "error_y": {
             "color": "#2a3f5f"
            },
            "marker": {
             "line": {
              "color": "#E5ECF6",
              "width": 0.5
             },
             "pattern": {
              "fillmode": "overlay",
              "size": 10,
              "solidity": 0.2
             }
            },
            "type": "bar"
           }
          ],
          "barpolar": [
           {
            "marker": {
             "line": {
              "color": "#E5ECF6",
              "width": 0.5
             },
             "pattern": {
              "fillmode": "overlay",
              "size": 10,
              "solidity": 0.2
             }
            },
            "type": "barpolar"
           }
          ],
          "carpet": [
           {
            "aaxis": {
             "endlinecolor": "#2a3f5f",
             "gridcolor": "white",
             "linecolor": "white",
             "minorgridcolor": "white",
             "startlinecolor": "#2a3f5f"
            },
            "baxis": {
             "endlinecolor": "#2a3f5f",
             "gridcolor": "white",
             "linecolor": "white",
             "minorgridcolor": "white",
             "startlinecolor": "#2a3f5f"
            },
            "type": "carpet"
           }
          ],
          "choropleth": [
           {
            "colorbar": {
             "outlinewidth": 0,
             "ticks": ""
            },
            "type": "choropleth"
           }
          ],
          "contour": [
           {
            "colorbar": {
             "outlinewidth": 0,
             "ticks": ""
            },
            "colorscale": [
             [
              0,
              "#0d0887"
             ],
             [
              0.1111111111111111,
              "#46039f"
             ],
             [
              0.2222222222222222,
              "#7201a8"
             ],
             [
              0.3333333333333333,
              "#9c179e"
             ],
             [
              0.4444444444444444,
              "#bd3786"
             ],
             [
              0.5555555555555556,
              "#d8576b"
             ],
             [
              0.6666666666666666,
              "#ed7953"
             ],
             [
              0.7777777777777778,
              "#fb9f3a"
             ],
             [
              0.8888888888888888,
              "#fdca26"
             ],
             [
              1,
              "#f0f921"
             ]
            ],
            "type": "contour"
           }
          ],
          "contourcarpet": [
           {
            "colorbar": {
             "outlinewidth": 0,
             "ticks": ""
            },
            "type": "contourcarpet"
           }
          ],
          "heatmap": [
           {
            "colorbar": {
             "outlinewidth": 0,
             "ticks": ""
            },
            "colorscale": [
             [
              0,
              "#0d0887"
             ],
             [
              0.1111111111111111,
              "#46039f"
             ],
             [
              0.2222222222222222,
              "#7201a8"
             ],
             [
              0.3333333333333333,
              "#9c179e"
             ],
             [
              0.4444444444444444,
              "#bd3786"
             ],
             [
              0.5555555555555556,
              "#d8576b"
             ],
             [
              0.6666666666666666,
              "#ed7953"
             ],
             [
              0.7777777777777778,
              "#fb9f3a"
             ],
             [
              0.8888888888888888,
              "#fdca26"
             ],
             [
              1,
              "#f0f921"
             ]
            ],
            "type": "heatmap"
           }
          ],
          "heatmapgl": [
           {
            "colorbar": {
             "outlinewidth": 0,
             "ticks": ""
            },
            "colorscale": [
             [
              0,
              "#0d0887"
             ],
             [
              0.1111111111111111,
              "#46039f"
             ],
             [
              0.2222222222222222,
              "#7201a8"
             ],
             [
              0.3333333333333333,
              "#9c179e"
             ],
             [
              0.4444444444444444,
              "#bd3786"
             ],
             [
              0.5555555555555556,
              "#d8576b"
             ],
             [
              0.6666666666666666,
              "#ed7953"
             ],
             [
              0.7777777777777778,
              "#fb9f3a"
             ],
             [
              0.8888888888888888,
              "#fdca26"
             ],
             [
              1,
              "#f0f921"
             ]
            ],
            "type": "heatmapgl"
           }
          ],
          "histogram": [
           {
            "marker": {
             "pattern": {
              "fillmode": "overlay",
              "size": 10,
              "solidity": 0.2
             }
            },
            "type": "histogram"
           }
          ],
          "histogram2d": [
           {
            "colorbar": {
             "outlinewidth": 0,
             "ticks": ""
            },
            "colorscale": [
             [
              0,
              "#0d0887"
             ],
             [
              0.1111111111111111,
              "#46039f"
             ],
             [
              0.2222222222222222,
              "#7201a8"
             ],
             [
              0.3333333333333333,
              "#9c179e"
             ],
             [
              0.4444444444444444,
              "#bd3786"
             ],
             [
              0.5555555555555556,
              "#d8576b"
             ],
             [
              0.6666666666666666,
              "#ed7953"
             ],
             [
              0.7777777777777778,
              "#fb9f3a"
             ],
             [
              0.8888888888888888,
              "#fdca26"
             ],
             [
              1,
              "#f0f921"
             ]
            ],
            "type": "histogram2d"
           }
          ],
          "histogram2dcontour": [
           {
            "colorbar": {
             "outlinewidth": 0,
             "ticks": ""
            },
            "colorscale": [
             [
              0,
              "#0d0887"
             ],
             [
              0.1111111111111111,
              "#46039f"
             ],
             [
              0.2222222222222222,
              "#7201a8"
             ],
             [
              0.3333333333333333,
              "#9c179e"
             ],
             [
              0.4444444444444444,
              "#bd3786"
             ],
             [
              0.5555555555555556,
              "#d8576b"
             ],
             [
              0.6666666666666666,
              "#ed7953"
             ],
             [
              0.7777777777777778,
              "#fb9f3a"
             ],
             [
              0.8888888888888888,
              "#fdca26"
             ],
             [
              1,
              "#f0f921"
             ]
            ],
            "type": "histogram2dcontour"
           }
          ],
          "mesh3d": [
           {
            "colorbar": {
             "outlinewidth": 0,
             "ticks": ""
            },
            "type": "mesh3d"
           }
          ],
          "parcoords": [
           {
            "line": {
             "colorbar": {
              "outlinewidth": 0,
              "ticks": ""
             }
            },
            "type": "parcoords"
           }
          ],
          "pie": [
           {
            "automargin": true,
            "type": "pie"
           }
          ],
          "scatter": [
           {
            "fillpattern": {
             "fillmode": "overlay",
             "size": 10,
             "solidity": 0.2
            },
            "type": "scatter"
           }
          ],
          "scatter3d": [
           {
            "line": {
             "colorbar": {
              "outlinewidth": 0,
              "ticks": ""
             }
            },
            "marker": {
             "colorbar": {
              "outlinewidth": 0,
              "ticks": ""
             }
            },
            "type": "scatter3d"
           }
          ],
          "scattercarpet": [
           {
            "marker": {
             "colorbar": {
              "outlinewidth": 0,
              "ticks": ""
             }
            },
            "type": "scattercarpet"
           }
          ],
          "scattergeo": [
           {
            "marker": {
             "colorbar": {
              "outlinewidth": 0,
              "ticks": ""
             }
            },
            "type": "scattergeo"
           }
          ],
          "scattergl": [
           {
            "marker": {
             "colorbar": {
              "outlinewidth": 0,
              "ticks": ""
             }
            },
            "type": "scattergl"
           }
          ],
          "scattermapbox": [
           {
            "marker": {
             "colorbar": {
              "outlinewidth": 0,
              "ticks": ""
             }
            },
            "type": "scattermapbox"
           }
          ],
          "scatterpolar": [
           {
            "marker": {
             "colorbar": {
              "outlinewidth": 0,
              "ticks": ""
             }
            },
            "type": "scatterpolar"
           }
          ],
          "scatterpolargl": [
           {
            "marker": {
             "colorbar": {
              "outlinewidth": 0,
              "ticks": ""
             }
            },
            "type": "scatterpolargl"
           }
          ],
          "scatterternary": [
           {
            "marker": {
             "colorbar": {
              "outlinewidth": 0,
              "ticks": ""
             }
            },
            "type": "scatterternary"
           }
          ],
          "surface": [
           {
            "colorbar": {
             "outlinewidth": 0,
             "ticks": ""
            },
            "colorscale": [
             [
              0,
              "#0d0887"
             ],
             [
              0.1111111111111111,
              "#46039f"
             ],
             [
              0.2222222222222222,
              "#7201a8"
             ],
             [
              0.3333333333333333,
              "#9c179e"
             ],
             [
              0.4444444444444444,
              "#bd3786"
             ],
             [
              0.5555555555555556,
              "#d8576b"
             ],
             [
              0.6666666666666666,
              "#ed7953"
             ],
             [
              0.7777777777777778,
              "#fb9f3a"
             ],
             [
              0.8888888888888888,
              "#fdca26"
             ],
             [
              1,
              "#f0f921"
             ]
            ],
            "type": "surface"
           }
          ],
          "table": [
           {
            "cells": {
             "fill": {
              "color": "#EBF0F8"
             },
             "line": {
              "color": "white"
             }
            },
            "header": {
             "fill": {
              "color": "#C8D4E3"
             },
             "line": {
              "color": "white"
             }
            },
            "type": "table"
           }
          ]
         },
         "layout": {
          "annotationdefaults": {
           "arrowcolor": "#2a3f5f",
           "arrowhead": 0,
           "arrowwidth": 1
          },
          "autotypenumbers": "strict",
          "coloraxis": {
           "colorbar": {
            "outlinewidth": 0,
            "ticks": ""
           }
          },
          "colorscale": {
           "diverging": [
            [
             0,
             "#8e0152"
            ],
            [
             0.1,
             "#c51b7d"
            ],
            [
             0.2,
             "#de77ae"
            ],
            [
             0.3,
             "#f1b6da"
            ],
            [
             0.4,
             "#fde0ef"
            ],
            [
             0.5,
             "#f7f7f7"
            ],
            [
             0.6,
             "#e6f5d0"
            ],
            [
             0.7,
             "#b8e186"
            ],
            [
             0.8,
             "#7fbc41"
            ],
            [
             0.9,
             "#4d9221"
            ],
            [
             1,
             "#276419"
            ]
           ],
           "sequential": [
            [
             0,
             "#0d0887"
            ],
            [
             0.1111111111111111,
             "#46039f"
            ],
            [
             0.2222222222222222,
             "#7201a8"
            ],
            [
             0.3333333333333333,
             "#9c179e"
            ],
            [
             0.4444444444444444,
             "#bd3786"
            ],
            [
             0.5555555555555556,
             "#d8576b"
            ],
            [
             0.6666666666666666,
             "#ed7953"
            ],
            [
             0.7777777777777778,
             "#fb9f3a"
            ],
            [
             0.8888888888888888,
             "#fdca26"
            ],
            [
             1,
             "#f0f921"
            ]
           ],
           "sequentialminus": [
            [
             0,
             "#0d0887"
            ],
            [
             0.1111111111111111,
             "#46039f"
            ],
            [
             0.2222222222222222,
             "#7201a8"
            ],
            [
             0.3333333333333333,
             "#9c179e"
            ],
            [
             0.4444444444444444,
             "#bd3786"
            ],
            [
             0.5555555555555556,
             "#d8576b"
            ],
            [
             0.6666666666666666,
             "#ed7953"
            ],
            [
             0.7777777777777778,
             "#fb9f3a"
            ],
            [
             0.8888888888888888,
             "#fdca26"
            ],
            [
             1,
             "#f0f921"
            ]
           ]
          },
          "colorway": [
           "#636efa",
           "#EF553B",
           "#00cc96",
           "#ab63fa",
           "#FFA15A",
           "#19d3f3",
           "#FF6692",
           "#B6E880",
           "#FF97FF",
           "#FECB52"
          ],
          "font": {
           "color": "#2a3f5f"
          },
          "geo": {
           "bgcolor": "white",
           "lakecolor": "white",
           "landcolor": "#E5ECF6",
           "showlakes": true,
           "showland": true,
           "subunitcolor": "white"
          },
          "hoverlabel": {
           "align": "left"
          },
          "hovermode": "closest",
          "mapbox": {
           "style": "light"
          },
          "paper_bgcolor": "white",
          "plot_bgcolor": "#E5ECF6",
          "polar": {
           "angularaxis": {
            "gridcolor": "white",
            "linecolor": "white",
            "ticks": ""
           },
           "bgcolor": "#E5ECF6",
           "radialaxis": {
            "gridcolor": "white",
            "linecolor": "white",
            "ticks": ""
           }
          },
          "scene": {
           "xaxis": {
            "backgroundcolor": "#E5ECF6",
            "gridcolor": "white",
            "gridwidth": 2,
            "linecolor": "white",
            "showbackground": true,
            "ticks": "",
            "zerolinecolor": "white"
           },
           "yaxis": {
            "backgroundcolor": "#E5ECF6",
            "gridcolor": "white",
            "gridwidth": 2,
            "linecolor": "white",
            "showbackground": true,
            "ticks": "",
            "zerolinecolor": "white"
           },
           "zaxis": {
            "backgroundcolor": "#E5ECF6",
            "gridcolor": "white",
            "gridwidth": 2,
            "linecolor": "white",
            "showbackground": true,
            "ticks": "",
            "zerolinecolor": "white"
           }
          },
          "shapedefaults": {
           "line": {
            "color": "#2a3f5f"
           }
          },
          "ternary": {
           "aaxis": {
            "gridcolor": "white",
            "linecolor": "white",
            "ticks": ""
           },
           "baxis": {
            "gridcolor": "white",
            "linecolor": "white",
            "ticks": ""
           },
           "bgcolor": "#E5ECF6",
           "caxis": {
            "gridcolor": "white",
            "linecolor": "white",
            "ticks": ""
           }
          },
          "title": {
           "x": 0.05
          },
          "xaxis": {
           "automargin": true,
           "gridcolor": "white",
           "linecolor": "white",
           "ticks": "",
           "title": {
            "standoff": 15
           },
           "zerolinecolor": "white",
           "zerolinewidth": 2
          },
          "yaxis": {
           "automargin": true,
           "gridcolor": "white",
           "linecolor": "white",
           "ticks": "",
           "title": {
            "standoff": 15
           },
           "zerolinecolor": "white",
           "zerolinewidth": 2
          }
         }
        },
        "xaxis": {
         "anchor": "y",
         "autorange": true,
         "domain": [
          0,
          1
         ],
         "range": [
          -0.5,
          5.5
         ],
         "title": {
          "text": "Country"
         },
         "type": "category"
        },
        "yaxis": {
         "anchor": "x",
         "autorange": true,
         "domain": [
          0,
          1
         ],
         "range": [
          0,
          4094924.891263158
         ],
         "title": {
          "text": "profit"
         },
         "type": "linear"
        }
       }
      },
      "text/html": [
       "<div>                            <div id=\"20bab869-13e3-4cf1-a3ad-109deebbc476\" class=\"plotly-graph-div\" style=\"height:400px; width:100%;\"></div>            <script type=\"text/javascript\">                require([\"plotly\"], function(Plotly) {                    window.PLOTLYENV=window.PLOTLYENV || {};                                    if (document.getElementById(\"20bab869-13e3-4cf1-a3ad-109deebbc476\")) {                    Plotly.newPlot(                        \"20bab869-13e3-4cf1-a3ad-109deebbc476\",                        [{\"alignmentgroup\":\"True\",\"hovertemplate\":\"Country=%{x}\\u003cbr\\u003eprofit=%{y}\\u003cbr\\u003eSalesAmount=%{marker.color}\\u003cextra\\u003e\\u003c\\u002fextra\\u003e\",\"legendgroup\":\"\",\"marker\":{\"color\":[9051766.3544,1966991.1620999998,2640525.7643,2890707.5082,3387490.8008999997,9370355.0008],\"coloraxis\":\"coloraxis\",\"pattern\":{\"shape\":\"\"}},\"name\":\"\",\"offsetgroup\":\"\",\"orientation\":\"v\",\"showlegend\":false,\"textposition\":\"auto\",\"texttemplate\":\"%{y:.2s}\",\"x\":[\"Australia\",\"Canada\",\"France\",\"Germany\",\"United Kingdom\",\"United States\"],\"xaxis\":\"x\",\"y\":[3680840.8963,823799.3115000001,1084258.0744,1185283.9686,1388156.9654,3890178.6467],\"yaxis\":\"y\",\"type\":\"bar\"}],                        {\"template\":{\"data\":{\"histogram2dcontour\":[{\"type\":\"histogram2dcontour\",\"colorbar\":{\"outlinewidth\":0,\"ticks\":\"\"},\"colorscale\":[[0.0,\"#0d0887\"],[0.1111111111111111,\"#46039f\"],[0.2222222222222222,\"#7201a8\"],[0.3333333333333333,\"#9c179e\"],[0.4444444444444444,\"#bd3786\"],[0.5555555555555556,\"#d8576b\"],[0.6666666666666666,\"#ed7953\"],[0.7777777777777778,\"#fb9f3a\"],[0.8888888888888888,\"#fdca26\"],[1.0,\"#f0f921\"]]}],\"choropleth\":[{\"type\":\"choropleth\",\"colorbar\":{\"outlinewidth\":0,\"ticks\":\"\"}}],\"histogram2d\":[{\"type\":\"histogram2d\",\"colorbar\":{\"outlinewidth\":0,\"ticks\":\"\"},\"colorscale\":[[0.0,\"#0d0887\"],[0.1111111111111111,\"#46039f\"],[0.2222222222222222,\"#7201a8\"],[0.3333333333333333,\"#9c179e\"],[0.4444444444444444,\"#bd3786\"],[0.5555555555555556,\"#d8576b\"],[0.6666666666666666,\"#ed7953\"],[0.7777777777777778,\"#fb9f3a\"],[0.8888888888888888,\"#fdca26\"],[1.0,\"#f0f921\"]]}],\"heatmap\":[{\"type\":\"heatmap\",\"colorbar\":{\"outlinewidth\":0,\"ticks\":\"\"},\"colorscale\":[[0.0,\"#0d0887\"],[0.1111111111111111,\"#46039f\"],[0.2222222222222222,\"#7201a8\"],[0.3333333333333333,\"#9c179e\"],[0.4444444444444444,\"#bd3786\"],[0.5555555555555556,\"#d8576b\"],[0.6666666666666666,\"#ed7953\"],[0.7777777777777778,\"#fb9f3a\"],[0.8888888888888888,\"#fdca26\"],[1.0,\"#f0f921\"]]}],\"heatmapgl\":[{\"type\":\"heatmapgl\",\"colorbar\":{\"outlinewidth\":0,\"ticks\":\"\"},\"colorscale\":[[0.0,\"#0d0887\"],[0.1111111111111111,\"#46039f\"],[0.2222222222222222,\"#7201a8\"],[0.3333333333333333,\"#9c179e\"],[0.4444444444444444,\"#bd3786\"],[0.5555555555555556,\"#d8576b\"],[0.6666666666666666,\"#ed7953\"],[0.7777777777777778,\"#fb9f3a\"],[0.8888888888888888,\"#fdca26\"],[1.0,\"#f0f921\"]]}],\"contourcarpet\":[{\"type\":\"contourcarpet\",\"colorbar\":{\"outlinewidth\":0,\"ticks\":\"\"}}],\"contour\":[{\"type\":\"contour\",\"colorbar\":{\"outlinewidth\":0,\"ticks\":\"\"},\"colorscale\":[[0.0,\"#0d0887\"],[0.1111111111111111,\"#46039f\"],[0.2222222222222222,\"#7201a8\"],[0.3333333333333333,\"#9c179e\"],[0.4444444444444444,\"#bd3786\"],[0.5555555555555556,\"#d8576b\"],[0.6666666666666666,\"#ed7953\"],[0.7777777777777778,\"#fb9f3a\"],[0.8888888888888888,\"#fdca26\"],[1.0,\"#f0f921\"]]}],\"surface\":[{\"type\":\"surface\",\"colorbar\":{\"outlinewidth\":0,\"ticks\":\"\"},\"colorscale\":[[0.0,\"#0d0887\"],[0.1111111111111111,\"#46039f\"],[0.2222222222222222,\"#7201a8\"],[0.3333333333333333,\"#9c179e\"],[0.4444444444444444,\"#bd3786\"],[0.5555555555555556,\"#d8576b\"],[0.6666666666666666,\"#ed7953\"],[0.7777777777777778,\"#fb9f3a\"],[0.8888888888888888,\"#fdca26\"],[1.0,\"#f0f921\"]]}],\"mesh3d\":[{\"type\":\"mesh3d\",\"colorbar\":{\"outlinewidth\":0,\"ticks\":\"\"}}],\"scatter\":[{\"fillpattern\":{\"fillmode\":\"overlay\",\"size\":10,\"solidity\":0.2},\"type\":\"scatter\"}],\"parcoords\":[{\"type\":\"parcoords\",\"line\":{\"colorbar\":{\"outlinewidth\":0,\"ticks\":\"\"}}}],\"scatterpolargl\":[{\"type\":\"scatterpolargl\",\"marker\":{\"colorbar\":{\"outlinewidth\":0,\"ticks\":\"\"}}}],\"bar\":[{\"error_x\":{\"color\":\"#2a3f5f\"},\"error_y\":{\"color\":\"#2a3f5f\"},\"marker\":{\"line\":{\"color\":\"#E5ECF6\",\"width\":0.5},\"pattern\":{\"fillmode\":\"overlay\",\"size\":10,\"solidity\":0.2}},\"type\":\"bar\"}],\"scattergeo\":[{\"type\":\"scattergeo\",\"marker\":{\"colorbar\":{\"outlinewidth\":0,\"ticks\":\"\"}}}],\"scatterpolar\":[{\"type\":\"scatterpolar\",\"marker\":{\"colorbar\":{\"outlinewidth\":0,\"ticks\":\"\"}}}],\"histogram\":[{\"marker\":{\"pattern\":{\"fillmode\":\"overlay\",\"size\":10,\"solidity\":0.2}},\"type\":\"histogram\"}],\"scattergl\":[{\"type\":\"scattergl\",\"marker\":{\"colorbar\":{\"outlinewidth\":0,\"ticks\":\"\"}}}],\"scatter3d\":[{\"type\":\"scatter3d\",\"line\":{\"colorbar\":{\"outlinewidth\":0,\"ticks\":\"\"}},\"marker\":{\"colorbar\":{\"outlinewidth\":0,\"ticks\":\"\"}}}],\"scattermapbox\":[{\"type\":\"scattermapbox\",\"marker\":{\"colorbar\":{\"outlinewidth\":0,\"ticks\":\"\"}}}],\"scatterternary\":[{\"type\":\"scatterternary\",\"marker\":{\"colorbar\":{\"outlinewidth\":0,\"ticks\":\"\"}}}],\"scattercarpet\":[{\"type\":\"scattercarpet\",\"marker\":{\"colorbar\":{\"outlinewidth\":0,\"ticks\":\"\"}}}],\"carpet\":[{\"aaxis\":{\"endlinecolor\":\"#2a3f5f\",\"gridcolor\":\"white\",\"linecolor\":\"white\",\"minorgridcolor\":\"white\",\"startlinecolor\":\"#2a3f5f\"},\"baxis\":{\"endlinecolor\":\"#2a3f5f\",\"gridcolor\":\"white\",\"linecolor\":\"white\",\"minorgridcolor\":\"white\",\"startlinecolor\":\"#2a3f5f\"},\"type\":\"carpet\"}],\"table\":[{\"cells\":{\"fill\":{\"color\":\"#EBF0F8\"},\"line\":{\"color\":\"white\"}},\"header\":{\"fill\":{\"color\":\"#C8D4E3\"},\"line\":{\"color\":\"white\"}},\"type\":\"table\"}],\"barpolar\":[{\"marker\":{\"line\":{\"color\":\"#E5ECF6\",\"width\":0.5},\"pattern\":{\"fillmode\":\"overlay\",\"size\":10,\"solidity\":0.2}},\"type\":\"barpolar\"}],\"pie\":[{\"automargin\":true,\"type\":\"pie\"}]},\"layout\":{\"autotypenumbers\":\"strict\",\"colorway\":[\"#636efa\",\"#EF553B\",\"#00cc96\",\"#ab63fa\",\"#FFA15A\",\"#19d3f3\",\"#FF6692\",\"#B6E880\",\"#FF97FF\",\"#FECB52\"],\"font\":{\"color\":\"#2a3f5f\"},\"hovermode\":\"closest\",\"hoverlabel\":{\"align\":\"left\"},\"paper_bgcolor\":\"white\",\"plot_bgcolor\":\"#E5ECF6\",\"polar\":{\"bgcolor\":\"#E5ECF6\",\"angularaxis\":{\"gridcolor\":\"white\",\"linecolor\":\"white\",\"ticks\":\"\"},\"radialaxis\":{\"gridcolor\":\"white\",\"linecolor\":\"white\",\"ticks\":\"\"}},\"ternary\":{\"bgcolor\":\"#E5ECF6\",\"aaxis\":{\"gridcolor\":\"white\",\"linecolor\":\"white\",\"ticks\":\"\"},\"baxis\":{\"gridcolor\":\"white\",\"linecolor\":\"white\",\"ticks\":\"\"},\"caxis\":{\"gridcolor\":\"white\",\"linecolor\":\"white\",\"ticks\":\"\"}},\"coloraxis\":{\"colorbar\":{\"outlinewidth\":0,\"ticks\":\"\"}},\"colorscale\":{\"sequential\":[[0.0,\"#0d0887\"],[0.1111111111111111,\"#46039f\"],[0.2222222222222222,\"#7201a8\"],[0.3333333333333333,\"#9c179e\"],[0.4444444444444444,\"#bd3786\"],[0.5555555555555556,\"#d8576b\"],[0.6666666666666666,\"#ed7953\"],[0.7777777777777778,\"#fb9f3a\"],[0.8888888888888888,\"#fdca26\"],[1.0,\"#f0f921\"]],\"sequentialminus\":[[0.0,\"#0d0887\"],[0.1111111111111111,\"#46039f\"],[0.2222222222222222,\"#7201a8\"],[0.3333333333333333,\"#9c179e\"],[0.4444444444444444,\"#bd3786\"],[0.5555555555555556,\"#d8576b\"],[0.6666666666666666,\"#ed7953\"],[0.7777777777777778,\"#fb9f3a\"],[0.8888888888888888,\"#fdca26\"],[1.0,\"#f0f921\"]],\"diverging\":[[0,\"#8e0152\"],[0.1,\"#c51b7d\"],[0.2,\"#de77ae\"],[0.3,\"#f1b6da\"],[0.4,\"#fde0ef\"],[0.5,\"#f7f7f7\"],[0.6,\"#e6f5d0\"],[0.7,\"#b8e186\"],[0.8,\"#7fbc41\"],[0.9,\"#4d9221\"],[1,\"#276419\"]]},\"xaxis\":{\"gridcolor\":\"white\",\"linecolor\":\"white\",\"ticks\":\"\",\"title\":{\"standoff\":15},\"zerolinecolor\":\"white\",\"automargin\":true,\"zerolinewidth\":2},\"yaxis\":{\"gridcolor\":\"white\",\"linecolor\":\"white\",\"ticks\":\"\",\"title\":{\"standoff\":15},\"zerolinecolor\":\"white\",\"automargin\":true,\"zerolinewidth\":2},\"scene\":{\"xaxis\":{\"backgroundcolor\":\"#E5ECF6\",\"gridcolor\":\"white\",\"linecolor\":\"white\",\"showbackground\":true,\"ticks\":\"\",\"zerolinecolor\":\"white\",\"gridwidth\":2},\"yaxis\":{\"backgroundcolor\":\"#E5ECF6\",\"gridcolor\":\"white\",\"linecolor\":\"white\",\"showbackground\":true,\"ticks\":\"\",\"zerolinecolor\":\"white\",\"gridwidth\":2},\"zaxis\":{\"backgroundcolor\":\"#E5ECF6\",\"gridcolor\":\"white\",\"linecolor\":\"white\",\"showbackground\":true,\"ticks\":\"\",\"zerolinecolor\":\"white\",\"gridwidth\":2}},\"shapedefaults\":{\"line\":{\"color\":\"#2a3f5f\"}},\"annotationdefaults\":{\"arrowcolor\":\"#2a3f5f\",\"arrowhead\":0,\"arrowwidth\":1},\"geo\":{\"bgcolor\":\"white\",\"landcolor\":\"#E5ECF6\",\"subunitcolor\":\"white\",\"showland\":true,\"showlakes\":true,\"lakecolor\":\"white\"},\"title\":{\"x\":0.05},\"mapbox\":{\"style\":\"light\"}}},\"xaxis\":{\"anchor\":\"y\",\"domain\":[0.0,1.0],\"title\":{\"text\":\"Country\"}},\"yaxis\":{\"anchor\":\"x\",\"domain\":[0.0,1.0],\"title\":{\"text\":\"profit\"}},\"coloraxis\":{\"colorbar\":{\"title\":{\"text\":\"SalesAmount\"}},\"colorscale\":[[0.0,\"#0d0887\"],[0.1111111111111111,\"#46039f\"],[0.2222222222222222,\"#7201a8\"],[0.3333333333333333,\"#9c179e\"],[0.4444444444444444,\"#bd3786\"],[0.5555555555555556,\"#d8576b\"],[0.6666666666666666,\"#ed7953\"],[0.7777777777777778,\"#fb9f3a\"],[0.8888888888888888,\"#fdca26\"],[1.0,\"#f0f921\"]]},\"legend\":{\"tracegroupgap\":0},\"margin\":{\"t\":60},\"barmode\":\"relative\",\"height\":400},                        {\"responsive\": true}                    ).then(function(){\n",
       "                            \n",
       "var gd = document.getElementById('20bab869-13e3-4cf1-a3ad-109deebbc476');\n",
       "var x = new MutationObserver(function (mutations, observer) {{\n",
       "        var display = window.getComputedStyle(gd).display;\n",
       "        if (!display || display === 'none') {{\n",
       "            console.log([gd, 'removed!']);\n",
       "            Plotly.purge(gd);\n",
       "            observer.disconnect();\n",
       "        }}\n",
       "}});\n",
       "\n",
       "// Listen for the removal of the full notebook cells\n",
       "var notebookContainer = gd.closest('#notebook-container');\n",
       "if (notebookContainer) {{\n",
       "    x.observe(notebookContainer, {childList: true});\n",
       "}}\n",
       "\n",
       "// Listen for the clearing of the current output cell\n",
       "var outputEl = gd.closest('.output');\n",
       "if (outputEl) {{\n",
       "    x.observe(outputEl, {childList: true});\n",
       "}}\n",
       "\n",
       "                        })                };                });            </script>        </div>"
      ]
     },
     "metadata": {},
     "output_type": "display_data"
    }
   ],
   "source": [
    "country_sales = pd.DataFrame(df.groupby('Country').sum()[['SalesAmount', 'profit']])\n",
    "country_sales.reset_index(inplace=True)\n",
    "\n",
    "fig = px.bar(country_sales, x='Country', y='profit',text_auto='.2s',\n",
    "             color='SalesAmount',\n",
    "             height=400)\n",
    "fig.show()"
   ]
  },
  {
   "cell_type": "code",
   "execution_count": 53,
   "id": "f1b32b7b-1897-49fb-964c-9e43bb5e41c7",
   "metadata": {},
   "outputs": [],
   "source": [
    "product_sales = df.groupby('Category')['profit'].sum().reset_index()"
   ]
  },
  {
   "cell_type": "code",
   "execution_count": 59,
   "id": "25b1e0a9-0833-43eb-b7cb-6f4b12c68784",
   "metadata": {},
   "outputs": [
    {
     "data": {
      "image/png": "[encoded data removed]",
      "text/plain": [
       "<Figure size 864x360 with 1 Axes>"
      ]
     },
     "metadata": {},
     "output_type": "display_data"
    }
   ],
   "source": [
    "plt.figure(figsize=(12,5))\n",
    "sns.barplot(x='Category', y='profit', data=product_sales)\n",
    "plt.xticks(rotation=90)\n",
    "plt.xlabel('Category')\n",
    "plt.ylabel('Profit')\n",
    "plt.title('Sales by Product Category')\n",
    "plt.tight_layout()\n",
    "plt.savefig('sales_by_category.png')"
   ]
  },
  {
   "cell_type": "markdown",
   "id": "a847f7b2-c8e1-441f-af82-b52b880937a3",
   "metadata": {},
   "source": [
    " Which products are often sold together?"
   ]
  },
  {
   "cell_type": "code",
   "execution_count": 64,
   "id": "84ad9ba9-8473-4ece-93ee-9ad40870fc71",
   "metadata": {},
   "outputs": [],
   "source": [
    "# By setting keep on False, all duplicates are True since we only want repeated order number\n",
    "dup_order = df[df['SalesOrderNumber'].duplicated(keep=False)]"
   ]
  },
  {
   "cell_type": "code",
   "execution_count": 65,
   "id": "f1c49b55-fb7a-4bae-96e9-1e41960b92b4",
   "metadata": {},
   "outputs": [],
   "source": [
    "# Group the data based on sales order number and product name because the products\n",
    "# that bought together will have share same order number\n",
    "dup_order['grouped'] = df.groupby('SalesOrderNumber')['ProductName'].transform(lambda x: ','.join(x))\n",
    "dup_order = dup_order[['SalesOrderNumber', 'grouped']].drop_duplicates()"
   ]
  },
  {
   "cell_type": "code",
   "execution_count": 66,
   "id": "bfaf258a-6ef0-4e21-8daa-375f835aeb0b",
   "metadata": {},
   "outputs": [
    {
     "data": {
      "image/png": "[encoded data removed]",
      "text/plain": [
       "<Figure size 432x288 with 1 Axes>"
      ]
     },
     "metadata": {},
     "output_type": "display_data"
    }
   ],
   "source": [
    "count = dup_order['grouped'].value_counts()[0:5].plot.pie()"
   ]
  },
  {
   "cell_type": "markdown",
   "id": "470e9f5e-8ef6-43ef-8fa4-531ede2aea92",
   "metadata": {},
   "source": [
    "From the above pie diagram we can draw a conclusion that these products are mostly Purchased together"
   ]
  },
  {
   "cell_type": "code",
   "execution_count": 67,
   "id": "d14e5efe-c2ef-478e-9c62-2ec892bb089b",
   "metadata": {},
   "outputs": [
    {
     "name": "stdout",
     "output_type": "stream",
     "text": [
      "('Mountain Bottle Cage', 'Water Bottle - 30 oz.') 1623\n",
      "('Road Bottle Cage', 'Water Bottle - 30 oz.') 1513\n",
      "('HL Mountain Tire', 'Mountain Tire Tube') 915\n",
      "('Touring Tire', 'Touring Tire Tube') 758\n",
      "('Mountain Tire Tube', 'Patch Kit/8 Patches') 737\n",
      "('Mountain Tire Tube', 'ML Mountain Tire') 727\n",
      "('Water Bottle - 30 oz.', 'AWC Logo Cap') 599\n",
      "('Road Tire Tube', 'ML Road Tire') 580\n",
      "('Road Tire Tube', 'Patch Kit/8 Patches') 556\n",
      "('HL Road Tire', 'Road Tire Tube') 552\n"
     ]
    }
   ],
   "source": [
    "count = Counter()\n",
    "\n",
    "for row in dup_order['grouped']:\n",
    "    row_list  = row.split(',')\n",
    "    count.update(Counter(combinations(row_list, 2)))\n",
    "    \n",
    "for key, value in count.most_common(10):\n",
    "    print(key, value)"
   ]
  },
  {
   "cell_type": "markdown",
   "id": "f34880e6-cbc1-4624-aa3e-3184a6246d71",
   "metadata": {},
   "source": [
    "The above products can be sold in bundle"
   ]
  },
  {
   "cell_type": "markdown",
   "id": "639a18b4-87fa-496d-a4e5-3871b4bd7fbf",
   "metadata": {},
   "source": [
    "To calculate which product is sold the most"
   ]
  },
  {
   "cell_type": "code",
   "execution_count": 68,
   "id": "d9c8e836-4fb6-4ad6-b6fd-8607cef1a3af",
   "metadata": {},
   "outputs": [
    {
     "data": {
      "image/png": "[encoded data removed]",
      "text/plain": [
       "<Figure size 432x288 with 1 Axes>"
      ]
     },
     "metadata": {},
     "output_type": "display_data"
    }
   ],
   "source": [
    "product_group = df.groupby('ProductName')\n",
    "quantity_ordered = product_group['OrderQuantity'].sum().sort_values(ascending=False)[:10]\n",
    "products = quantity_ordered.index.tolist()\n",
    "\n",
    "plt.bar(products, quantity_ordered, )\n",
    "plt.xticks(products, rotation='vertical', size=8)\n",
    "plt.show()"
   ]
  },
  {
   "cell_type": "code",
   "execution_count": 69,
   "id": "06fbe2fb-6a9a-4246-a500-2b57dcfbf09f",
   "metadata": {},
   "outputs": [],
   "source": [
    "prices = df.groupby('ProductName').mean()['UnitPrice']\n",
    "prices = prices[products]"
   ]
  },
  {
   "cell_type": "code",
   "execution_count": 70,
   "id": "e610d57e-64d5-46bf-93c2-4fe5d33e35a4",
   "metadata": {},
   "outputs": [
    {
     "data": {
      "image/png": "[encoded data removed]",
      "text/plain": [
       "<Figure size 432x288 with 2 Axes>"
      ]
     },
     "metadata": {},
     "output_type": "display_data"
    }
   ],
   "source": [
    "fig, ax1 = plt.subplots()\n",
    "\n",
    "ax2 = ax1.twinx()\n",
    "ax1.bar(products, quantity_ordered, color='#D9B300')\n",
    "ax2.plot(products, prices, '#374045')\n",
    "\n",
    "ax1.set_xlabel('Product Name')\n",
    "ax1.set_ylabel('Quantity Ordered', color='#D9B300')\n",
    "ax2.set_ylabel('Price($)', color='#374045')\n",
    "ax1.set_xticklabels(products, rotation='vertical')\n",
    "\n",
    "plt.show();"
   ]
  },
  {
   "cell_type": "code",
   "execution_count": 71,
   "id": "ea21eda0-523b-42e9-ab19-a1730134f2a0",
   "metadata": {},
   "outputs": [
    {
     "data": {
      "text/plain": [
       "-0.5333019792658484"
      ]
     },
     "execution_count": 71,
     "metadata": {},
     "output_type": "execute_result"
    }
   ],
   "source": [
    "prices.corr(quantity_ordered)"
   ]
  },
  {
   "cell_type": "markdown",
   "id": "0a03a8f2-d635-4258-bb2b-0bcc3492af7e",
   "metadata": {},
   "source": [
    "From the above correlation we can conclude that low price product has high demand."
   ]
  },
  {
   "cell_type": "markdown",
   "id": "6cd6b9e8-8f02-4aa2-ae86-5f2b2c7c6c5f",
   "metadata": {},
   "source": [
    "Correlation between yearly income range and purchase"
   ]
  },
  {
   "cell_type": "code",
   "execution_count": 72,
   "id": "35d72c5d-0ecb-4fc6-9b9a-79297a4f7be1",
   "metadata": {},
   "outputs": [],
   "source": [
    "def create_bins(lower_bound, width, quantity):\n",
    "    bins = []\n",
    "    for low in range(lower_bound, \n",
    "                     lower_bound + quantity*width + 1, width):\n",
    "        bins.append((low, low+width))\n",
    "    return bins"
   ]
  },
  {
   "cell_type": "code",
   "execution_count": 73,
   "id": "39836dfe-208a-4c73-a558-2ff3f37442b2",
   "metadata": {},
   "outputs": [],
   "source": [
    "bins = create_bins(lower_bound=10000,\n",
    "                   width=30000,\n",
    "                   quantity=5)\n",
    "bins2 = pd.IntervalIndex.from_tuples(bins)\n",
    "df['salary_range'] = pd.cut(df['YearlyIncome'], bins2)"
   ]
  },
  {
   "cell_type": "code",
   "execution_count": 74,
   "id": "f0d71937-e7a3-4eeb-a371-051c49badb13",
   "metadata": {},
   "outputs": [
    {
     "data": {
      "image/png": "[encoded data removed]",
      "text/plain": [
       "<Figure size 432x288 with 1 Axes>"
      ]
     },
     "metadata": {},
     "output_type": "display_data"
    }
   ],
   "source": [
    "df_4 = df.groupby('salary_range')['SalesAmount'].mean().to_frame()\n",
    "df_4.reset_index(inplace=True)\n",
    "sns.barplot(x=\"SalesAmount\", y=\"salary_range\", data=df_4);"
   ]
  },
  {
   "cell_type": "markdown",
   "id": "8ccc7e57-e83c-4d09-adf4-8338340c28f6",
   "metadata": {},
   "source": [
    "From above we can conclude that higher salary range leads to increase in purchase."
   ]
  },
  {
   "cell_type": "markdown",
   "id": "b51b1b79-6256-4524-b0d9-fe72404d9208",
   "metadata": {},
   "source": [
    "# Analyse sales by customer segment"
   ]
  },
  {
   "cell_type": "code",
   "execution_count": 76,
   "id": "ef4d70f4-702a-4d76-b163-47eaa18bf892",
   "metadata": {},
   "outputs": [],
   "source": [
    "# RFM stands for recency, frequency, monetary value.\n",
    "#  In business analytics, we often use this concept to divide\n",
    "#  customers into different segments, like high-value customers,\n",
    "#  medium value customers or low-value customers, and similarly many others.\n",
    "# Recency: How recently has the customer made a transaction with us\n",
    "# Frequency: How frequent is the customer in ordering/buying some product from us\n",
    "# Monetary: How much does the customer spend on purchasing products from us"
   ]
  },
  {
   "cell_type": "code",
   "execution_count": 77,
   "id": "dab39e84-7c8b-4ecc-9986-e8764fc80af2",
   "metadata": {},
   "outputs": [],
   "source": [
    "#  calculating recency for customers who had made a purchase with a company\n",
    "\n",
    "df_recency = df.groupby(by='FullName',\n",
    "                        as_index=False)['OrderDate'].max()\n",
    "df_recency.columns = ['CustomerName', 'LastPurchaseDate']\n",
    "recent_date = df_recency['LastPurchaseDate'].max()\n",
    "df_recency['Recency'] = df_recency['LastPurchaseDate'].apply(\n",
    "    lambda x: (recent_date - x).days)"
   ]
  },
  {
   "cell_type": "code",
   "execution_count": 78,
   "id": "10088eef-f2e8-4d1d-9882-3586eb8630df",
   "metadata": {},
   "outputs": [],
   "source": [
    "#  calculating the frequency of frequent transactions of the\n",
    "#  customer in ordering/buying some product from the company.\n",
    "\n",
    "\n",
    "frequency_df = df.drop_duplicates().groupby(\n",
    "    by=['FullName'], as_index=False)['OrderDate'].count()\n",
    "frequency_df.columns = ['CustomerName', 'Frequency']\n",
    "# frequency_df.head()"
   ]
  },
  {
   "cell_type": "code",
   "execution_count": 79,
   "id": "c0a45f04-6985-4403-8989-2199bada739d",
   "metadata": {},
   "outputs": [],
   "source": [
    "monetary_df = df.groupby(by='FullName', as_index=False)['SalesAmount'].sum()\n",
    "monetary_df.columns = ['CustomerName', 'Monetary']\n",
    "# monetary_df.head()"
   ]
  },
  {
   "cell_type": "code",
   "execution_count": 80,
   "id": "783a6fcd-6c9d-4110-bfdc-2d72cdfb33bd",
   "metadata": {},
   "outputs": [],
   "source": [
    "# merging dataset\n",
    "rf_df = df_recency.merge(frequency_df, on='CustomerName')\n",
    "rfm_df = rf_df.merge(monetary_df, on='CustomerName').drop(\n",
    "    columns='LastPurchaseDate')\n",
    "# rfm_df.head()"
   ]
  },
  {
   "cell_type": "code",
   "execution_count": 81,
   "id": "31f3f6d2-d014-40f6-9934-a62a742cb9aa",
   "metadata": {},
   "outputs": [],
   "source": [
    "rfm_df['R_rank'] = rfm_df['Recency'].rank(ascending=False)\n",
    "rfm_df['F_rank'] = rfm_df['Frequency'].rank(ascending=True)\n",
    "rfm_df['M_rank'] = rfm_df['Monetary'].rank(ascending=True)\n",
    " \n",
    "# normalizing the rank of the customers\n",
    "rfm_df['R_rank_norm'] = (rfm_df['R_rank']/rfm_df['R_rank'].max())*100\n",
    "rfm_df['F_rank_norm'] = (rfm_df['F_rank']/rfm_df['F_rank'].max())*100\n",
    "rfm_df['M_rank_norm'] = (rfm_df['F_rank']/rfm_df['M_rank'].max())*100\n",
    " \n",
    "rfm_df.drop(columns=['R_rank', 'F_rank', 'M_rank'], inplace=True)\n",
    " \n",
    "# rfm_df.head()"
   ]
  },
  {
   "cell_type": "code",
   "execution_count": 82,
   "id": "ad9004bd-f27f-4d4b-a95a-72cbd6162157",
   "metadata": {},
   "outputs": [],
   "source": [
    "rfm_df['RFM_Score'] = 0.15*rfm_df['R_rank_norm']+0.28 * \\\n",
    "    rfm_df['F_rank_norm']+0.57*rfm_df['M_rank_norm']\n",
    "rfm_df['RFM_Score'] *= 0.05\n",
    "rfm_df = rfm_df.round(2)\n",
    "# rfm_df[['CustomerName', 'RFM_Score']].head(7)"
   ]
  },
  {
   "cell_type": "code",
   "execution_count": 83,
   "id": "ff52c198-0609-476c-bc45-07cb110645ad",
   "metadata": {},
   "outputs": [],
   "source": [
    "rfm_df[\"Customer_segment\"] = np.where(rfm_df['RFM_Score'] >\n",
    "                                      4.5, \"Top Customers\",\n",
    "                                      (np.where(\n",
    "                                        rfm_df['RFM_Score'] > 4,\n",
    "                                        \"High value Customer\",\n",
    "                                        (np.where(\n",
    "    rfm_df['RFM_Score'] > 3,\n",
    "                             \"Medium Value Customer\",\n",
    "                             np.where(rfm_df['RFM_Score'] > 1.6,\n",
    "                            'Low Value Customers', 'Lost Customers'))))))\n",
    "# rfm_df[['CustomerName', 'RFM_Score', 'Customer_segment']].head(20)"
   ]
  },
  {
   "cell_type": "code",
   "execution_count": 84,
   "id": "fa222095-29d9-45a4-8581-aadf15ade41f",
   "metadata": {},
   "outputs": [
    {
     "data": {
      "image/png": "[encoded data removed]",
      "text/plain": [
       "<Figure size 432x288 with 1 Axes>"
      ]
     },
     "metadata": {},
     "output_type": "display_data"
    }
   ],
   "source": [
    "plt.pie(rfm_df.Customer_segment.value_counts(),\n",
    "        labels=rfm_df.Customer_segment.value_counts().index,\n",
    "        autopct='%.0f%%')\n",
    "plt.show()"
   ]
  },
  {
   "cell_type": "markdown",
   "id": "028762cb-af2a-4d2e-83a1-a97296f83d5d",
   "metadata": {},
   "source": [
    "According to the customer sales segmentation described above, approximately 15% of our clients are high value, whereas the majority of our client are low value and lost customers"
   ]
  },
  {
   "cell_type": "markdown",
   "id": "cf7b72d9-2ccc-487d-9f45-2ca1c2ee8d02",
   "metadata": {},
   "source": [
    "# Cohort Analysis"
   ]
  },
  {
   "cell_type": "code",
   "execution_count": 98,
   "id": "55e74cd9-c3d4-44aa-b203-b75cd9cfac12",
   "metadata": {},
   "outputs": [],
   "source": [
    "# create an invoice month\n",
    "\n",
    "# Function for month\n",
    "def get_month(x):\n",
    "  return dt.datetime(x.year, x.month,1)\n",
    "\n",
    "# apply the function\n",
    "df['InvoiceMonth'] = df['OrderDate'].apply(get_month)\n",
    "# create a column index with the minimum invoice date aka first time customer was aquired\n",
    "df['CohortMonth'] = df.groupby('CustomerKey')['InvoiceMonth'].transform('min')"
   ]
  },
  {
   "cell_type": "code",
   "execution_count": 99,
   "id": "f903e811-32cf-4dc2-af50-e1b7a07ab456",
   "metadata": {},
   "outputs": [],
   "source": [
    "# create a date element function to get a series for subtranction\n",
    "def get_date_elements(data,column):\n",
    "  day = data[column].dt.day\n",
    "  month = data[column].dt.month\n",
    "  year = data[column].dt.year\n",
    "  return day, month, year"
   ]
  },
  {
   "cell_type": "code",
   "execution_count": 100,
   "id": "d547b70b-7b17-483c-b410-d1eef5a6e60f",
   "metadata": {},
   "outputs": [],
   "source": [
    "# get date elements for our cohort and invoice columns(one dimentional Series)\n",
    "_, Invoice_month, Invoice_year = get_date_elements(df, 'InvoiceMonth')\n",
    "_, Cohort_month, Cohort_year = get_date_elements(df, 'CohortMonth')\n",
    "\n",
    "# create a cohort index\n",
    "year_diff = Invoice_year - Cohort_year\n",
    "month_diff = Invoice_month - Cohort_month\n",
    "df['CohortIndex'] = year_diff*12+month_diff+1\n",
    "\n",
    "# count the customer ID by grouping by Cohort Month and Cohort index\n",
    "cohort_data = df.groupby(['CohortMonth','CohortIndex'])['CustomerKey'].apply(pd.Series.nunique).reset_index()\n",
    "\n",
    "# create pivot table\n",
    "cohort_table = cohort_data.pivot(index='CohortMonth', columns=['CohortIndex'],values='CustomerKey')\n",
    "\n",
    "# change index\n",
    "cohort_table.index = cohort_table.index.strftime('%B %Y')\n",
    "\n",
    "# cohort table for percentage\n",
    "new_cohort_table = cohort_table.divide(cohort_table.iloc[:,0],axis=0)"
   ]
  },
  {
   "cell_type": "code",
   "execution_count": 101,
   "id": "8ddbfb51-60fd-4111-8417-d75e8a0a5e8f",
   "metadata": {},
   "outputs": [
    {
     "data": {
      "text/plain": [
       "<AxesSubplot:xlabel='CohortIndex', ylabel='CohortMonth'>"
      ]
     },
     "execution_count": 101,
     "metadata": {},
     "output_type": "execute_result"
    },
    {
     "data": {
      "image/png": "[encoded data removed]",
      "text/plain": [
       "<Figure size 1800x1800 with 2 Axes>"
      ]
     },
     "metadata": {},
     "output_type": "display_data"
    }
   ],
   "source": [
    "# create percentages\n",
    "plt.figure(figsize=(25,25))\n",
    "sns.heatmap(new_cohort_table, annot=True, cmap='Blues',fmt='.0%')"
   ]
  },
  {
   "cell_type": "markdown",
   "id": "6d853a51-6fa7-44b6-88b2-9af16d3cab4b",
   "metadata": {},
   "source": [
    "->We can infer from the heatmap above that client retention in 2014 was subpar\n",
    "->Since August of 2015, we have noticed some customers returning, though not in large numbers\n",
    "->2016 brought about a slight improvement in retention"
   ]
  },
  {
   "cell_type": "code",
   "execution_count": null,
   "id": "ad90e906-a393-46ee-b800-8aaf38480a46",
   "metadata": {},
   "outputs": [],
   "source": []
  }
 ],
 "metadata": {
  "kernelspec": {
   "display_name": "Python 3 (ipykernel)",
   "language": "python",
   "name": "python3"
  },
  "language_info": {
   "codemirror_mode": {
    "name": "ipython",
    "version": 3
   },
   "file_extension": ".py",
   "mimetype": "text/x-python",
   "name": "python",
   "nbconvert_exporter": "python",
   "pygments_lexer": "ipython3",
   "version": "3.9.7"
  }
 },
 "nbformat": 4,
 "nbformat_minor": 5
}
